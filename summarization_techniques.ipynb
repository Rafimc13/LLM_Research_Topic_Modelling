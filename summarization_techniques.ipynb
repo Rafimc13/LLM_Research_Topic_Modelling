{
 "cells": [
  {
   "cell_type": "markdown",
   "id": "7664b7b5-8139-404c-882e-7d10fdcf4463",
   "metadata": {},
   "source": [
    "# SUMMARIZATION TECHNIQUES\n",
    "\n",
    "## USE OF DATASETS WITH GROUND TRUTH FOR COMPARING THE DIFFERENT SUMMARIZATION TECHNIQUES"
   ]
  },
  {
   "cell_type": "markdown",
   "id": "1ebeccf6-e477-48df-b0ac-9ed64138b6cb",
   "metadata": {},
   "source": [
    "### FIRST DATASET - "
   ]
  },
  {
   "cell_type": "markdown",
   "id": "bb962210-cfc8-48c8-aa48-f0e545729d6d",
   "metadata": {},
   "source": [
    "### 1ST SUMMARIZATION TECHNIQUE: SEPARATE COMMENTS RANDOMLY INTO GROUPS\n",
    "\n",
    "We are going to implement a simple technique by grouping the comments/reviews into groups randomly, create a summary for each group of comments and finally a final summarization based on the summaries of group of comments"
   ]
  },
  {
   "cell_type": "code",
   "execution_count": null,
   "id": "0476cc61-9238-4813-816e-f70d32234d1b",
   "metadata": {},
   "outputs": [],
   "source": []
  },
  {
   "cell_type": "markdown",
   "id": "bb395ff4-6d3a-47b1-bc5d-16d2e9ba6acd",
   "metadata": {},
   "source": [
    "### 2ND SUMMARIZATION TECHNIQUE: CLASSIFY COMMENTS BASED ON LABELS AND SUMMARY THE LABELS\n",
    "\n",
    "We are going to implement more complicated technique, in which we are going to classify comments based on some labels that we are going to define. For each label for are going to create summaries and finally a final summary based on these summaries"
   ]
  },
  {
   "cell_type": "code",
   "execution_count": null,
   "id": "1f9f71a8-163f-4250-81ca-1c2775ba9eef",
   "metadata": {},
   "outputs": [],
   "source": []
  },
  {
   "cell_type": "markdown",
   "id": "89a84ce3-8501-4fe3-8433-a088ebdc9dd8",
   "metadata": {},
   "source": [
    "### 3RD SUMMARIZATION TECHNIQUE: CLASSIFY COMMENTS BASED ON LABELS AND SUMMARY THE LABELS\n",
    "\n",
    "We are going to implement are final technique in which we hope to be the best. Initially, we are going to extract topics for each comment/review. Moreover, we are going to cluster them with our best performing clustering technique, and for each cluster we are going to make a summary. Finally, based on these summaries we are going to create a final summary. "
   ]
  },
  {
   "cell_type": "code",
   "execution_count": null,
   "id": "ca232f66-19b1-4713-a37c-01c90fd92f1f",
   "metadata": {},
   "outputs": [],
   "source": []
  },
  {
   "cell_type": "markdown",
   "id": "0f5ee374-28d7-4165-b5e5-4df190e044ed",
   "metadata": {},
   "source": [
    "### BENCMARKING BASED ON THE EXTRACTED SUMMARIES OF THE THREE (3) TECHNIQUES\n",
    "\n",
    "The evaluation will become by using these metrics: ROUGE score, BLEU score and BERTScore"
   ]
  },
  {
   "cell_type": "code",
   "execution_count": null,
   "id": "1479d97c-ce2b-4433-b5d9-bc6cff055691",
   "metadata": {},
   "outputs": [],
   "source": []
  }
 ],
 "metadata": {
  "kernelspec": {
   "display_name": "Python 3 (ipykernel)",
   "language": "python",
   "name": "python3"
  },
  "language_info": {
   "codemirror_mode": {
    "name": "ipython",
    "version": 3
   },
   "file_extension": ".py",
   "mimetype": "text/x-python",
   "name": "python",
   "nbconvert_exporter": "python",
   "pygments_lexer": "ipython3",
   "version": "3.11.3"
  }
 },
 "nbformat": 4,
 "nbformat_minor": 5
}
