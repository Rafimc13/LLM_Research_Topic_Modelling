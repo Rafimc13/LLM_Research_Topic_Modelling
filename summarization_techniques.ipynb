{
 "cells": [
  {
   "cell_type": "markdown",
   "id": "7664b7b5-8139-404c-882e-7d10fdcf4463",
   "metadata": {},
   "source": [
    "# SUMMARIZATION TECHNIQUES\n",
    "\n",
    "## USE OF DATASETS WITH GROUND TRUTH FOR COMPARING THE DIFFERENT SUMMARIZATION TECHNIQUES"
   ]
  },
  {
   "cell_type": "markdown",
   "id": "1ebeccf6-e477-48df-b0ac-9ed64138b6cb",
   "metadata": {},
   "source": [
    "### FIRST DATASET - BBC NEWS - A BASELINE DATASET WITH FIVE LABELS (GROUND TRUTH K=5)"
   ]
  },
  {
   "cell_type": "code",
   "execution_count": null,
   "id": "b4d26233-0fb7-4721-846c-0d825d26684a",
   "metadata": {},
   "outputs": [],
   "source": []
  }
 ],
 "metadata": {
  "kernelspec": {
   "display_name": "Python 3 (ipykernel)",
   "language": "python",
   "name": "python3"
  },
  "language_info": {
   "codemirror_mode": {
    "name": "ipython",
    "version": 3
   },
   "file_extension": ".py",
   "mimetype": "text/x-python",
   "name": "python",
   "nbconvert_exporter": "python",
   "pygments_lexer": "ipython3",
   "version": "3.11.3"
  }
 },
 "nbformat": 4,
 "nbformat_minor": 5
}
