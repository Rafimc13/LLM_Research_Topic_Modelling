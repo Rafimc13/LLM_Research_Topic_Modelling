{
 "cells": [
  {
   "cell_type": "markdown",
   "id": "95f76b00-1dde-4157-a873-318e38764779",
   "metadata": {},
   "source": [
    "## IMPLEMENT SUMMARIZATION TECHNIQUES WITH MULTI-NEWS DATASET INCLUDING GROUND TRUTH"
   ]
  },
  {
   "cell_type": "code",
   "execution_count": 2,
   "id": "b9239cca-f953-4631-867a-11e545da295a",
   "metadata": {},
   "outputs": [
    {
     "name": "stdout",
     "output_type": "stream",
     "text": [
      "                                            dialogue  \\\n",
      "0  national archives     yes , it ’ s that time a...   \n",
      "1  los angeles ( ap ) — in her first interview si...   \n",
      "2  gaithersburg , md . ( ap ) — a small , private...   \n",
      "3  tucker carlson exposes his own sexism on twitt...   \n",
      "4  a man accused of removing another man ' s test...   \n",
      "\n",
      "                                             summary  \n",
      "0  – the unemployment rate dropped to 8.2 % last ...  \n",
      "1  – shelly sterling plans \" eventually \" to divo...  \n",
      "2  – a twin-engine embraer jet that the faa descr...  \n",
      "3  – tucker carlson is in deep doodoo with conser...  \n",
      "4  – what are the three most horrifying words in ...  \n"
     ]
    }
   ],
   "source": [
    "import pandas as pd\n",
    "\n",
    "# Define the file paths for the source and target files\n",
    "source_file_path = 'datasets/multi_news/train.txt.src'\n",
    "target_file_path = 'datasets/multi_news/train.txt.tgt'\n",
    "\n",
    "# Load the source and target files\n",
    "with open(source_file_path, 'r', encoding='utf-8') as src_file:\n",
    "    dialogues = src_file.readlines()\n",
    "\n",
    "with open(target_file_path, 'r', encoding='utf-8') as tgt_file:\n",
    "    summaries = tgt_file.readlines()\n",
    "\n",
    "# Create a DataFrame from the loaded data\n",
    "df = pd.DataFrame({\n",
    "    'dialogue': dialogues,\n",
    "    'summary': summaries\n",
    "})\n",
    "\n",
    "# Display the first few rows of the DataFrame\n",
    "print(df.head())"
   ]
  },
  {
   "cell_type": "code",
   "execution_count": 3,
   "id": "40f1b17d-aea1-486f-97ef-7e58e6c19374",
   "metadata": {},
   "outputs": [
    {
     "name": "stdout",
     "output_type": "stream",
     "text": [
      "tucker carlson exposes his own sexism on twitter ( updated )     tucker carlson has done some good work in the past … his site , the daily caller , is a frequent stop of mine and many other conservatives . they were responsible for exposing the journolist scandal , which highlighted the planning and coordination of many members of the left-wing press . i will always be grateful to tucker ’ s team for bringing that story to light . this is also why i am so angered by tucker ’ s recent actions . i thought he was better than this .     if you haven ’ t heard by now , monday evening , tucker carlson posted a disturbing tweet about governor palin which said :     palin ’ s popularity falling in iowa , but maintains lead to become supreme commander of milfistan     aside from tucker ’ s sheep-like response to warped poll numbers , he also failed to take ownership of his sexist comment . he deleted the original ( which is why i had to link to a retweet ) obviously aware that what he had posted was wrong . unfortunately for him , many people had already seen it and responded . you can ’ t put the toothpaste back in the tube , tucker .     is this the sort of treatment that conservative women , who want to get involved in the process , are expected to put up with ? is it okay for male columnists ( conservative or otherwise ) to continue objectifying women in the world of politics ? no it ’ s not !     the best thing tucker carlson could do , is admit that what he tweeted was wrong , apologize to governor palin , and urge his fellow colleagues to be respectful with their language and written word . what he did was demeaning and offensive , and there is no place for it in conservative circles .     update : this is a poor attempt at an apology . tucker carlson tries to cover his tracks this morning by repeating the same mistakes he made last night . he wrote :     apparently charlie sheen got control of my twitter account last night while i was at dinner . apologies for his behavior .     he didn ’ t take responsibility for his comment and he fails horribly at humor . try again , and tucker … you ’ re not funny .     update ii : almost a day later , he finally apologizes :     i ’ m sorry for last night ’ s tweet . i meant absolutely no offense . not the first dumb thing i ’ ve said . hopefully the last .         story_separator_special_tag tweet with a location     you can add location information to your tweets , such as your city or precise location , from the web and via third-party applications . you always have the option to delete your tweet location history . learn more story_separator_special_tag i am not down with @karlrove @tuckercarlson misogynist mockery of @sarahpalinusa . sick of it . story_separator_special_tag on monday night , while the rest of the world was watching charlie sheen flame out live on cnn , tucker carlson took to twitter to make some impolitic statements of his own .     \" palin ' s popularity falling in iowa , but maintains lead to become supreme commander of milfistan , \" he wrote .     by the next morning , the tweet was deleted and he had apologized , writing , “apparently charlie sheen got control of my twitter account last night while i was at dinner . apologies for his behavior. ”     but that wasn ’ t enough to spare him the ire of conservative women on the blogosphere and twitter .     on tuesday , before carlson ’ s first apology , stacy drake , writing on conservatives4palin , praised carlson ’ s works at the daily caller , particularly the leaks of the journolist emails , saying that ’ s why his tweet stung so badly .     aside from tucker ’ s sheep-like response to warped poll numbers , he also failed to take ownership of his sexist comment . he deleted the original ( which is why i had to link to a retweet ) obviously aware that what he had posted was wrong . unfortunately for him , many people had already seen it and responded . you can ’ t put the toothpaste back in the tube , tucker .         is this the sort of treatment that conservative women , who want to get involved in the process , are expected to put up with ? is it okay for male columnists ( conservative or otherwise ) to continue objectifying women in the world of politics ? no it ’ s not !         she was unimpressed with his first apology , and called for him to apologize to palin while continuing to denounce him for sexism on her twitter account .     michelle malkin joined the calls tuesday , tweeting : “i am not down with @karlrove @tuckercarlson misogynist mockery of @sarahpalinusa . sick of it. ”     later tuesday , carlson obliged : “i ’ m sorry for last night ’ s tweet . i meant absolutely no offense . not the first dumb thing i ’ ve said . hopefully the last. ”     some bros have come to carlson ' s aid . tuesday , erick erickson tweeted , \" maybe my sense of humor needs to be recalibrated , but when i heard @tuckercarlson ' s milfistan comment , i laughed then got out my passport . \"     ( needless to say , drake was not amused. )     but by wednesday , the thing had escalated into a full-blown war of the sexes within the conservative blogosphere , with whitney pitcher taking carlson ' s tweet as inspiration for her post on conservatives4palin : \" milf – misogynists ( and elites ) i ’ d like to fulminate . \"     perhaps an additional reason that governor palin does not win the respect of the elite and establishment is that you cannot be praised for your “perfectly creased pants ” if you often wear a skirt , right david brooks ? the continued line of attack from the establishment and elite men in the gop have come as a result of governor palin ’ s genetic makeup .     this post has been updated to correct the spelling of stacy drake ' s first name .\n",
      "\n"
     ]
    }
   ],
   "source": [
    "print(df.iloc[3].dialogue)"
   ]
  },
  {
   "cell_type": "code",
   "execution_count": 5,
   "id": "d3866a14-fbb1-4476-9d93-9fda5e49fcc9",
   "metadata": {},
   "outputs": [
    {
     "name": "stdout",
     "output_type": "stream",
     "text": [
      "– tucker carlson is in deep doodoo with conservative women after an ill-advised tweet referencing sarah palin that he posted , then removed , monday night . \" palin ' s popularity falling in iowa , but maintains lead to become supreme commander of milfistan , \" he tweeted — and we probably don ' t need to tell you where that is . his first attempt at an apology , which he tweeted the next morning : \" apparently charlie sheen got control of my twitter account last night while i was at dinner . apologies for his behavior. ” that wasn ' t good enough for many conservative women , politico notes , rounding up reactions from bloggers to michelle malkin calling his behavior sexist and misogynistic . by late tuesday , carlson had offered up a more sincere-sounding apology : “i ’ m sorry for last night ’ s tweet . i meant absolutely no offense . not the first dumb thing i ’ ve said . hopefully the last. ” but at least one man — erick erickson , editor of redstate.com — was on carlson ' s side , tweeting his reaction to the post in question : \" i laughed then got out my passport . \"\n",
      "\n"
     ]
    }
   ],
   "source": [
    "print(df.iloc[3].summary)"
   ]
  },
  {
   "cell_type": "code",
   "execution_count": null,
   "id": "16297bb3-94d2-408c-a923-1a3c377277da",
   "metadata": {},
   "outputs": [],
   "source": []
  }
 ],
 "metadata": {
  "kernelspec": {
   "display_name": "Python 3 (ipykernel)",
   "language": "python",
   "name": "python3"
  },
  "language_info": {
   "codemirror_mode": {
    "name": "ipython",
    "version": 3
   },
   "file_extension": ".py",
   "mimetype": "text/x-python",
   "name": "python",
   "nbconvert_exporter": "python",
   "pygments_lexer": "ipython3",
   "version": "3.11.3"
  }
 },
 "nbformat": 4,
 "nbformat_minor": 5
}
