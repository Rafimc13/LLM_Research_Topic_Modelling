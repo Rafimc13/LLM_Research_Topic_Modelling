{
 "cells": [
  {
   "cell_type": "markdown",
   "id": "d0bad4a8-cf40-4c73-bfa4-f17f019dbb2d",
   "metadata": {},
   "source": [
    "# TOPIC MODELLING TECHNIQUES\n",
    "\n",
    "## USE OF DATASETS WITH GROUND TRUTH FOR COMPARING TOPIC MODELLING TECHNIQUES\n",
    "\n",
    "We are going to compare topic/keyword extraction of LLM with LDA"
   ]
  },
  {
   "cell_type": "code",
   "execution_count": 1,
   "id": "ae481da5-779d-4899-82ea-8dd6b3e104c8",
   "metadata": {},
   "outputs": [
    {
     "data": {
      "text/html": [
       "<div>\n",
       "<style scoped>\n",
       "    .dataframe tbody tr th:only-of-type {\n",
       "        vertical-align: middle;\n",
       "    }\n",
       "\n",
       "    .dataframe tbody tr th {\n",
       "        vertical-align: top;\n",
       "    }\n",
       "\n",
       "    .dataframe thead th {\n",
       "        text-align: right;\n",
       "    }\n",
       "</style>\n",
       "<table border=\"1\" class=\"dataframe\">\n",
       "  <thead>\n",
       "    <tr style=\"text-align: right;\">\n",
       "      <th></th>\n",
       "      <th>Unnamed: 0</th>\n",
       "      <th>newID</th>\n",
       "      <th>oldID</th>\n",
       "      <th>title</th>\n",
       "      <th>author</th>\n",
       "      <th>data_split</th>\n",
       "      <th>isTopicsAvailable</th>\n",
       "      <th>document_date</th>\n",
       "      <th>dateline</th>\n",
       "      <th>people</th>\n",
       "      <th>places</th>\n",
       "      <th>orgs</th>\n",
       "      <th>exchanges</th>\n",
       "      <th>topic_body</th>\n",
       "      <th>topics</th>\n",
       "    </tr>\n",
       "  </thead>\n",
       "  <tbody>\n",
       "    <tr>\n",
       "      <th>0</th>\n",
       "      <td>0</td>\n",
       "      <td>1</td>\n",
       "      <td>5544</td>\n",
       "      <td>BAHIA COCOA REVIEW</td>\n",
       "      <td>NaN</td>\n",
       "      <td>TRAIN</td>\n",
       "      <td>YES</td>\n",
       "      <td>26-FEB-1987 15:01:01.79</td>\n",
       "      <td>SALVADOR, Feb 26 -</td>\n",
       "      <td>[]</td>\n",
       "      <td>['el-salvador', 'usa', 'uruguay']</td>\n",
       "      <td>[]</td>\n",
       "      <td>[]</td>\n",
       "      <td>Showers continued throughout the week in\\nthe ...</td>\n",
       "      <td>['cocoa']</td>\n",
       "    </tr>\n",
       "    <tr>\n",
       "      <th>1</th>\n",
       "      <td>1</td>\n",
       "      <td>2</td>\n",
       "      <td>5545</td>\n",
       "      <td>STANDARD OIL &lt;SRD&gt; TO FORM FINANCIAL UNIT</td>\n",
       "      <td>NaN</td>\n",
       "      <td>TRAIN</td>\n",
       "      <td>NO</td>\n",
       "      <td>26-FEB-1987 15:02:20.00</td>\n",
       "      <td>CLEVELAND, Feb 26 -</td>\n",
       "      <td>[]</td>\n",
       "      <td>['usa']</td>\n",
       "      <td>[]</td>\n",
       "      <td>[]</td>\n",
       "      <td>Standard Oil Co and BP North America\\nInc said...</td>\n",
       "      <td>NaN</td>\n",
       "    </tr>\n",
       "    <tr>\n",
       "      <th>2</th>\n",
       "      <td>2</td>\n",
       "      <td>3</td>\n",
       "      <td>5546</td>\n",
       "      <td>TEXAS COMMERCE BANCSHARES &lt;TCB&gt; FILES PLAN</td>\n",
       "      <td>NaN</td>\n",
       "      <td>TRAIN</td>\n",
       "      <td>NO</td>\n",
       "      <td>26-FEB-1987 15:03:27.51</td>\n",
       "      <td>HOUSTON, Feb 26 -</td>\n",
       "      <td>[]</td>\n",
       "      <td>['usa']</td>\n",
       "      <td>[]</td>\n",
       "      <td>[]</td>\n",
       "      <td>Texas Commerce Bancshares Inc's Texas\\nCommerc...</td>\n",
       "      <td>NaN</td>\n",
       "    </tr>\n",
       "    <tr>\n",
       "      <th>3</th>\n",
       "      <td>3</td>\n",
       "      <td>4</td>\n",
       "      <td>5547</td>\n",
       "      <td>TALKING POINT/BANKAMERICA &lt;BAC&gt; EQUITY OFFER</td>\n",
       "      <td>by Janie Gabbett, Reuters</td>\n",
       "      <td>TRAIN</td>\n",
       "      <td>NO</td>\n",
       "      <td>26-FEB-1987 15:07:13.72</td>\n",
       "      <td>LOS ANGELES, Feb 26 -</td>\n",
       "      <td>[]</td>\n",
       "      <td>['usa', 'brazil']</td>\n",
       "      <td>[]</td>\n",
       "      <td>[]</td>\n",
       "      <td>BankAmerica Corp is not under\\npressure to act...</td>\n",
       "      <td>NaN</td>\n",
       "    </tr>\n",
       "    <tr>\n",
       "      <th>4</th>\n",
       "      <td>4</td>\n",
       "      <td>5</td>\n",
       "      <td>5548</td>\n",
       "      <td>NATIONAL AVERAGE PRICES FOR FARMER-OWNED RESERVE</td>\n",
       "      <td>NaN</td>\n",
       "      <td>TRAIN</td>\n",
       "      <td>YES</td>\n",
       "      <td>26-FEB-1987 15:10:44.60</td>\n",
       "      <td>WASHINGTON, Feb 26 -</td>\n",
       "      <td>[]</td>\n",
       "      <td>['usa']</td>\n",
       "      <td>[]</td>\n",
       "      <td>[]</td>\n",
       "      <td>The U.S. Agriculture Department\\nreported the ...</td>\n",
       "      <td>['grain', 'wheat', 'corn', 'barley', 'oat', 's...</td>\n",
       "    </tr>\n",
       "  </tbody>\n",
       "</table>\n",
       "</div>"
      ],
      "text/plain": [
       "   Unnamed: 0  newID  oldID                                             title  \\\n",
       "0           0      1   5544                                BAHIA COCOA REVIEW   \n",
       "1           1      2   5545         STANDARD OIL <SRD> TO FORM FINANCIAL UNIT   \n",
       "2           2      3   5546        TEXAS COMMERCE BANCSHARES <TCB> FILES PLAN   \n",
       "3           3      4   5547      TALKING POINT/BANKAMERICA <BAC> EQUITY OFFER   \n",
       "4           4      5   5548  NATIONAL AVERAGE PRICES FOR FARMER-OWNED RESERVE   \n",
       "\n",
       "                          author data_split isTopicsAvailable  \\\n",
       "0                            NaN      TRAIN               YES   \n",
       "1                            NaN      TRAIN                NO   \n",
       "2                            NaN      TRAIN                NO   \n",
       "3      by Janie Gabbett, Reuters      TRAIN                NO   \n",
       "4                            NaN      TRAIN               YES   \n",
       "\n",
       "             document_date                    dateline people  \\\n",
       "0  26-FEB-1987 15:01:01.79         SALVADOR, Feb 26 -      []   \n",
       "1  26-FEB-1987 15:02:20.00        CLEVELAND, Feb 26 -      []   \n",
       "2  26-FEB-1987 15:03:27.51          HOUSTON, Feb 26 -      []   \n",
       "3  26-FEB-1987 15:07:13.72      LOS ANGELES, Feb 26 -      []   \n",
       "4  26-FEB-1987 15:10:44.60       WASHINGTON, Feb 26 -      []   \n",
       "\n",
       "                              places orgs exchanges  \\\n",
       "0  ['el-salvador', 'usa', 'uruguay']   []        []   \n",
       "1                            ['usa']   []        []   \n",
       "2                            ['usa']   []        []   \n",
       "3                  ['usa', 'brazil']   []        []   \n",
       "4                            ['usa']   []        []   \n",
       "\n",
       "                                          topic_body  \\\n",
       "0  Showers continued throughout the week in\\nthe ...   \n",
       "1  Standard Oil Co and BP North America\\nInc said...   \n",
       "2  Texas Commerce Bancshares Inc's Texas\\nCommerc...   \n",
       "3  BankAmerica Corp is not under\\npressure to act...   \n",
       "4  The U.S. Agriculture Department\\nreported the ...   \n",
       "\n",
       "                                              topics  \n",
       "0                                          ['cocoa']  \n",
       "1                                                NaN  \n",
       "2                                                NaN  \n",
       "3                                                NaN  \n",
       "4  ['grain', 'wheat', 'corn', 'barley', 'oat', 's...  "
      ]
     },
     "execution_count": 1,
     "metadata": {},
     "output_type": "execute_result"
    }
   ],
   "source": [
    "import pandas as pd\n",
    "\n",
    "# load the csv file into a pandas DataFrame\n",
    "df = pd.read_csv('datasets/reuters_news/reuters21578_news.csv', low_memory=False)\n",
    "\n",
    "# display a sample\n",
    "df.head()"
   ]
  },
  {
   "cell_type": "code",
   "execution_count": 2,
   "id": "78e3f3c5-dc6b-4b80-8341-9857b2ebe7ac",
   "metadata": {},
   "outputs": [
    {
     "name": "stdout",
     "output_type": "stream",
     "text": [
      "Index(['Unnamed: 0', 'newID', 'oldID', 'title', 'author', 'data_split',\n",
      "       'isTopicsAvailable', 'document_date', 'dateline', 'people', 'places',\n",
      "       'orgs', 'exchanges', 'topic_body', 'topics'],\n",
      "      dtype='object')\n",
      "----------------------------------------------------------------------------------------------------------------------\n",
      "        Unnamed: 0        newID         oldID\n",
      "count  21578.00000  21578.00000  21578.000000\n",
      "mean   10788.50000  10789.50000  11257.664056\n",
      "std     6229.17639   6229.17639   6400.922319\n",
      "min        0.00000      1.00000      1.000000\n",
      "25%     5394.25000   5395.25000   5905.250000\n",
      "50%    10788.50000  10789.50000  11383.500000\n",
      "75%    16182.75000  16183.75000  16777.750000\n",
      "max    21577.00000  21578.00000  22173.000000\n",
      "----------------------------------------------------------------------------------------------------------------------\n",
      "Unnamed: 0               0\n",
      "newID                    0\n",
      "oldID                    0\n",
      "title                  737\n",
      "author               20703\n",
      "data_split               0\n",
      "isTopicsAvailable        0\n",
      "document_date            0\n",
      "dateline              2535\n",
      "people                   0\n",
      "places                   0\n",
      "orgs                     0\n",
      "exchanges                0\n",
      "topic_body            2535\n",
      "topics               10211\n",
      "dtype: int64\n",
      "----------------------------------------------------------------------------------------------------------------------\n",
      "The total length of the datasets is: 21578\n"
     ]
    }
   ],
   "source": [
    "# display the data types of each column and search for NaN values\n",
    "print(df.columns)\n",
    "print('----------------------------------------------------------------------------------------------------------------------')\n",
    "print(df.describe())\n",
    "print('----------------------------------------------------------------------------------------------------------------------')\n",
    "print(df.isna().sum())\n",
    "print('----------------------------------------------------------------------------------------------------------------------')\n",
    "print(f'The total length of the datasets is: {len(df)}')"
   ]
  },
  {
   "cell_type": "code",
   "execution_count": 3,
   "id": "52e59870-ec4c-45db-84f7-4de165f87c35",
   "metadata": {},
   "outputs": [
    {
     "name": "stdout",
     "output_type": "stream",
     "text": [
      "----------------------------------------------------------------------------------------------------------------------\n",
      "Unnamed: 0              0\n",
      "newID                   0\n",
      "oldID                   0\n",
      "title                   0\n",
      "author               9888\n",
      "data_split              0\n",
      "isTopicsAvailable       0\n",
      "document_date           0\n",
      "dateline                0\n",
      "people                  0\n",
      "places                  0\n",
      "orgs                    0\n",
      "exchanges               0\n",
      "topic_body              0\n",
      "topics                  0\n",
      "dtype: int64\n",
      "----------------------------------------------------------------------------------------------------------------------\n",
      "The total length of the datasets is: 10377\n"
     ]
    }
   ],
   "source": [
    "# clean the dataset for NaN values in column 'topics'\n",
    "df = df.dropna(subset=['topics', 'topic_body'])\n",
    "print('----------------------------------------------------------------------------------------------------------------------')\n",
    "print(df.isna().sum())\n",
    "print('----------------------------------------------------------------------------------------------------------------------')\n",
    "print(f'The total length of the datasets is: {len(df)}')"
   ]
  },
  {
   "cell_type": "code",
   "execution_count": 4,
   "id": "87d556b2-9f5c-4e2f-b440-1ed7c85e4e88",
   "metadata": {},
   "outputs": [
    {
     "data": {
      "text/html": [
       "<div>\n",
       "<style scoped>\n",
       "    .dataframe tbody tr th:only-of-type {\n",
       "        vertical-align: middle;\n",
       "    }\n",
       "\n",
       "    .dataframe tbody tr th {\n",
       "        vertical-align: top;\n",
       "    }\n",
       "\n",
       "    .dataframe thead th {\n",
       "        text-align: right;\n",
       "    }\n",
       "</style>\n",
       "<table border=\"1\" class=\"dataframe\">\n",
       "  <thead>\n",
       "    <tr style=\"text-align: right;\">\n",
       "      <th></th>\n",
       "      <th>newID</th>\n",
       "      <th>oldID</th>\n",
       "      <th>topic_body</th>\n",
       "      <th>topics</th>\n",
       "    </tr>\n",
       "  </thead>\n",
       "  <tbody>\n",
       "    <tr>\n",
       "      <th>0</th>\n",
       "      <td>12052</td>\n",
       "      <td>280</td>\n",
       "      <td>The U.S. Has been promised a near\\nmonopoly of...</td>\n",
       "      <td>['corn', 'sorghum', 'grain']</td>\n",
       "    </tr>\n",
       "    <tr>\n",
       "      <th>1</th>\n",
       "      <td>14849</td>\n",
       "      <td>4361</td>\n",
       "      <td>The Bundesbank accepted bids for 6.1\\nbillion ...</td>\n",
       "      <td>['money-fx', 'interest']</td>\n",
       "    </tr>\n",
       "    <tr>\n",
       "      <th>2</th>\n",
       "      <td>17269</td>\n",
       "      <td>21891</td>\n",
       "      <td>President Reagan warned the U.S.\\nCongress in ...</td>\n",
       "      <td>['trade']</td>\n",
       "    </tr>\n",
       "    <tr>\n",
       "      <th>3</th>\n",
       "      <td>6505</td>\n",
       "      <td>11416</td>\n",
       "      <td>Shr two cts vs six cts\\n    Net 43,295 vs 147,...</td>\n",
       "      <td>['earn']</td>\n",
       "    </tr>\n",
       "    <tr>\n",
       "      <th>4</th>\n",
       "      <td>7080</td>\n",
       "      <td>11993</td>\n",
       "      <td>The Bank of England said it gave the\\nmoney ma...</td>\n",
       "      <td>['money-fx']</td>\n",
       "    </tr>\n",
       "  </tbody>\n",
       "</table>\n",
       "</div>"
      ],
      "text/plain": [
       "   newID  oldID                                         topic_body  \\\n",
       "0  12052    280  The U.S. Has been promised a near\\nmonopoly of...   \n",
       "1  14849   4361  The Bundesbank accepted bids for 6.1\\nbillion ...   \n",
       "2  17269  21891  President Reagan warned the U.S.\\nCongress in ...   \n",
       "3   6505  11416  Shr two cts vs six cts\\n    Net 43,295 vs 147,...   \n",
       "4   7080  11993  The Bank of England said it gave the\\nmoney ma...   \n",
       "\n",
       "                         topics  \n",
       "0  ['corn', 'sorghum', 'grain']  \n",
       "1      ['money-fx', 'interest']  \n",
       "2                     ['trade']  \n",
       "3                      ['earn']  \n",
       "4                  ['money-fx']  "
      ]
     },
     "execution_count": 4,
     "metadata": {},
     "output_type": "execute_result"
    }
   ],
   "source": [
    "# take a sample of 1000 comments\n",
    "df_sample = df[['newID', 'oldID', 'topic_body', 'topics']].sample(100)\n",
    "df_sample = df_sample.reset_index(drop=True)\n",
    "df_sample.head()"
   ]
  },
  {
   "cell_type": "markdown",
   "id": "3853c845-369e-4cdd-b179-a4a440c07449",
   "metadata": {},
   "source": [
    "### CREATE A KEYWORD EXTRACTION WITH LDA (LATENT DIRICHLET ALLOCATION)"
   ]
  },
  {
   "cell_type": "code",
   "execution_count": 5,
   "id": "535f81dd-1184-4c7e-a23a-c6aee6bdf017",
   "metadata": {},
   "outputs": [
    {
     "data": {
      "text/html": [
       "<div>\n",
       "<style scoped>\n",
       "    .dataframe tbody tr th:only-of-type {\n",
       "        vertical-align: middle;\n",
       "    }\n",
       "\n",
       "    .dataframe tbody tr th {\n",
       "        vertical-align: top;\n",
       "    }\n",
       "\n",
       "    .dataframe thead th {\n",
       "        text-align: right;\n",
       "    }\n",
       "</style>\n",
       "<table border=\"1\" class=\"dataframe\">\n",
       "  <thead>\n",
       "    <tr style=\"text-align: right;\">\n",
       "      <th></th>\n",
       "      <th>topic_body</th>\n",
       "      <th>lda_keywords</th>\n",
       "      <th>optimal_num_topics</th>\n",
       "    </tr>\n",
       "  </thead>\n",
       "  <tbody>\n",
       "    <tr>\n",
       "      <th>0</th>\n",
       "      <td>The U.S. Has been promised a near\\nmonopoly of...</td>\n",
       "      <td>[maize]</td>\n",
       "      <td>1</td>\n",
       "    </tr>\n",
       "    <tr>\n",
       "      <th>1</th>\n",
       "      <td>The Bundesbank accepted bids for 6.1\\nbillion ...</td>\n",
       "      <td>[billion]</td>\n",
       "      <td>1</td>\n",
       "    </tr>\n",
       "    <tr>\n",
       "      <th>2</th>\n",
       "      <td>President Reagan warned the U.S.\\nCongress in ...</td>\n",
       "      <td>[trade]</td>\n",
       "      <td>1</td>\n",
       "    </tr>\n",
       "    <tr>\n",
       "      <th>3</th>\n",
       "      <td>Shr two cts vs six cts\\n    Net 43,295 vs 147,...</td>\n",
       "      <td>[vs]</td>\n",
       "      <td>1</td>\n",
       "    </tr>\n",
       "    <tr>\n",
       "      <th>4</th>\n",
       "      <td>The Bank of England said it gave the\\nmoney ma...</td>\n",
       "      <td>[stg]</td>\n",
       "      <td>1</td>\n",
       "    </tr>\n",
       "    <tr>\n",
       "      <th>...</th>\n",
       "      <td>...</td>\n",
       "      <td>...</td>\n",
       "      <td>...</td>\n",
       "    </tr>\n",
       "    <tr>\n",
       "      <th>95</th>\n",
       "      <td>Shr 1.51 dlr vs 1.62 dlr\\n    Net 28.6 mln vs ...</td>\n",
       "      <td>[billion]</td>\n",
       "      <td>1</td>\n",
       "    </tr>\n",
       "    <tr>\n",
       "      <th>96</th>\n",
       "      <td>Qtrly div 26 cts Class A vs 12 cts\\n    Qtrly ...</td>\n",
       "      <td>[vs]</td>\n",
       "      <td>1</td>\n",
       "    </tr>\n",
       "    <tr>\n",
       "      <th>97</th>\n",
       "      <td>Shr two cts vs nine cts\\n    Net 86,469 vs 325...</td>\n",
       "      <td>[vs]</td>\n",
       "      <td>1</td>\n",
       "    </tr>\n",
       "    <tr>\n",
       "      <th>98</th>\n",
       "      <td>The Indian State Trading Corporation\\npurchase...</td>\n",
       "      <td>[000]</td>\n",
       "      <td>1</td>\n",
       "    </tr>\n",
       "    <tr>\n",
       "      <th>99</th>\n",
       "      <td>Shr 39 cts vs 28 cts\\n    Net 491,000 vs 356,0...</td>\n",
       "      <td>[000]</td>\n",
       "      <td>1</td>\n",
       "    </tr>\n",
       "  </tbody>\n",
       "</table>\n",
       "<p>100 rows × 3 columns</p>\n",
       "</div>"
      ],
      "text/plain": [
       "                                           topic_body lda_keywords  \\\n",
       "0   The U.S. Has been promised a near\\nmonopoly of...      [maize]   \n",
       "1   The Bundesbank accepted bids for 6.1\\nbillion ...    [billion]   \n",
       "2   President Reagan warned the U.S.\\nCongress in ...      [trade]   \n",
       "3   Shr two cts vs six cts\\n    Net 43,295 vs 147,...         [vs]   \n",
       "4   The Bank of England said it gave the\\nmoney ma...        [stg]   \n",
       "..                                                ...          ...   \n",
       "95  Shr 1.51 dlr vs 1.62 dlr\\n    Net 28.6 mln vs ...    [billion]   \n",
       "96  Qtrly div 26 cts Class A vs 12 cts\\n    Qtrly ...         [vs]   \n",
       "97  Shr two cts vs nine cts\\n    Net 86,469 vs 325...         [vs]   \n",
       "98  The Indian State Trading Corporation\\npurchase...        [000]   \n",
       "99  Shr 39 cts vs 28 cts\\n    Net 491,000 vs 356,0...        [000]   \n",
       "\n",
       "    optimal_num_topics  \n",
       "0                    1  \n",
       "1                    1  \n",
       "2                    1  \n",
       "3                    1  \n",
       "4                    1  \n",
       "..                 ...  \n",
       "95                   1  \n",
       "96                   1  \n",
       "97                   1  \n",
       "98                   1  \n",
       "99                   1  \n",
       "\n",
       "[100 rows x 3 columns]"
      ]
     },
     "execution_count": 5,
     "metadata": {},
     "output_type": "execute_result"
    }
   ],
   "source": [
    "from topic_modelling_techniques.lda_keyword_extraction import extract_keywords_for_all_comments\n",
    "\n",
    "# Find the optimal number of keywords per comment, implement LDA and \n",
    "df_sample = extract_keywords_for_all_comments(df_sample, 'topic_body', min_topics=1, max_topics=10, find_optimal=(True, None))\n",
    "\n",
    "# View the result\n",
    "df_sample[['topic_body', 'lda_keywords', 'optimal_num_topics']]"
   ]
  },
  {
   "cell_type": "markdown",
   "id": "d8d3b141-1824-4a2a-97a4-f169678bdc1d",
   "metadata": {},
   "source": [
    "### CALCULATE THE COSINE SIMILARITY BETWEEN LDA KEYWORDS AND ORIGINAL KEYWORDS\n",
    "\n",
    "#### FIRSTLY CALCULATE THE EMBEDDINGS OF THE KEYWORDS"
   ]
  },
  {
   "cell_type": "code",
   "execution_count": 6,
   "id": "6910d5f1-9c8a-4bc2-8f91-629c19aa4d81",
   "metadata": {},
   "outputs": [
    {
     "name": "stderr",
     "output_type": "stream",
     "text": [
      "C:\\1. Python\\LLM_mods_Topic_Modelling\\venv\\Lib\\site-packages\\transformers\\tokenization_utils_base.py:1601: FutureWarning: `clean_up_tokenization_spaces` was not set. It will be set to `True` by default. This behavior will be depracted in transformers v4.45, and will be then set to `False` by default. For more details check this issue: https://github.com/huggingface/transformers/issues/31884\n",
      "  warnings.warn(\n"
     ]
    },
    {
     "name": "stdout",
     "output_type": "stream",
     "text": [
      "Available device for the model is: 'cuda'\n"
     ]
    },
    {
     "name": "stderr",
     "output_type": "stream",
     "text": [
      "100%|████████████████████████████████████████████████████████████████████████████████████████████████████████████████████████████████████████████████████████████████████████████████████████████████████████████| 4/4 [00:00<00:00,  6.78it/s]\n"
     ]
    },
    {
     "name": "stdout",
     "output_type": "stream",
     "text": [
      "Calculation of embeddings completed successfully\n"
     ]
    },
    {
     "name": "stderr",
     "output_type": "stream",
     "text": [
      "C:\\1. Python\\LLM_mods_Topic_Modelling\\venv\\Lib\\site-packages\\transformers\\tokenization_utils_base.py:1601: FutureWarning: `clean_up_tokenization_spaces` was not set. It will be set to `True` by default. This behavior will be depracted in transformers v4.45, and will be then set to `False` by default. For more details check this issue: https://github.com/huggingface/transformers/issues/31884\n",
      "  warnings.warn(\n"
     ]
    },
    {
     "name": "stdout",
     "output_type": "stream",
     "text": [
      "Available device for the model is: 'cuda'\n"
     ]
    },
    {
     "name": "stderr",
     "output_type": "stream",
     "text": [
      "100%|████████████████████████████████████████████████████████████████████████████████████████████████████████████████████████████████████████████████████████████████████████████████████████████████████████████| 4/4 [00:00<00:00, 38.93it/s]\n"
     ]
    },
    {
     "name": "stdout",
     "output_type": "stream",
     "text": [
      "Calculation of embeddings completed successfully\n"
     ]
    }
   ],
   "source": [
    "from sklearn.preprocessing import MultiLabelBinarizer\n",
    "from utils.text_to_embeddings import calc_embeddings\n",
    "from sklearn.decomposition import PCA\n",
    "\n",
    "# modify the topics in order to be able to tokenize them in a transformer\n",
    "df_sample['topics_str'] = df_sample['topics'].apply(lambda x: ' '.join(x))\n",
    "df_sample['lda_keywords_str'] = df_sample['lda_keywords'].apply(lambda x: ' '.join(x))\n",
    "\n",
    "# create an instance of PCA\n",
    "pca = PCA(n_components=64)\n",
    "\n",
    "# create embeddings for original keywords\n",
    "embeddings_original_keywords =calc_embeddings(sentences=df_sample['topics_str'].to_list())\n",
    "\n",
    "# Reduce the dimensionality of original keyword embeddings\n",
    "reduced_data_original = pca.fit_transform(embeddings_original_keywords)\n",
    "# add a column for embeddings\n",
    "df_sample['original_keyword_embeddings'] = list(reduced_data_original)\n",
    "\n",
    "# create embeddings for lda keywords\n",
    "embeddings_lda_keywords = calc_embeddings(sentences=df_sample['lda_keywords_str'].to_list())\n",
    "# Reduce the dimensionality of lda keyword embeddings\n",
    "reduced_data_lda = pca.fit_transform(embeddings_lda_keywords)\n",
    "# add a column for embeddings\n",
    "df_sample['lda_keyword_embeddings'] = list(reduced_data_lda)"
   ]
  },
  {
   "cell_type": "markdown",
   "id": "50da234e-4bf5-4ef9-88ec-1c4d2d826a3a",
   "metadata": {},
   "source": [
    "#### MAKE THE COMPARISON BETWEEN LDA AND ORIGINAL KEYWORDS"
   ]
  },
  {
   "cell_type": "code",
   "execution_count": 7,
   "id": "789fcf4d-0920-4a7e-9a88-a67dcb5c4fea",
   "metadata": {},
   "outputs": [
    {
     "data": {
      "text/plain": [
       "62    0.102689\n",
       "1    -0.005862\n",
       "93   -0.113328\n",
       "17    0.217546\n",
       "51   -0.042208\n",
       "Name: cosine_similarity_lda, dtype: float64"
      ]
     },
     "execution_count": 7,
     "metadata": {},
     "output_type": "execute_result"
    }
   ],
   "source": [
    "from utils.benchmark_topic_modelling import compare_keyword_embeddings\n",
    "\n",
    "# Now you can call this function and add the cosine similarity column to your DataFrame\n",
    "df_sample, similarity_column_lda = compare_keyword_embeddings(df=df_sample,\n",
    "                                       original_column='original_keyword_embeddings',\n",
    "                                       column_for_comparison='lda_keyword_embeddings',\n",
    "                                       final_column_suffix='lda'\n",
    "                                      )\n",
    "# plot a sample of similarity scores\n",
    "df_sample[similarity_column_lda].sample(5)"
   ]
  },
  {
   "cell_type": "markdown",
   "id": "8a988e19-f483-43a1-835a-7d4a6ed72494",
   "metadata": {},
   "source": [
    "### CREATE A KEYWORD/TOPIC EXTRACTION WITH LLM'S (GPT 4o)"
   ]
  },
  {
   "cell_type": "code",
   "execution_count": 8,
   "id": "4b987365-d03a-4817-b320-6b52112721b8",
   "metadata": {},
   "outputs": [
    {
     "name": "stdout",
     "output_type": "stream",
     "text": [
      "The number of arguments to contain in the prompt are: 2\n",
      "The required arguments are: ['language', 'comment']\n"
     ]
    }
   ],
   "source": [
    "from utils.load_prompts import load_chosen_prompt\n",
    "\n",
    "# load the prompt template for summarizing comments grouped by label\n",
    "prompt_template_topics = load_chosen_prompt(prompt_name='prompt_for_keyword_extraction')"
   ]
  },
  {
   "cell_type": "code",
   "execution_count": 9,
   "id": "74aa7615-2e8c-47ba-be2b-fd8f4fd19282",
   "metadata": {
    "scrolled": true
   },
   "outputs": [
    {
     "name": "stderr",
     "output_type": "stream",
     "text": [
      "  1%|██                                                                                                                                                                                                        | 1/100 [00:01<02:20,  1.42s/it]"
     ]
    },
    {
     "name": "stdout",
     "output_type": "stream",
     "text": [
      "extracted keywords: [\"U.S.\", \"monopoly\", \"maize exports\", \"Spain\", \"European Community\", \"EC official\", \"agreement\", \"unpublished clause\", \"access\", \"sorghum\", \"traders\", \"EC Commission\", \"member states\", \"tender system\", \"import levies\", \"Spanish intervention board\", \"favourable terms\", \"Reuter\"]\n"
     ]
    },
    {
     "name": "stderr",
     "output_type": "stream",
     "text": [
      "  2%|████                                                                                                                                                                                                      | 2/100 [00:02<02:02,  1.25s/it]"
     ]
    },
    {
     "name": "stdout",
     "output_type": "stream",
     "text": [
      "extracted keywords: [\"Bundesbank\", \"bids\", \"securities repurchase pact\", \"fixed rate\", \"central bank\", \"liquidity\", \"funds\", \"market\", \"tightening of credit policy\", \"banks\", \"minimum reserve requirement\", \"security repurchase agreement\", \"open-market instrument\", \"market interest rates\", \"call money\", \"short-term fluctuations\"]\n"
     ]
    },
    {
     "name": "stderr",
     "output_type": "stream",
     "text": [
      "  3%|██████                                                                                                                                                                                                    | 3/100 [00:03<02:08,  1.33s/it]"
     ]
    },
    {
     "name": "stdout",
     "output_type": "stream",
     "text": [
      "extracted keywords: [\"President Reagan\", \"U.S. Congress\", \"protectionist trade legislation\", \"trade negotiations\", \"Japan\", \"tariffs\", \"Japanese products\", \"U.S.-Japanese pact\", \"semiconductors\", \"Japanese Prime Minister Yasuhiro Nakasone\", \"trade restrictions\", \"anti-protectionist policies\", \"trade retaliation\"]\n"
     ]
    },
    {
     "name": "stderr",
     "output_type": "stream",
     "text": [
      "  4%|████████                                                                                                                                                                                                  | 4/100 [00:04<01:50,  1.15s/it]"
     ]
    },
    {
     "name": "stdout",
     "output_type": "stream",
     "text": [
      "extracted keywords: [\"shr\", \"cts\", \"net\", \"revs\", \"reuter\"]\n"
     ]
    },
    {
     "name": "stderr",
     "output_type": "stream",
     "text": [
      "  5%|██████████                                                                                                                                                                                                | 5/100 [00:05<01:38,  1.04s/it]"
     ]
    },
    {
     "name": "stdout",
     "output_type": "stream",
     "text": [
      "extracted keywords: [\"Bank of England\", \"money market\", \"assistance\", \"afternoon session\", \"372 mln stg\", \"shortage\", \"central bank\", \"bank bills\", \"band one\", \"band two\"]\n"
     ]
    },
    {
     "name": "stderr",
     "output_type": "stream",
     "text": [
      "  6%|████████████                                                                                                                                                                                              | 6/100 [00:06<01:44,  1.11s/it]"
     ]
    },
    {
     "name": "stdout",
     "output_type": "stream",
     "text": [
      "extracted keywords: [\"California Microwave Inc\", \"non-recurring charges\", \"pre-tax earnings\", \"third quarter\", \"earnings from operations\", \"break-even range\", \"net earnings\", \"telecommunications products\", \"write-downs\", \"investment losses\", \"Argo Communications Corp\", \"Arizona-based communications electronics firm\", \"reduction in Sunnyvale work force\", \"nominal cash impact\"]\n"
     ]
    },
    {
     "name": "stderr",
     "output_type": "stream",
     "text": [
      "  7%|██████████████▏                                                                                                                                                                                           | 7/100 [00:07<01:36,  1.03s/it]"
     ]
    },
    {
     "name": "stdout",
     "output_type": "stream",
     "text": [
      "extracted keywords: [\"operating shares\", \"net income\", \"sales\", \"discontinued operations\", \"profit loss\", \"quarter\", \"year\", \"1986\", \"provision for loss\", \"disposal\"]\n"
     ]
    },
    {
     "name": "stderr",
     "output_type": "stream",
     "text": [
      "  8%|████████████████▏                                                                                                                                                                                         | 8/100 [00:09<01:43,  1.13s/it]"
     ]
    },
    {
     "name": "stdout",
     "output_type": "stream",
     "text": [
      "extracted keywords: [\"Revlon Group Inc\", \"Germaine Monteil\", \"Beecham Group PLC\", \"sale\", \"cosmetics business\", \"Diane von Furstenberg\", \"Lancaster beauty products\", \"royalty payment\", \"2.5 mln dlrs\", \"North and South America\", \"Far East\"]\n"
     ]
    },
    {
     "name": "stderr",
     "output_type": "stream",
     "text": [
      "  9%|██████████████████▏                                                                                                                                                                                       | 9/100 [00:10<01:38,  1.09s/it]"
     ]
    },
    {
     "name": "stdout",
     "output_type": "stream",
     "text": [
      "extracted keywords: [\"Glynwed International Plc\", \"Gallaher Ltd\", \"American Brands Inc\", \"acquisition\", \"thermoplastic pipework systems\", \"Durapipe U.K.\", \"Philmac\", \"strategic position\", \"net asset values\", \"debt\", \"Glynwed shares\"]\n"
     ]
    },
    {
     "name": "stderr",
     "output_type": "stream",
     "text": [
      " 10%|████████████████████                                                                                                                                                                                     | 10/100 [00:11<01:50,  1.23s/it]"
     ]
    },
    {
     "name": "stdout",
     "output_type": "stream",
     "text": [
      "extracted keywords: [\"Belgian Budget Minister\", \"Guy Verhofstadt\", \"plan\", \"sell off shares\", \"state-owned enterprises\", \"Sabena\", \"postal and telecommunications authority\", \"government sources\", \"25 billion francs\", \"revenue\", \"budget deficit\", \"Social Christian parties\", \"Belgium\", \"centre-right coalition\", \"cabinet meeting\", \"selloffs\", \"state investment company SNI\", \"Maritime Transport Authority\", \"Distrigaz\", \"CGER savings bank\", \"credit institutions\", \"privatisation\", \"Paul Henrion\", \"Le Soir\", \"REUTER\"]\n"
     ]
    },
    {
     "name": "stderr",
     "output_type": "stream",
     "text": [
      " 11%|██████████████████████                                                                                                                                                                                   | 11/100 [00:12<01:37,  1.10s/it]"
     ]
    },
    {
     "name": "stdout",
     "output_type": "stream",
     "text": [
      "extracted keywords: [\"Waste Management Inc\", \"Hart-Scott-Rodino\", \"takeover bid\", \"Chemlawn Corp\", \"waiting period\", \"termination\", \"27 dlrs a share\", \"selling business\"]\n"
     ]
    },
    {
     "name": "stderr",
     "output_type": "stream",
     "text": [
      " 12%|████████████████████████                                                                                                                                                                                 | 12/100 [00:13<01:33,  1.07s/it]"
     ]
    },
    {
     "name": "stdout",
     "output_type": "stream",
     "text": [
      "extracted keywords: [\"George Shultz\", \"Agriculture Department\", \"subsidized wheat\", \"Soviet Union\", \"wheat bonus\", \"President Reagan\", \"USDA\", \"export enhancement program\", \"European Common Market\", \"subsidized sales\"]\n"
     ]
    },
    {
     "name": "stderr",
     "output_type": "stream",
     "text": [
      " 13%|██████████████████████████▏                                                                                                                                                                              | 13/100 [00:14<01:27,  1.01s/it]"
     ]
    },
    {
     "name": "stdout",
     "output_type": "stream",
     "text": [
      "extracted keywords: [\"shr\", \"net\", \"revs\", \"avg shrs\", \"year\", \"1986 quarter\", \"investment tax credit\"]\n",
      "\n"
     ]
    },
    {
     "name": "stderr",
     "output_type": "stream",
     "text": [
      " 14%|████████████████████████████▏                                                                                                                                                                            | 14/100 [00:15<01:25,  1.01it/s]"
     ]
    },
    {
     "name": "stdout",
     "output_type": "stream",
     "text": [
      "extracted keywords: [\"Clayton and Dubilier Inc\", \"W. Atlee Burpee Co\", \"Wicks Capital Corp\", \"Bankers Trust New York Corp\", \"Burpee management\", \"ITT Corp\", \"O.M. Scott and Sons Co\", \"acquisition\", \"garden supply company\"]\n"
     ]
    },
    {
     "name": "stderr",
     "output_type": "stream",
     "text": [
      " 15%|██████████████████████████████▏                                                                                                                                                                          | 15/100 [00:16<01:32,  1.09s/it]"
     ]
    },
    {
     "name": "stdout",
     "output_type": "stream",
     "text": [
      "extracted keywords: [\"Botswana\", \"import ban\", \"meat products\", \"Zimbabwe\", \"foot and mouth disease\", \"outbreak\", \"Agriculture Minister Daniel Kwelagobe\", \"sterilised products\", \"canned animal products\", \"veterinary officials\", \"Insiza\", \"Matabeleland\", \"uncanned meat\", \"milk\", \"ham\", \"butter\", \"bacon\", \"European Community\", \"meat imports\"]\n"
     ]
    },
    {
     "name": "stderr",
     "output_type": "stream",
     "text": [
      " 16%|████████████████████████████████▏                                                                                                                                                                        | 16/100 [00:17<01:23,  1.01it/s]"
     ]
    },
    {
     "name": "stdout",
     "output_type": "stream",
     "text": [
      "extracted keywords: [\"earnings\", \"net profit\", \"revenue\", \"average shares\", \"restated results\", \"Deltona Corp\", \"investment\", \"equity method\"]\n"
     ]
    },
    {
     "name": "stderr",
     "output_type": "stream",
     "text": [
      " 17%|██████████████████████████████████▏                                                                                                                                                                      | 17/100 [00:18<01:18,  1.05it/s]"
     ]
    },
    {
     "name": "stdout",
     "output_type": "stream",
     "text": [
      "extracted keywords: [\"oil traders\", \"Exxon Corp\", \"Exxon U.S.A.\", \"price reduction\", \"contract barge\", \"heating oil\", \"New York harbor\", \"price decrease\", \"spot markets\", \"futures markets\"]\n"
     ]
    },
    {
     "name": "stderr",
     "output_type": "stream",
     "text": [
      " 18%|████████████████████████████████████▏                                                                                                                                                                    | 18/100 [00:19<01:15,  1.08it/s]"
     ]
    },
    {
     "name": "stdout",
     "output_type": "stream",
     "text": [
      "extracted keywords: [\"MacMillan Bloedel Ltd\", \"shareholders\", \"three-for-one stock split\", \"holders of record\", \"April 9\", \"stock trading\", \"split basis\", \"April 3\", \"regulatory approvals\"]\n"
     ]
    },
    {
     "name": "stderr",
     "output_type": "stream",
     "text": [
      " 19%|██████████████████████████████████████▏                                                                                                                                                                  | 19/100 [00:19<01:13,  1.11it/s]"
     ]
    },
    {
     "name": "stdout",
     "output_type": "stream",
     "text": [
      "extracted keywords: [\"Numac Oil and Gas Ltd\", \"operating performance\", \"1987\", \"1986 earnings\", \"crude oil\", \"pipeline capacity\", \"federal and provincial governments\", \"Reuter\"]\n"
     ]
    },
    {
     "name": "stderr",
     "output_type": "stream",
     "text": [
      " 20%|████████████████████████████████████████▏                                                                                                                                                                | 20/100 [00:21<01:19,  1.01it/s]"
     ]
    },
    {
     "name": "stdout",
     "output_type": "stream",
     "text": [
      "extracted keywords: [\"Nippon Mining Co\", \"Yukio Kasahara\", \"joint venture\", \"U.S. oil reserves\", \"oil exploration\", \"Dupont Co\", \"Conoco Inc\", \"Louisiana\", \"Gulf of Mexico\", \"Green Canyon Block 182\", \"oil prices\", \"OPEC\", \"Iran-Iraq war\", \"Saudi Arabia\", \"U.S. dollar\", \"dollar-yen relationship\", \"OPEC pricing\"]\n"
     ]
    },
    {
     "name": "stderr",
     "output_type": "stream",
     "text": [
      " 21%|██████████████████████████████████████████▏                                                                                                                                                              | 21/100 [00:22<01:14,  1.05it/s]"
     ]
    },
    {
     "name": "stdout",
     "output_type": "stream",
     "text": [
      "extracted keywords: [\"Shamrock Holdings\", \"California\", \"controlling interest\", \"preferred stock\", \"Nawara\", \"DBMS\", \"voting rights\", \"common stock\", \"shares\", \"company president\", \"director\"]\n"
     ]
    },
    {
     "name": "stderr",
     "output_type": "stream",
     "text": [
      " 22%|████████████████████████████████████████████▏                                                                                                                                                            | 22/100 [00:22<01:09,  1.12it/s]"
     ]
    },
    {
     "name": "stdout",
     "output_type": "stream",
     "text": [
      "extracted keywords: [\"shr loss\", \"net loss\", \"revenues\", \"average shares\", \"exchange rate\", \"Belgian francs\", \"U.S. dollar\"]\n"
     ]
    },
    {
     "name": "stderr",
     "output_type": "stream",
     "text": [
      " 23%|██████████████████████████████████████████████▏                                                                                                                                                          | 23/100 [00:23<01:11,  1.08it/s]"
     ]
    },
    {
     "name": "stdout",
     "output_type": "stream",
     "text": [
      "extracted keywords: [\"affiliated investment firms\", \"Securities and Exchange Commission\", \"Orient Express Hotels Inc\", \"stake\", \"shares\", \"FMR Corp\", \"Fidelity International Ltd\", \"common shares\", \"March 12\", \"April 8\", \"prices\", \"Reuter\"]\n"
     ]
    },
    {
     "name": "stderr",
     "output_type": "stream",
     "text": [
      " 24%|████████████████████████████████████████████████▏                                                                                                                                                        | 24/100 [00:24<01:06,  1.15it/s]"
     ]
    },
    {
     "name": "stdout",
     "output_type": "stream",
     "text": [
      "extracted keywords: [\"quarterly dividend\", \"two cents\", \"payment\", \"May 22\", \"record\", \"May 8\", \"Reuters\"]\n"
     ]
    },
    {
     "name": "stderr",
     "output_type": "stream",
     "text": [
      " 25%|██████████████████████████████████████████████████▎                                                                                                                                                      | 25/100 [00:25<01:05,  1.14it/s]"
     ]
    },
    {
     "name": "stdout",
     "output_type": "stream",
     "text": [
      "extracted keywords: [\"Webcor Electronics Inc\", \"technical default\", \"payment default\", \"revolving credit agreement\", \"lender\", \"debt\", \"third quarter net loss\", \"net loss\", \"Reuter\"]\n"
     ]
    },
    {
     "name": "stderr",
     "output_type": "stream",
     "text": [
      " 26%|████████████████████████████████████████████████████▎                                                                                                                                                    | 26/100 [00:28<01:54,  1.54s/it]"
     ]
    },
    {
     "name": "stdout",
     "output_type": "stream",
     "text": [
      "extracted keywords: [\"Soviet Union\", \"United States\", \"corn\", \"Agriculture Department\", \"European Community\", \"Canada\", \"grain imports\", \"USSR\", \"China\", \"Argentina\", \"Soviet winter crops\", \"Japan\", \"corn production\", \"USDA\", \"wheat\", \"export bonus wheat subsidy\"]\n"
     ]
    },
    {
     "name": "stderr",
     "output_type": "stream",
     "text": [
      " 27%|██████████████████████████████████████████████████████▎                                                                                                                                                  | 27/100 [00:29<01:34,  1.30s/it]"
     ]
    },
    {
     "name": "stdout",
     "output_type": "stream",
     "text": [
      "extracted keywords: [\"quarterly dividend\", \"1-1/2 cents\", \"March 31\", \"March 13\", \"Reuter\"]\n"
     ]
    },
    {
     "name": "stderr",
     "output_type": "stream",
     "text": [
      " 28%|████████████████████████████████████████████████████████▎                                                                                                                                                | 28/100 [00:30<01:23,  1.16s/it]"
     ]
    },
    {
     "name": "stdout",
     "output_type": "stream",
     "text": [
      "extracted keywords: [\"American Security Corp\", \"release\", \"pending merger\", \"Maryland National Corp\", \"stockholders\", \"October 10\", \"NASDAQ\", \"news announcement\"]\n"
     ]
    },
    {
     "name": "stderr",
     "output_type": "stream",
     "text": [
      " 29%|██████████████████████████████████████████████████████████▎                                                                                                                                              | 29/100 [00:31<01:35,  1.35s/it]"
     ]
    },
    {
     "name": "stdout",
     "output_type": "stream",
     "text": [
      "extracted keywords: [\"China\", \"sugar imports\", \"domestic output\", \"rising demand\", \"market predictions\", \"international sugar prices\", \"He Kang\", \"Ministry of Agriculture\", \"import\", \"domestic demand\", \"Customs figures\", \"Economic Information newspaper\", \"sugar cane\", \"beet\", \"sugar mills\", \"state purchasing prices\", \"farmers\", \"sugarcane\", \"refined sugar prices\", \"Fujian\", \"Guangdong\", \"Guangxi\", \"Yunnan\", \"sugar stocks\", \"Hong Kong trader\", \"world prices\", \"foreign exchange constraints\", \"state-owned mills\", \"Soviet equipment\"]\n"
     ]
    },
    {
     "name": "stderr",
     "output_type": "stream",
     "text": [
      " 30%|████████████████████████████████████████████████████████████▎                                                                                                                                            | 30/100 [00:32<01:29,  1.28s/it]"
     ]
    },
    {
     "name": "stdout",
     "output_type": "stream",
     "text": [
      "extracted keywords: [\"LAC Minerals Ltd\", \"underground mining\", \"exploration\", \"Lake Shore Mine\", \"Kirkland Lake\", \"Ontario\", \"surface exploration drilling\", \"earnings\", \"employees\", \"crown pillar\", \"gold\", \"surface drilling\", \"underground exploration\"]\n"
     ]
    },
    {
     "name": "stderr",
     "output_type": "stream",
     "text": [
      " 31%|██████████████████████████████████████████████████████████████▎                                                                                                                                          | 31/100 [00:34<01:32,  1.35s/it]"
     ]
    },
    {
     "name": "stdout",
     "output_type": "stream",
     "text": [
      "extracted keywords: [\"Taiwan\", \"China Shipbuilding Corp\", \"CSBC\", \"joint production agreements\", \"Japan\", \"ship repairing\", \"debt\", \"Louis Lo\", \"hulls\", \"Onomichi\", \"Japanese firms\", \"Mitsubishi Heavy Industries\", \"Ishikawajima-Harima Heavy Industries\", \"shipbuilding\", \"technology\", \"marketing\", \"Europe\", \"South Korea\", \"losses\", \"government support\", \"diversification\", \"pipes\", \"machinery\", \"income\", \"orders\", \"shipbuilding prospects\", \"overtonnage\", \"ship repairing outlook\"]\n"
     ]
    },
    {
     "name": "stderr",
     "output_type": "stream",
     "text": [
      " 32%|████████████████████████████████████████████████████████████████▎                                                                                                                                        | 32/100 [00:35<01:31,  1.35s/it]"
     ]
    },
    {
     "name": "stdout",
     "output_type": "stream",
     "text": [
      "extracted keywords: [\"Uganda\", \"Africa\", \"coffee producer\", \"Coffee Marketing Board\", \"CMB\", \"price drop\", \"robusta coffee\", \"quota formula\", \"International Coffee Organisation\", \"ICO\", \"Indonesian demands\", \"coffee exports\", \"foreign exchange earnings\", \"production rise\", \"rebel activity\", \"coffee export duties\", \"salaried manpower\", \"Dar es Salaam\", \"Tanzania\", \"Third World countries\", \"London coffee talks\", \"middlemen\", \"Paul Bomani\", \"Reuter\"]\n"
     ]
    },
    {
     "name": "stderr",
     "output_type": "stream",
     "text": [
      " 33%|██████████████████████████████████████████████████████████████████▎                                                                                                                                      | 33/100 [00:37<01:35,  1.43s/it]"
     ]
    },
    {
     "name": "stdout",
     "output_type": "stream",
     "text": [
      "extracted keywords: [\"Westpac Banking Corp\", \"Melbourne University\", \"Institute of Applied Economic and Social Research\", \"leading index\", \"Australian economic activity\", \"December\", \"index rise\", \"annualised\", \"chief economist Bob Graham\", \"upward trend\", \"tough mini-budget\", \"consumption spending\", \"balance of payments\", \"coincident index\", \"current recession\", \"real growth\", \"economic activity\"]\n"
     ]
    },
    {
     "name": "stderr",
     "output_type": "stream",
     "text": [
      " 34%|████████████████████████████████████████████████████████████████████▎                                                                                                                                    | 34/100 [00:38<01:26,  1.30s/it]"
     ]
    },
    {
     "name": "stdout",
     "output_type": "stream",
     "text": [
      "extracted keywords: [\"U.S. farmers\", \"federal payments cap\", \"government's agricultural programs\", \"General Accounting Office\", \"GAO\", \"farm reorganizations\", \"program costs\", \"Brian Crowley\", \"U.S. Agriculture Department\", \"House Agriculture Subcommittee\", \"Wheat\", \"Soybeans\", \"Feedgrains\"]\n"
     ]
    },
    {
     "name": "stderr",
     "output_type": "stream",
     "text": [
      " 35%|██████████████████████████████████████████████████████████████████████▎                                                                                                                                  | 35/100 [00:39<01:11,  1.11s/it]"
     ]
    },
    {
     "name": "stdout",
     "output_type": "stream",
     "text": [
      "extracted keywords: [\"shr loss\", \"net profit\", \"revs\", \"preferred stock dividends\"]\n"
     ]
    },
    {
     "name": "stderr",
     "output_type": "stream",
     "text": [
      " 36%|████████████████████████████████████████████████████████████████████████▎                                                                                                                                | 36/100 [00:39<01:06,  1.04s/it]"
     ]
    },
    {
     "name": "stdout",
     "output_type": "stream",
     "text": [
      "extracted keywords: [\"earnings\", \"revenue\", \"shares\", \"loans\", \"deposits\", \"assets\", \"stock split\", \"adjustment\", \"Reuter\"]\n"
     ]
    },
    {
     "name": "stderr",
     "output_type": "stream",
     "text": [
      " 37%|██████████████████████████████████████████████████████████████████████████▎                                                                                                                              | 37/100 [00:41<01:20,  1.28s/it]"
     ]
    },
    {
     "name": "stdout",
     "output_type": "stream",
     "text": [
      "extracted keywords: [\"Williams Cos\", \"fourth quarter charge\", \"1986 net loss\", \"writedowns\", \"income\", \"revenues\", \"Agrico Chemical Co\", \"Freeport-Mcmoran Resource Partners\", \"antitrust review\", \"restructuring\", \"balance sheet\", \"future stability\", \"earnings growth\", \"Northwest Pipeline Corp\", \"Williams Natural Gas\", \"operating profit\", \"Williams Gas Marketing\", \"Williams Pipe Line Co\"]\n"
     ]
    },
    {
     "name": "stderr",
     "output_type": "stream",
     "text": [
      " 38%|████████████████████████████████████████████████████████████████████████████▍                                                                                                                            | 38/100 [00:43<01:18,  1.26s/it]"
     ]
    },
    {
     "name": "stdout",
     "output_type": "stream",
     "text": [
      "extracted keywords: [\"Bacro\", \"California\", \"board approval\", \"chairman\", \"Kenneth Donner\", \"President\", \"Michael Donner\", \"purchase\", \"outstanding shares\", \"leveraged transaction\", \"Donners\", \"44 percent\", \"vice chairman\", \"David Grutman\", \"family members\", \"28 percent\", \"stock\", \"offering price\", \"Reuter\"]\n"
     ]
    },
    {
     "name": "stderr",
     "output_type": "stream",
     "text": [
      " 39%|██████████████████████████████████████████████████████████████████████████████▍                                                                                                                          | 39/100 [00:44<01:14,  1.21s/it]"
     ]
    },
    {
     "name": "stdout",
     "output_type": "stream",
     "text": [
      "extracted keywords: [\"Hal Weiss\", \"Rocky Mount Undergarment Co Inc\", \"profit\", \"first quarter\", \"fiscal 1987\", \"sales\", \"net loss\", \"fourth quarter\", \"fiscal 1986\", \"net income\", \"management\", \"manufacturing operations\", \"financial condition\", \"credibility\", \"suppliers\", \"quarterly losses\", \"profitability\"]\n"
     ]
    },
    {
     "name": "stderr",
     "output_type": "stream",
     "text": [
      " 40%|████████████████████████████████████████████████████████████████████████████████▍                                                                                                                        | 40/100 [00:45<01:13,  1.23s/it]"
     ]
    },
    {
     "name": "stdout",
     "output_type": "stream",
     "text": [
      "extracted keywords: [\"International monetary officials\", \"currency stability\", \"Louvre accord\", \"dollar free-fall\", \"world capital markets\", \"economists\", \"currency traders\", \"Group of Seven\", \"exchange rate stability\", \"U.S. Treasury secretary\", \"James Baker\", \"West German money market rates\", \"Louvre pact\", \"currency markets\", \"U.S. stock markets\", \"Dow Jones Industrial Average\", \"U.S. Treasury bonds\"]\n"
     ]
    },
    {
     "name": "stderr",
     "output_type": "stream",
     "text": [
      " 41%|██████████████████████████████████████████████████████████████████████████████████▍                                                                                                                      | 41/100 [00:46<01:03,  1.08s/it]"
     ]
    },
    {
     "name": "stdout",
     "output_type": "stream",
     "text": [
      "extracted keywords: [\"quarterly dividend\", \"three cents\", \"payment date\", \"April 30\", \"record date\", \"April 16\", \"Reuter\"]\n"
     ]
    },
    {
     "name": "stderr",
     "output_type": "stream",
     "text": [
      " 42%|████████████████████████████████████████████████████████████████████████████████████▍                                                                                                                    | 42/100 [00:47<01:07,  1.16s/it]"
     ]
    },
    {
     "name": "stdout",
     "output_type": "stream",
     "text": [
      "extracted keywords: [\"Spain\", \"economic targets\", \"1987\", \"economy ministry\", \"internal demand\", \"inflation target\", \"Bank of Spain\", \"Mariano Rubio\", \"private consumption\", \"public consumption\", \"domestic demand\", \"imports\", \"export growth\", \"peseta\", \"GDP growth\", \"state spending\", \"Carlos Solchaga\", \"wage settlements\", \"unions\", \"employers\", \"CEOE\"]\n"
     ]
    },
    {
     "name": "stderr",
     "output_type": "stream",
     "text": [
      " 43%|██████████████████████████████████████████████████████████████████████████████████████▍                                                                                                                  | 43/100 [00:48<01:01,  1.07s/it]"
     ]
    },
    {
     "name": "stdout",
     "output_type": "stream",
     "text": [
      "extracted keywords: [\"operating share profit\", \"net profit\", \"revenues\", \"average shares\", \"tax loss carryforwards\", \"discontinued operations\", \"1985 restated\"]\n"
     ]
    },
    {
     "name": "stderr",
     "output_type": "stream",
     "text": [
      " 44%|████████████████████████████████████████████████████████████████████████████████████████▍                                                                                                                | 44/100 [00:49<01:05,  1.18s/it]"
     ]
    },
    {
     "name": "stdout",
     "output_type": "stream",
     "text": [
      "extracted keywords: [\"Dean Foods Co\", \"earnings\", \"fourth quarter\", \"Kenneth Douglas\", \"analysts\", \"food processor\", \"sales\", \"billion\", \"projection\", \"third-quarter\", \"performance\", \"overall earnings\", \"tax reform act\", \"Howard Dean\", \"dairy acquisitions\", \"frozen vegetable acquisitions\", \"Ryan Milk\", \"Larsen Co\", \"Elgin Blenders Inc\", \"E.B.I. Foods Ltd\", \"licensing arrangements\", \"McDonalds Corp\"]\n"
     ]
    },
    {
     "name": "stderr",
     "output_type": "stream",
     "text": [
      " 45%|██████████████████████████████████████████████████████████████████████████████████████████▍                                                                                                              | 45/100 [00:50<00:55,  1.02s/it]"
     ]
    },
    {
     "name": "stdout",
     "output_type": "stream",
     "text": [
      "extracted keywords: [\"shr loss\", \"net loss\", \"revenue\", \"Reuter\"]\n"
     ]
    },
    {
     "name": "stderr",
     "output_type": "stream",
     "text": [
      " 46%|████████████████████████████████████████████████████████████████████████████████████████████▍                                                                                                            | 46/100 [00:51<00:53,  1.01it/s]"
     ]
    },
    {
     "name": "stdout",
     "output_type": "stream",
     "text": [
      "extracted keywords: [\"U.K. Retail sales\", \"February\", \"January\", \"Department of Trade and Industry\", \"sales index\", \"seasonally adjusted\", \"non-seasonally adjusted\", \"fourth quarter\", \"severe weather\", \"trading period\"]\n"
     ]
    },
    {
     "name": "stderr",
     "output_type": "stream",
     "text": [
      " 47%|██████████████████████████████████████████████████████████████████████████████████████████████▍                                                                                                          | 47/100 [00:52<00:57,  1.08s/it]"
     ]
    },
    {
     "name": "stdout",
     "output_type": "stream",
     "text": [
      "extracted keywords: [\"Kansas\", \"Republican\", \"Pat Roberts\", \"Reagan administration\", \"export enhancement program\", \"eep\", \"subsidies\", \"Soviet Union\", \"House foreign agriculture subcommittee\", \"China\", \"Poland\", \"Moscow\", \"Secretary of State\", \"George Shultz\", \"Tom Kay\", \"U.S. Agriculture Department\", \"Foreign Agricultural Service\", \"USDA\", \"Congress\", \"wheat eep\", \"Richard Lyng\", \"Reuter\"]\n"
     ]
    },
    {
     "name": "stderr",
     "output_type": "stream",
     "text": [
      " 48%|████████████████████████████████████████████████████████████████████████████████████████████████▍                                                                                                        | 48/100 [00:53<00:55,  1.06s/it]"
     ]
    },
    {
     "name": "stdout",
     "output_type": "stream",
     "text": [
      "extracted keywords: [\"Seal Inc\", \"Ademco Ltd\", \"United Kingdom\", \"mounting equipment\", \"laminating equipment\", \"cash and stock\", \"2.6 million dollars\", \"exchange rates\", \"1.3 million dollars\", \"market price\", \"earnings targets\", \"acquired business\"]\n"
     ]
    },
    {
     "name": "stderr",
     "output_type": "stream",
     "text": [
      " 49%|██████████████████████████████████████████████████████████████████████████████████████████████████▍                                                                                                      | 49/100 [00:54<00:53,  1.05s/it]"
     ]
    },
    {
     "name": "stdout",
     "output_type": "stream",
     "text": [
      "extracted keywords: [\"operating loss\", \"net loss\", \"revenue\", \"operating profit\", \"net profit\", \"extraordinary tax charges\", \"pretax gain\", \"pension plan termination\", \"restructuring\", \"consolidation\", \"tax credit\", \"sale of foreign subsidiary\"]\n"
     ]
    },
    {
     "name": "stderr",
     "output_type": "stream",
     "text": [
      " 50%|████████████████████████████████████████████████████████████████████████████████████████████████████▌                                                                                                    | 50/100 [00:55<00:52,  1.04s/it]"
     ]
    },
    {
     "name": "stdout",
     "output_type": "stream",
     "text": [
      "extracted keywords: [\"U.S. Energy Department\", \"Snettisham Hydroelectric project\", \"Alaska Power Administration\", \"Alaskan electric utilities\", \"Anchorage\", \"state of Alaska\", \"privatization\", \"local utility\", \"DOE\", \"Congress\", \"Eklutna project\"]\n"
     ]
    },
    {
     "name": "stderr",
     "output_type": "stream",
     "text": [
      " 51%|██████████████████████████████████████████████████████████████████████████████████████████████████████▌                                                                                                  | 51/100 [00:56<00:52,  1.06s/it]"
     ]
    },
    {
     "name": "stdout",
     "output_type": "stream",
     "text": [
      "extracted keywords: [\"Nova\", \"Canadian company\", \"Husky Oil Ltd\", \"government approval\", \"transaction\", \"Minister of Regional and Industrial Expansion\", \"Michel Cote\", \"Union Faith\", \"purchase\", \"Husky stake\", \"non-Canadian company\", \"deal\", \"private company\", \"Li Ka-Shing\", \"Hutchison\", \"Canadian Imperial Bank of Commerce\"]\n"
     ]
    },
    {
     "name": "stderr",
     "output_type": "stream",
     "text": [
      " 52%|████████████████████████████████████████████████████████████████████████████████████████████████████████▌                                                                                                | 52/100 [00:57<00:47,  1.01it/s]"
     ]
    },
    {
     "name": "stdout",
     "output_type": "stream",
     "text": [
      "extracted keywords: [\"Japanese crushers\", \"5,000 tonnes\", \"Canadian rapeseed\", \"export business\", \"late May\", \"early June\", \"shipment\", \"trade sources\"]\n"
     ]
    },
    {
     "name": "stderr",
     "output_type": "stream",
     "text": [
      " 53%|██████████████████████████████████████████████████████████████████████████████████████████████████████████▌                                                                                              | 53/100 [00:58<00:45,  1.03it/s]"
     ]
    },
    {
     "name": "stdout",
     "output_type": "stream",
     "text": [
      "extracted keywords: [\"steel companies\", \"price increase\", \"USX Corp\", \"USS steelmaking division\", \"Armco Inc\", \"Bethlehem Steel Corp\", \"price hike\", \"plate products\", \"LTV Steel Co\", \"LTV Corp\"]\n"
     ]
    },
    {
     "name": "stderr",
     "output_type": "stream",
     "text": [
      " 54%|████████████████████████████████████████████████████████████████████████████████████████████████████████████▌                                                                                            | 54/100 [00:59<00:41,  1.12it/s]"
     ]
    },
    {
     "name": "stdout",
     "output_type": "stream",
     "text": [
      "extracted keywords: [\"stock split\", \"shareholder approval\", \"annual meeting\", \"1986 profit\", \"extraordinary items\", \"Reuter\"]\n"
     ]
    },
    {
     "name": "stderr",
     "output_type": "stream",
     "text": [
      " 55%|██████████████████████████████████████████████████████████████████████████████████████████████████████████████▌                                                                                          | 55/100 [01:00<00:44,  1.01it/s]"
     ]
    },
    {
     "name": "stdout",
     "output_type": "stream",
     "text": [
      "extracted keywords: [\"Siebel Capital Management Inc\", \"California investment adviser\", \"Securities and Exchange Commission\", \"SEC\", \"1.3 mln CooperVision Inc common shares\", \"5.9 pct\", \"outstanding shares\", \"SEC filing\", \"acquire more stock\", \"influence management\", \"major changes\", \"business\", \"corporate structure\", \"net purchases\", \"163,200 CooperVision shares\", \"Jan. 1\"]\n"
     ]
    },
    {
     "name": "stderr",
     "output_type": "stream",
     "text": [
      " 56%|████████████████████████████████████████████████████████████████████████████████████████████████████████████████▌                                                                                        | 56/100 [01:01<00:42,  1.04it/s]"
     ]
    },
    {
     "name": "stdout",
     "output_type": "stream",
     "text": [
      "extracted keywords: [\"Fidelcor Inc\", \"acquisition\", \"assets\", \"Bank of New England Corp\", \"Lazere Financial Corp\", \"undisclosed terms\", \"loan portfolio\", \"Miami office\"]\n"
     ]
    },
    {
     "name": "stderr",
     "output_type": "stream",
     "text": [
      " 57%|██████████████████████████████████████████████████████████████████████████████████████████████████████████████████▌                                                                                      | 57/100 [01:02<00:38,  1.12it/s]"
     ]
    },
    {
     "name": "stdout",
     "output_type": "stream",
     "text": [
      "extracted keywords: [\"profit\", \"net profit\", \"sales\", \"shr profit\", \"year\", \"dlrs\", \"mln\", \"Reuter\"]\n"
     ]
    },
    {
     "name": "stderr",
     "output_type": "stream",
     "text": [
      " 58%|████████████████████████████████████████████████████████████████████████████████████████████████████████████████████▌                                                                                    | 58/100 [01:03<00:42,  1.01s/it]"
     ]
    },
    {
     "name": "stdout",
     "output_type": "stream",
     "text": [
      "extracted keywords: [\"Pacific Telesis Group\", \"Donald Guinn\", \"earnings growth\", \"capital spending\", \"regulatory uncertainties\", \"rate cases\", \"California Public Utility Commission\", \"revenue reduction\", \"rate hike\", \"transpacific telephone cable\", \"international consortium\", \"U.S. Department of Justice\", \"Bell operating companies\", \"long distance services\", \"commodity business\", \"strategic alliances\", \"acquisition talks\"]\n"
     ]
    },
    {
     "name": "stderr",
     "output_type": "stream",
     "text": [
      " 59%|██████████████████████████████████████████████████████████████████████████████████████████████████████████████████████▌                                                                                  | 59/100 [01:04<00:41,  1.01s/it]"
     ]
    },
    {
     "name": "stdout",
     "output_type": "stream",
     "text": [
      "extracted keywords: [\"Indian businessmen\", \"Australian businessmen\", \"memorandum of understanding\", \"two-way trade\", \"joint industrial ventures\", \"Indo-Australia Business Council\", \"India's exports\", \"trade balance\", \"steel\", \"coking coal\", \"cotton textiles\"]\n"
     ]
    },
    {
     "name": "stderr",
     "output_type": "stream",
     "text": [
      " 60%|████████████████████████████████████████████████████████████████████████████████████████████████████████████████████████▌                                                                                | 60/100 [01:05<00:38,  1.03it/s]"
     ]
    },
    {
     "name": "stdout",
     "output_type": "stream",
     "text": [
      "extracted keywords: [\"International Tin Agreement\", \"sixth\", \"extension\", \"International Tin Council\", \"member states\", \"producer governments\", \"European Community\", \"EC\", \"Britain\", \"Council session\", \"delegate sources\"]\n"
     ]
    },
    {
     "name": "stderr",
     "output_type": "stream",
     "text": [
      " 61%|██████████████████████████████████████████████████████████████████████████████████████████████████████████████████████████▌                                                                              | 61/100 [01:06<00:34,  1.12it/s]"
     ]
    },
    {
     "name": "stdout",
     "output_type": "stream",
     "text": [
      "extracted keywords: [\"quarterly dividend\", \"nine cents\", \"pay April 30\", \"record April 6\", \"Reuters\"]\n"
     ]
    },
    {
     "name": "stderr",
     "output_type": "stream",
     "text": [
      " 62%|████████████████████████████████████████████████████████████████████████████████████████████████████████████████████████████▌                                                                            | 62/100 [01:07<00:39,  1.04s/it]"
     ]
    },
    {
     "name": "stdout",
     "output_type": "stream",
     "text": [
      "extracted keywords: [\"Oklahoma\", \"USDA crop report\", \"cold weather\", \"cattle deaths\", \"wheat growth\", \"rain\", \"fertilizer application\", \"weed spraying\", \"nitrogen deficiency\", \"insect activity\", \"southwest region\", \"wheat condition\", \"row crop activity\", \"topsoil moisture\", \"subsoil moisture\", \"fieldwork\"]\n"
     ]
    },
    {
     "name": "stderr",
     "output_type": "stream",
     "text": [
      " 63%|██████████████████████████████████████████████████████████████████████████████████████████████████████████████████████████████▋                                                                          | 63/100 [01:09<00:44,  1.21s/it]"
     ]
    },
    {
     "name": "stdout",
     "output_type": "stream",
     "text": [
      "extracted keywords: [\"National Bank\", \"economic data\", \"1986\", \"Yugoslavia\", \"trade deficit\", \"inflation rate\", \"wages\", \"money supply\", \"dinar\", \"exports\", \"imports\", \"balance of payments surplus\", \"retail prices\", \"industrial producer prices\", \"cost of living\", \"personal incomes\", \"Prime Minister Branko Mikulic\", \"productivity\", \"M-1 money supply\", \"foreign currency savings\", \"dinar depreciation\", \"Swiss franc\", \"U.S. Dollar\"]\n"
     ]
    },
    {
     "name": "stderr",
     "output_type": "stream",
     "text": [
      " 64%|████████████████████████████████████████████████████████████████████████████████████████████████████████████████████████████████▋                                                                        | 64/100 [01:09<00:39,  1.10s/it]"
     ]
    },
    {
     "name": "stdout",
     "output_type": "stream",
     "text": [
      "extracted keywords: [\"Applied Circuit Technology Inc\", \"ACT\", \"computer electronics business\", \"San Francisco\", \"sale price\", \"cash\", \"two year period\", \"close date\", \"March 31\", \"pharmaceuticals subsidiaries\"]\n"
     ]
    },
    {
     "name": "stderr",
     "output_type": "stream",
     "text": [
      " 65%|██████████████████████████████████████████████████████████████████████████████████████████████████████████████████████████████████▋                                                                      | 65/100 [01:10<00:35,  1.01s/it]"
     ]
    },
    {
     "name": "stdout",
     "output_type": "stream",
     "text": [
      "extracted keywords: [\"Shr\", \"net\", \"cts\", \"dlrs\", \"assets\", \"home federal savings\", \"loan association\", \"rockies\", \"Reuter\"]\n"
     ]
    },
    {
     "name": "stderr",
     "output_type": "stream",
     "text": [
      " 66%|████████████████████████████████████████████████████████████████████████████████████████████████████████████████████████████████████▋                                                                    | 66/100 [01:12<00:37,  1.11s/it]"
     ]
    },
    {
     "name": "stdout",
     "output_type": "stream",
     "text": [
      "extracted keywords: [\"Bundesbank\", \"Lothar Mueller\", \"money supply policy\", \"interest rates\", \"exchange rate\", \"monetary policy\", \"capital flows\", \"monetary targetting\", \"Bavaria\", \"economic context\", \"currency inflows\", \"money market rates\", \"liquidity\", \"non-banks\", \"U.S. economy\", \"stability policy\", \"central bank money stock\", \"current account surpluses\", \"capital imports\", \"monetary stocks\"]\n"
     ]
    },
    {
     "name": "stderr",
     "output_type": "stream",
     "text": [
      " 67%|██████████████████████████████████████████████████████████████████████████████████████████████████████████████████████████████████████▋                                                                  | 67/100 [01:12<00:34,  1.06s/it]"
     ]
    },
    {
     "name": "stdout",
     "output_type": "stream",
     "text": [
      "extracted keywords: [\"Belgian industrial production\", \"seasonal adjustment\", \"calendar influences\", \"National Statistics Office\", \"production index\", \"February\", \"January\", \"provisional 108.8\", \"provisional 102.7\", \"base 1980\"]\n"
     ]
    },
    {
     "name": "stderr",
     "output_type": "stream",
     "text": [
      " 68%|████████████████████████████████████████████████████████████████████████████████████████████████████████████████████████████████████████▋                                                                | 68/100 [01:13<00:32,  1.01s/it]"
     ]
    },
    {
     "name": "stdout",
     "output_type": "stream",
     "text": [
      "extracted keywords: [\"proposed takeover offer\", \"Breakwater Resources Ltd\", \"Novamin\", \"share swap\", \"Novamin warrants\", \"conversion\", \"Breakwater common shares\", \"mineral exploration company\", \"proposal\", \"approval\", \"directors meeting\"]\n"
     ]
    },
    {
     "name": "stderr",
     "output_type": "stream",
     "text": [
      " 69%|██████████████████████████████████████████████████████████████████████████████████████████████████████████████████████████████████████████▋                                                              | 69/100 [01:14<00:29,  1.03it/s]"
     ]
    },
    {
     "name": "stdout",
     "output_type": "stream",
     "text": [
      "extracted keywords: [\"New York State Electric and Gas Corp\", \"Corning Natural Gas Corp\", \"terminated\", \"acquisition\", \"uncertain regulatory climate\", \"depressed price\", \"Nine Mile Point Unit Two nuclear plant\"]\n"
     ]
    },
    {
     "name": "stderr",
     "output_type": "stream",
     "text": [
      " 70%|████████████████████████████████████████████████████████████████████████████████████████████████████████████████████████████████████████████▋                                                            | 70/100 [01:15<00:27,  1.07it/s]"
     ]
    },
    {
     "name": "stdout",
     "output_type": "stream",
     "text": [
      "extracted keywords: [\"Qtr ended Jan 31\", \"Shr\", \"Net\", \"Revs\", \"Avg shrs\", \"Nine mths\", \"gains\", \"dispositions\", \"stock split\", \"Reuter\"]\n"
     ]
    },
    {
     "name": "stderr",
     "output_type": "stream",
     "text": [
      " 71%|██████████████████████████████████████████████████████████████████████████████████████████████████████████████████████████████████████████████▋                                                          | 71/100 [01:16<00:26,  1.08it/s]"
     ]
    },
    {
     "name": "stdout",
     "output_type": "stream",
     "text": [
      "extracted keywords: [\"Americus Trust\", \"Bristol-Myers\", \"tendered shares\", \"expiration date\", \"common stock price\", \"trust's termination price\", \"Americus Shareowner Service\", \"underlying stock\", \"Reuter\"]\n"
     ]
    },
    {
     "name": "stderr",
     "output_type": "stream",
     "text": [
      " 72%|████████████████████████████████████████████████████████████████████████████████████████████████████████████████████████████████████████████████▋                                                        | 72/100 [01:17<00:24,  1.16it/s]"
     ]
    },
    {
     "name": "stdout",
     "output_type": "stream",
     "text": [
      "extracted keywords: [\"LADD Furniture Inc\", \"acquisition\", \"Colony House Furniture Inc\", \"cash and notes\", \"Reuter\"]\n"
     ]
    },
    {
     "name": "stderr",
     "output_type": "stream",
     "text": [
      " 73%|██████████████████████████████████████████████████████████████████████████████████████████████████████████████████████████████████████████████████▋                                                      | 73/100 [01:18<00:24,  1.11it/s]"
     ]
    },
    {
     "name": "stdout",
     "output_type": "stream",
     "text": [
      "extracted keywords: [\"Japan\", \"Finance Minister\", \"Kiichi Miyazawa\", \"U.S. Treasury Secretary\", \"James Baker\", \"Louvre Accord\", \"agreement\", \"stabilising currencies\", \"Paris\", \"news conference\"]\n"
     ]
    },
    {
     "name": "stderr",
     "output_type": "stream",
     "text": [
      " 74%|████████████████████████████████████████████████████████████████████████████████████████████████████████████████████████████████████████████████████▋                                                    | 74/100 [01:19<00:30,  1.17s/it]"
     ]
    },
    {
     "name": "stdout",
     "output_type": "stream",
     "text": [
      "extracted keywords: [\"European Community\", \"farm trade policy\", \"Thailand's tapioca industry\", \"Ammar Siamwalla\", \"agro-economist\", \"Thailand Development Research Institute\", \"EC move\", \"tariff protection\", \"EC grains\", \"European market\", \"Thai tapioca\", \"EC quota\", \"tariff loophole\", \"preferential import duty\", \"tapioca farmers\", \"cereal prices\", \"world prices\", \"tapioca market\", \"dilemma\", \"commodity producers\", \"export subsidies\"]\n"
     ]
    },
    {
     "name": "stderr",
     "output_type": "stream",
     "text": [
      " 75%|██████████████████████████████████████████████████████████████████████████████████████████████████████████████████████████████████████████████████████▊                                                  | 75/100 [01:20<00:27,  1.08s/it]"
     ]
    },
    {
     "name": "stdout",
     "output_type": "stream",
     "text": [
      "extracted keywords: [\"Fluorocarbon Co\", \"acquisition\", \"Eaton Corp\", \"industrial polymer division\", \"70 million dollars\", \"Samuel Moore Group\", \"annual sales\", \"165 million dollars\", \"98 million dollars\"]\n"
     ]
    },
    {
     "name": "stderr",
     "output_type": "stream",
     "text": [
      " 76%|████████████████████████████████████████████████████████████████████████████████████████████████████████████████████████████████████████████████████████▊                                                | 76/100 [01:22<00:26,  1.12s/it]"
     ]
    },
    {
     "name": "stdout",
     "output_type": "stream",
     "text": [
      "extracted keywords: [\"Swedish Finance Ministry\", \"British Petroleum Plc\", \"Gothenburg refinery\", \"Swedish petroleum industry competitiveness\", \"domestic oil consumption\", \"sulphur content regulations\", \"Norway's Mongstad facility\", \"Statoil\", \"de-sulphurisation plant\", \"investments\", \"capacity utilisation\", \"European refining industry\", \"Sweden's state-owned\", \"annual capacity\", \"4.7 mln tonnes\"]\n"
     ]
    },
    {
     "name": "stderr",
     "output_type": "stream",
     "text": [
      " 77%|██████████████████████████████████████████████████████████████████████████████████████████████████████████████████████████████████████████████████████████▊                                              | 77/100 [01:22<00:23,  1.02s/it]"
     ]
    },
    {
     "name": "stdout",
     "output_type": "stream",
     "text": [
      "extracted keywords: [\"Metrobanc\", \"federal savings bank\", \"shareholders\", \"approved\", \"merger\", \"Comerica Inc\", \"bank holding company\", \"regulatory approval\"]\n"
     ]
    },
    {
     "name": "stderr",
     "output_type": "stream",
     "text": [
      " 78%|████████████████████████████████████████████████████████████████████████████████████████████████████████████████████████████████████████████████████████████▊                                            | 78/100 [01:23<00:21,  1.02it/s]"
     ]
    },
    {
     "name": "stdout",
     "output_type": "stream",
     "text": [
      "extracted keywords: [\"M.A. Hanna Co\", \"PMS Consolidated\", \"purchase\", \"definitive agreement\", \"plastics industry\", \"colorants\", \"Somerset, N.J.\", \"revenues\", \"fiscal year\"]\n"
     ]
    },
    {
     "name": "stderr",
     "output_type": "stream",
     "text": [
      " 79%|██████████████████████████████████████████████████████████████████████████████████████████████████████████████████████████████████████████████████████████████▊                                          | 79/100 [01:24<00:20,  1.04it/s]"
     ]
    },
    {
     "name": "stdout",
     "output_type": "stream",
     "text": [
      "extracted keywords: [\"Commodity Credit Corporation\", \"CCC\", \"export bonus\", \"barley\", \"Israel\", \"U.S. Agriculture Department\", \"Cargill, Inc\", \"commodities\", \"CCC stocks\", \"Export Enhancement Program\"]\n"
     ]
    },
    {
     "name": "stderr",
     "output_type": "stream",
     "text": [
      " 80%|████████████████████████████████████████████████████████████████████████████████████████████████████████████████████████████████████████████████████████████████▊                                        | 80/100 [01:25<00:17,  1.16it/s]"
     ]
    },
    {
     "name": "stdout",
     "output_type": "stream",
     "text": [
      "extracted keywords: [\"shr loss\", \"net loss\", \"revs\", \"Reuter\"]\n"
     ]
    },
    {
     "name": "stderr",
     "output_type": "stream",
     "text": [
      " 81%|██████████████████████████████████████████████████████████████████████████████████████████████████████████████████████████████████████████████████████████████████▊                                      | 81/100 [01:26<00:16,  1.13it/s]"
     ]
    },
    {
     "name": "stdout",
     "output_type": "stream",
     "text": [
      "extracted keywords: [\"Security Capital Corp\", \"suspended quarterly cash dividend\", \"indefinitely\", \"board authorization withdrawn\", \"buy stock on open market\", \"operating losses\", \"Benjamin Franklin Savings Association\", \"Houston-based subsidiary\"]\n"
     ]
    },
    {
     "name": "stderr",
     "output_type": "stream",
     "text": [
      " 82%|████████████████████████████████████████████████████████████████████████████████████████████████████████████████████████████████████████████████████████████████████▊                                    | 82/100 [01:28<00:21,  1.22s/it]"
     ]
    },
    {
     "name": "stdout",
     "output_type": "stream",
     "text": [
      "extracted keywords: [\"Kuwait\", \"oil-reliant economy\", \"debt-ridden\", \"recovery\", \"OPEC\", \"oil prices\", \"gross domestic product\", \"GDP\", \"Iran-Iraq war\", \"oil export\", \"business confidence\", \"debt crisis\", \"stock market crash\", \"forward trading\", \"post-dated cheques\", \"informal credit system\", \"bad debt\", \"government guarantee\", \"financial sector\", \"OPEC quota\", \"oil production\", \"oil products\", \"downstream operations\", \"refining investment\", \"oil prices rebound\", \"domestic inflation\", \"government spending\", \"external accounts\", \"current account surplus\", \"petrodollar reserves\", \"budget deficit\", \"state reserves\", \"economic growth\", \"state spending\", \"productive sectors\", \"REUTER\"]\n"
     ]
    },
    {
     "name": "stderr",
     "output_type": "stream",
     "text": [
      " 83%|██████████████████████████████████████████████████████████████████████████████████████████████████████████████████████████████████████████████████████████████████████▊                                  | 83/100 [01:29<00:21,  1.27s/it]"
     ]
    },
    {
     "name": "stdout",
     "output_type": "stream",
     "text": [
      "extracted keywords: [\"Martin T. Sosnoff\", \"Caesars World Inc\", \"tender offer\", \"Pratt Hotel Corp\", \"Southmark Corp\", \"joint venture\", \"gaming authorities\", \"regulatory review\", \"Sands Hotel and Casino\", \"Boardwalk Regency Hotel and Casino\", \"Resorts International Inc\", \"Donald Trump\", \"regulatory approvals\", \"board rejection\", \"shares\", \"interest\"]\n"
     ]
    },
    {
     "name": "stderr",
     "output_type": "stream",
     "text": [
      " 84%|████████████████████████████████████████████████████████████████████████████████████████████████████████████████████████████████████████████████████████████████████████▊                                | 84/100 [01:30<00:20,  1.25s/it]"
     ]
    },
    {
     "name": "stdout",
     "output_type": "stream",
     "text": [
      "extracted keywords: [\"Commodity Credit Corporation\", \"CCC\", \"bonus offers\", \"exporters\", \"hard red winter wheat\", \"soft red winter wheat\", \"Jordan\", \"U.S. Agriculture Department\", \"bonuses\", \"Louis Dreyfus Corp\", \"Continental Grain Co\", \"commodities\", \"CCC stocks\", \"U.S. wheat\", \"Export Enhancement Program\", \"December 31, 1986\"]\n"
     ]
    },
    {
     "name": "stderr",
     "output_type": "stream",
     "text": [
      " 85%|██████████████████████████████████████████████████████████████████████████████████████████████████████████████████████████████████████████████████████████████████████████▊                              | 85/100 [01:32<00:20,  1.35s/it]"
     ]
    },
    {
     "name": "stdout",
     "output_type": "stream",
     "text": [
      "extracted keywords: [\"U.S. trade laws\", \"House Ways and Means Trade Subcommittee\", \"trade surpluses\", \"foreign trading partners\", \"Democratic-sponsored trade legislation\", \"President Reagan\", \"retaliation\", \"quotas\", \"tariffs\", \"trade penalties\", \"Rep. Richard Gephardt\", \"trade deficit\", \"import relief\", \"export controls\", \"foreign competition\", \"research and development\", \"foreign trade barriers\", \"education and worker training\", \"collective bargaining\", \"worker rights\", \"minimum wage\", \"Clayton Yeutter\", \"import competition\", \"U.S. Trade Representative\"]\n"
     ]
    },
    {
     "name": "stderr",
     "output_type": "stream",
     "text": [
      " 86%|████████████████████████████████████████████████████████████████████████████████████████████████████████████████████████████████████████████████████████████████████████████▊                            | 86/100 [01:34<00:20,  1.44s/it]"
     ]
    },
    {
     "name": "stdout",
     "output_type": "stream",
     "text": [
      "extracted keywords: [\"House\", \"bill\", \"Reagan administration\", \"Congress\", \"Mideast Gulf policy\", \"liberal Democrats\", \"conservative Republicans\", \"legislators\", \"President Reagan\", \"Senate\", \"Republican senator\", \"Mark Hatfield\", \"Appropriations Committee\", \"War Powers Act\", \"Kuwaiti tankers\", \"Congressional leaders\", \"U.S. flag\", \"Kuwaiti ships\", \"Iran-Iraq war\", \"U.S. military\", \"gulf\", \"American servicemen\", \"equipment\", \"war\", \"snake pit\", \"powder keg\", \"Toby Roth\"]\n"
     ]
    },
    {
     "name": "stderr",
     "output_type": "stream",
     "text": [
      " 87%|██████████████████████████████████████████████████████████████████████████████████████████████████████████████████████████████████████████████████████████████████████████████▊                          | 87/100 [01:35<00:17,  1.31s/it]"
     ]
    },
    {
     "name": "stdout",
     "output_type": "stream",
     "text": [
      "extracted keywords: [\"Jordan\", \"bids\", \"U.S. wheat\", \"soft wheat\", \"hard red winter wheat\", \"Export Bonus\", \"private export sources\", \"tender\", \"225,000 tonnes\", \"April through November shipment\", \"USDA\", \"Reuter\"]\n"
     ]
    },
    {
     "name": "stderr",
     "output_type": "stream",
     "text": [
      " 88%|████████████████████████████████████████████████████████████████████████████████████████████████████████████████████████████████████████████████████████████████████████████████▉                        | 88/100 [01:36<00:14,  1.24s/it]"
     ]
    },
    {
     "name": "stdout",
     "output_type": "stream",
     "text": [
      "extracted keywords: [\"Westpac Banking Corp\", \"New Zealand\", \"indicator lending rate\", \"percentage points\", \"April 7\", \"high costs\", \"funding\", \"wholesale deposit market\", \"uncertainty\", \"interest rates\", \"liquidity\", \"pressure\", \"trading banks\", \"base lending indicator rates\"]\n"
     ]
    },
    {
     "name": "stderr",
     "output_type": "stream",
     "text": [
      " 89%|██████████████████████████████████████████████████████████████████████████████████████████████████████████████████████████████████████████████████████████████████████████████████▉                      | 89/100 [01:37<00:12,  1.17s/it]"
     ]
    },
    {
     "name": "stdout",
     "output_type": "stream",
     "text": [
      "extracted keywords: [\"Spartech Corp\", \"one for five reverse stock split\", \"registration statement\", \"Securities and Exchange Commission\", \"25 mln dlr offering\", \"convertible subordinated debentures\", \"1999\", \"Kidder Peabody and Co\", \"effective\", \"stock of record April eight\"]\n"
     ]
    },
    {
     "name": "stderr",
     "output_type": "stream",
     "text": [
      " 90%|████████████████████████████████████████████████████████████████████████████████████████████████████████████████████████████████████████████████████████████████████████████████████▉                    | 90/100 [01:38<00:12,  1.21s/it]"
     ]
    },
    {
     "name": "stdout",
     "output_type": "stream",
     "text": [
      "extracted keywords: [\"Arden Group Inc\", \"registration statement\", \"Securities and Exchange Commission\", \"issuer tender offers\", \"class A common stock\", \"8-1/4 pct debentures\", \"1989\", \"common stock holders\", \"30 dlrs cash\", \"35 dlrs principal\", \"13 pct subordinated debentures\", \"1997\", \"class B common stock\", \"cash payment\", \"proration\"]\n"
     ]
    },
    {
     "name": "stderr",
     "output_type": "stream",
     "text": [
      " 91%|██████████████████████████████████████████████████████████████████████████████████████████████████████████████████████████████████████████████████████████████████████████████████████▉                  | 91/100 [01:39<00:11,  1.23s/it]"
     ]
    },
    {
     "name": "stdout",
     "output_type": "stream",
     "text": [
      "extracted keywords: [\"European Community\", \"farm ministers\", \"compensation\", \"extensification scheme\", \"cereals\", \"beef\", \"veal\", \"wine\", \"output cuts\", \"profit\", \"environment\", \"farming areas\", \"alternative farming techniques\", \"Frans Andriessen\", \"income supports\", \"surplus production\", \"early retirement\", \"pensions\", \"revised proposals\"]\n"
     ]
    },
    {
     "name": "stderr",
     "output_type": "stream",
     "text": [
      " 92%|████████████████████████████████████████████████████████████████████████████████████████████████████████████████████████████████████████████████████████████████████████████████████████▉                | 92/100 [01:40<00:08,  1.10s/it]"
     ]
    },
    {
     "name": "stdout",
     "output_type": "stream",
     "text": [
      "extracted keywords: [\"quarterly dividend\", \"seven cents\", \"pay date\", \"June 1\", \"record date\", \"May 4\", \"Reuters\"]\n"
     ]
    },
    {
     "name": "stderr",
     "output_type": "stream",
     "text": [
      " 93%|██████████████████████████████████████████████████████████████████████████████████████████████████████████████████████████████████████████████████████████████████████████████████████████▉              | 93/100 [01:41<00:07,  1.02s/it]"
     ]
    },
    {
     "name": "stdout",
     "output_type": "stream",
     "text": [
      "extracted keywords: [\"operating loss\", \"net loss\", \"revenue\", \"profit\", \"extraordinary items\", \"discontinued operations\", \"fourth quarter\", \"1986\", \"1985\"]\n"
     ]
    },
    {
     "name": "stderr",
     "output_type": "stream",
     "text": [
      " 94%|████████████████████████████████████████████████████████████████████████████████████████████████████████████████████████████████████████████████████████████████████████████████████████████▉            | 94/100 [01:42<00:05,  1.08it/s]"
     ]
    },
    {
     "name": "stdout",
     "output_type": "stream",
     "text": [
      "extracted keywords: [\"operating loss\", \"net loss\", \"total income\", \"discontinued operations\", \"restated results\", \"Reuters\"]\n"
     ]
    },
    {
     "name": "stderr",
     "output_type": "stream",
     "text": [
      " 95%|██████████████████████████████████████████████████████████████████████████████████████████████████████████████████████████████████████████████████████████████████████████████████████████████▉          | 95/100 [01:43<00:04,  1.02it/s]"
     ]
    },
    {
     "name": "stdout",
     "output_type": "stream",
     "text": [
      "extracted keywords: [\"Crazy Eddie Inc\", \"board of directors\", \"shareholder rights plan\", \"stockholder protection\", \"stockholder value\", \"management\", \"plan amendments\", \"continuing directors\", \"certificate of designation\", \"preferred stock\", \"employee stock ownership plan\", \"financial difficulties\", \"shareholders meeting\"]\n"
     ]
    },
    {
     "name": "stderr",
     "output_type": "stream",
     "text": [
      " 96%|████████████████████████████████████████████████████████████████████████████████████████████████████████████████████████████████████████████████████████████████████████████████████████████████▉        | 96/100 [01:43<00:03,  1.11it/s]"
     ]
    },
    {
     "name": "stdout",
     "output_type": "stream",
     "text": [
      "extracted keywords: [\"Shr\", \"Net\", \"Assets\", \"Deposits\", \"Loans\", \"Reuter\"]\n"
     ]
    },
    {
     "name": "stderr",
     "output_type": "stream",
     "text": [
      " 97%|██████████████████████████████████████████████████████████████████████████████████████████████████████████████████████████████████████████████████████████████████████████████████████████████████▉      | 97/100 [01:44<00:02,  1.16it/s]"
     ]
    },
    {
     "name": "stdout",
     "output_type": "stream",
     "text": [
      "extracted keywords: [\"quarterly dividend\", \"Class A\", \"Class B\", \"payment\", \"record date\", \"Commonwealth Mortgage of America\", \"Reuters\"]\n"
     ]
    },
    {
     "name": "stderr",
     "output_type": "stream",
     "text": [
      " 98%|████████████████████████████████████████████████████████████████████████████████████████████████████████████████████████████████████████████████████████████████████████████████████████████████████▉    | 98/100 [01:45<00:01,  1.20it/s]"
     ]
    },
    {
     "name": "stdout",
     "output_type": "stream",
     "text": [
      "extracted keywords: [\"Shr\", \"cts\", \"Net\", \"Revs\", \"12 mths\", \"mln\", \"Reuter\"]\n"
     ]
    },
    {
     "name": "stderr",
     "output_type": "stream",
     "text": [
      " 99%|██████████████████████████████████████████████████████████████████████████████████████████████████████████████████████████████████████████████████████████████████████████████████████████████████████▉  | 99/100 [01:46<00:00,  1.06it/s]"
     ]
    },
    {
     "name": "stdout",
     "output_type": "stream",
     "text": [
      "extracted keywords: [\"Indian State Trading Corporation\", \"vegetable oils\", \"import tender\", \"April shipments\", \"European rapeseed oil\", \"soyoil\", \"South American origin\", \"Malaysian rbd palm olein\", \"palm oil\", \"rbd olein\", \"Malaysian refiner\", \"dealer selling\"]\n"
     ]
    },
    {
     "name": "stderr",
     "output_type": "stream",
     "text": [
      "100%|████████████████████████████████████████████████████████████████████████████████████████████████████████████████████████████████████████████████████████████████████████████████████████████████████████| 100/100 [01:47<00:00,  1.07s/it]"
     ]
    },
    {
     "name": "stdout",
     "output_type": "stream",
     "text": [
      "extracted keywords: [\"earnings report\", \"net income\", \"revenue\", \"tax credit\", \"real estate gains\", \"quarter\", \"year\"]\n",
      "--------------------------------------------------------------------------------------------------------------------------------\n"
     ]
    },
    {
     "name": "stderr",
     "output_type": "stream",
     "text": [
      "\n"
     ]
    },
    {
     "ename": "NameError",
     "evalue": "name 'df_topics_3' is not defined",
     "output_type": "error",
     "traceback": [
      "\u001b[1;31m---------------------------------------------------------------------------\u001b[0m",
      "\u001b[1;31mNameError\u001b[0m                                 Traceback (most recent call last)",
      "Cell \u001b[1;32mIn[9], line 16\u001b[0m\n\u001b[0;32m      8\u001b[0m df_sample \u001b[38;5;241m=\u001b[39m topic_extraction(df\u001b[38;5;241m=\u001b[39mdf_sample,\n\u001b[0;32m      9\u001b[0m                              text_col\u001b[38;5;241m=\u001b[39mtext_col,\n\u001b[0;32m     10\u001b[0m                              prompt_template\u001b[38;5;241m=\u001b[39mprompt_template_topics,\n\u001b[0;32m     11\u001b[0m                              gpt_model\u001b[38;5;241m=\u001b[39m\u001b[38;5;124m'\u001b[39m\u001b[38;5;124mgpt-4o\u001b[39m\u001b[38;5;124m'\u001b[39m,\n\u001b[0;32m     12\u001b[0m                              target_column_name\u001b[38;5;241m=\u001b[39mtarget_llm_column,\n\u001b[0;32m     13\u001b[0m                              language\u001b[38;5;241m=\u001b[39mlanguage)\n\u001b[0;32m     15\u001b[0m \u001b[38;5;28mprint\u001b[39m(\u001b[38;5;124m'\u001b[39m\u001b[38;5;124m--------------------------------------------------------------------------------------------------------------------------------\u001b[39m\u001b[38;5;124m'\u001b[39m)\n\u001b[1;32m---> 16\u001b[0m \u001b[38;5;28mprint\u001b[39m(\u001b[38;5;124mf\u001b[39m\u001b[38;5;124m'\u001b[39m\u001b[38;5;124mThe length of the topics that produced are: \u001b[39m\u001b[38;5;132;01m{\u001b[39;00m\u001b[38;5;28mlen\u001b[39m(\u001b[43mdf_topics_3\u001b[49m)\u001b[38;5;132;01m}\u001b[39;00m\u001b[38;5;124m'\u001b[39m)\n\u001b[0;32m     17\u001b[0m \u001b[38;5;28mprint\u001b[39m(\u001b[38;5;124mf\u001b[39m\u001b[38;5;124m'\u001b[39m\u001b[38;5;124mThe columns of the new dataframe are: \u001b[39m\u001b[38;5;132;01m{\u001b[39;00mdf_topics\u001b[38;5;241m.\u001b[39mcolumns\u001b[38;5;132;01m}\u001b[39;00m\u001b[38;5;124m'\u001b[39m)\n",
      "\u001b[1;31mNameError\u001b[0m: name 'df_topics_3' is not defined"
     ]
    }
   ],
   "source": [
    "from topic_modelling_techniques.llm_keyword_extraction import topic_extraction\n",
    "\n",
    "text_col='topic_body'\n",
    "language = 'English'\n",
    "target_llm_column = 'llm_keywords'\n",
    "\n",
    "# extract topics using llm's (openai gpt-4o)\n",
    "df_sample = topic_extraction(df=df_sample,\n",
    "                             text_col=text_col,\n",
    "                             prompt_template=prompt_template_topics,\n",
    "                             gpt_model='gpt-4o',\n",
    "                             target_column_name=target_llm_column,\n",
    "                             language=language)"
   ]
  },
  {
   "cell_type": "code",
   "execution_count": 10,
   "id": "35218879-c5a5-45b4-9d54-2060be6b0c61",
   "metadata": {},
   "outputs": [
    {
     "name": "stderr",
     "output_type": "stream",
     "text": [
      "C:\\1. Python\\LLM_mods_Topic_Modelling\\venv\\Lib\\site-packages\\transformers\\tokenization_utils_base.py:1601: FutureWarning: `clean_up_tokenization_spaces` was not set. It will be set to `True` by default. This behavior will be depracted in transformers v4.45, and will be then set to `False` by default. For more details check this issue: https://github.com/huggingface/transformers/issues/31884\n",
      "  warnings.warn(\n"
     ]
    },
    {
     "name": "stdout",
     "output_type": "stream",
     "text": [
      "Available device for the model is: 'cuda'\n"
     ]
    },
    {
     "name": "stderr",
     "output_type": "stream",
     "text": [
      "100%|████████████████████████████████████████████████████████████████████████████████████████████████████████████████████████████████████████████████████████████████████████████████████████████████████████████| 4/4 [00:00<00:00,  4.28it/s]"
     ]
    },
    {
     "name": "stdout",
     "output_type": "stream",
     "text": [
      "Calculation of embeddings completed successfully\n"
     ]
    },
    {
     "name": "stderr",
     "output_type": "stream",
     "text": [
      "\n"
     ]
    }
   ],
   "source": [
    "df_sample['llm_keywords_str'] = df_sample['llm_keywords'].apply(lambda x: ' '.join(x))\n",
    "\n",
    "# create embeddings for lda keywords\n",
    "embeddings_llm_keywords = calc_embeddings(sentences=df_sample['llm_keywords_str'].to_list())\n",
    "# Reduce the dimensionality of lda keyword embeddings\n",
    "reduced_data_llm = pca.fit_transform(embeddings_llm_keywords)\n",
    "# add a column for embeddings\n",
    "df_sample['llm_keyword_embeddings'] = list(reduced_data_llm)\n",
    "\n",
    "\n",
    "# Now you can call this function and add the cosine similarity column to your DataFrame\n",
    "df_sample, similarity_column_lda = compare_keyword_embeddings(df=df_sample,\n",
    "                                       original_column='original_keyword_embeddings',\n",
    "                                       column_for_comparison='llm_keyword_embeddings',\n",
    "                                       final_column_suffix='llm'\n",
    "                                      )"
   ]
  },
  {
   "cell_type": "code",
   "execution_count": 11,
   "id": "9f57290b-9d33-4d7f-b36c-08e6ed89f05f",
   "metadata": {},
   "outputs": [
    {
     "data": {
      "image/png": "[encoded data removed]",
      "text/plain": [
       "<Figure size 1200x800 with 1 Axes>"
      ]
     },
     "metadata": {},
     "output_type": "display_data"
    }
   ],
   "source": [
    "import numpy as np\n",
    "import matplotlib.pyplot as plt\n",
    "from scipy.stats import norm\n",
    "\n",
    "def plot_gaussian(df, similarity_columns):\n",
    "    \"\"\"\n",
    "    Plot the similarity scores as a Gaussian distribution.\n",
    "    \n",
    "    Parameters:\n",
    "    df (DataFrame): Input dataframe containing similarity scores.\n",
    "    similarity_columns (str): Column name of the similarity scores.\n",
    "    \n",
    "    Returns:\n",
    "    None: Plots the Gaussian distribution.\n",
    "    \"\"\"\n",
    "    fig, ax = plt.subplots(figsize=(12, 8))\n",
    "    \n",
    "    for column in similarity_columns:\n",
    "        # Calculate the mean and standard deviation\n",
    "        mean_similarity = df[column].mean()\n",
    "        std_similarity = df[column].std()\n",
    "    \n",
    "        # Generate x values (range of similarity scores)\n",
    "        x = np.linspace(mean_similarity - 4*std_similarity, mean_similarity + 4*std_similarity, 100)\n",
    "        # Generate y values using the Gaussian formula (normal distribution)\n",
    "        y = norm.pdf(x, mean_similarity, std_similarity)\n",
    "        method_name = column.split('_')[2]  \n",
    "        # Plot the Gaussian curve\n",
    "        ax.plot(x, y, label=f'Gaussian {method_name}\\nMean = {mean_similarity:.2f}\\nStd = {std_similarity:.2f}')\n",
    "        # Plot histogram of actual similarity values\n",
    "        ax.hist(df[column], bins=30, density=True, alpha=0.6, label=f'Hist {method_name}')\n",
    "\n",
    "    # Add labels and title\n",
    "    plt.title(\"Gaussian Fit to Similarity Scores\")\n",
    "    ax.set_xlabel('Similarity Score')\n",
    "    ax.set_ylabel('Density')\n",
    "    # Show legend\n",
    "    ax.legend() \n",
    "    # Show plot\n",
    "    plt.show()\n",
    "\n",
    "# Example usage:\n",
    "plot_gaussian(df=df_sample, similarity_columns=['cosine_similarity_lda', 'cosine_similarity_llm'])"
   ]
  },
  {
   "cell_type": "code",
   "execution_count": 12,
   "id": "376dddfa-5bcf-4819-a4a8-12d2f8ca8c06",
   "metadata": {},
   "outputs": [
    {
     "data": {
      "text/html": [
       "<div>\n",
       "<style scoped>\n",
       "    .dataframe tbody tr th:only-of-type {\n",
       "        vertical-align: middle;\n",
       "    }\n",
       "\n",
       "    .dataframe tbody tr th {\n",
       "        vertical-align: top;\n",
       "    }\n",
       "\n",
       "    .dataframe thead th {\n",
       "        text-align: right;\n",
       "    }\n",
       "</style>\n",
       "<table border=\"1\" class=\"dataframe\">\n",
       "  <thead>\n",
       "    <tr style=\"text-align: right;\">\n",
       "      <th></th>\n",
       "      <th>llm_keywords</th>\n",
       "      <th>topics</th>\n",
       "    </tr>\n",
       "  </thead>\n",
       "  <tbody>\n",
       "    <tr>\n",
       "      <th>0</th>\n",
       "      <td>[U.S., monopoly, maize exports, Spain, Europea...</td>\n",
       "      <td>['corn', 'sorghum', 'grain']</td>\n",
       "    </tr>\n",
       "    <tr>\n",
       "      <th>1</th>\n",
       "      <td>[Bundesbank, bids, securities repurchase pact,...</td>\n",
       "      <td>['money-fx', 'interest']</td>\n",
       "    </tr>\n",
       "    <tr>\n",
       "      <th>2</th>\n",
       "      <td>[President Reagan, U.S. Congress, protectionis...</td>\n",
       "      <td>['trade']</td>\n",
       "    </tr>\n",
       "    <tr>\n",
       "      <th>3</th>\n",
       "      <td>[shr, cts, net, revs, reuter]</td>\n",
       "      <td>['earn']</td>\n",
       "    </tr>\n",
       "    <tr>\n",
       "      <th>4</th>\n",
       "      <td>[Bank of England, money market, assistance, af...</td>\n",
       "      <td>['money-fx']</td>\n",
       "    </tr>\n",
       "    <tr>\n",
       "      <th>...</th>\n",
       "      <td>...</td>\n",
       "      <td>...</td>\n",
       "    </tr>\n",
       "    <tr>\n",
       "      <th>95</th>\n",
       "      <td>[Shr, Net, Assets, Deposits, Loans, Reuter]</td>\n",
       "      <td>['earn']</td>\n",
       "    </tr>\n",
       "    <tr>\n",
       "      <th>96</th>\n",
       "      <td>[quarterly dividend, Class A, Class B, payment...</td>\n",
       "      <td>['earn']</td>\n",
       "    </tr>\n",
       "    <tr>\n",
       "      <th>97</th>\n",
       "      <td>[Shr, cts, Net, Revs, 12 mths, mln, Reuter]</td>\n",
       "      <td>['earn']</td>\n",
       "    </tr>\n",
       "    <tr>\n",
       "      <th>98</th>\n",
       "      <td>[Indian State Trading Corporation, vegetable o...</td>\n",
       "      <td>['veg-oil', 'rape-oil', 'palm-oil']</td>\n",
       "    </tr>\n",
       "    <tr>\n",
       "      <th>99</th>\n",
       "      <td>[earnings report, net income, revenue, tax cre...</td>\n",
       "      <td>['earn']</td>\n",
       "    </tr>\n",
       "  </tbody>\n",
       "</table>\n",
       "<p>100 rows × 2 columns</p>\n",
       "</div>"
      ],
      "text/plain": [
       "                                         llm_keywords  \\\n",
       "0   [U.S., monopoly, maize exports, Spain, Europea...   \n",
       "1   [Bundesbank, bids, securities repurchase pact,...   \n",
       "2   [President Reagan, U.S. Congress, protectionis...   \n",
       "3                       [shr, cts, net, revs, reuter]   \n",
       "4   [Bank of England, money market, assistance, af...   \n",
       "..                                                ...   \n",
       "95        [Shr, Net, Assets, Deposits, Loans, Reuter]   \n",
       "96  [quarterly dividend, Class A, Class B, payment...   \n",
       "97        [Shr, cts, Net, Revs, 12 mths, mln, Reuter]   \n",
       "98  [Indian State Trading Corporation, vegetable o...   \n",
       "99  [earnings report, net income, revenue, tax cre...   \n",
       "\n",
       "                                 topics  \n",
       "0          ['corn', 'sorghum', 'grain']  \n",
       "1              ['money-fx', 'interest']  \n",
       "2                             ['trade']  \n",
       "3                              ['earn']  \n",
       "4                          ['money-fx']  \n",
       "..                                  ...  \n",
       "95                             ['earn']  \n",
       "96                             ['earn']  \n",
       "97                             ['earn']  \n",
       "98  ['veg-oil', 'rape-oil', 'palm-oil']  \n",
       "99                             ['earn']  \n",
       "\n",
       "[100 rows x 2 columns]"
      ]
     },
     "execution_count": 12,
     "metadata": {},
     "output_type": "execute_result"
    }
   ],
   "source": [
    "df_sample[['llm_keywords', 'topics']]"
   ]
  },
  {
   "cell_type": "code",
   "execution_count": null,
   "id": "23544afd-8c0a-4fa2-a0f2-3e2dcca8773b",
   "metadata": {},
   "outputs": [],
   "source": []
  }
 ],
 "metadata": {
  "kernelspec": {
   "display_name": "Python 3 (ipykernel)",
   "language": "python",
   "name": "python3"
  },
  "language_info": {
   "codemirror_mode": {
    "name": "ipython",
    "version": 3
   },
   "file_extension": ".py",
   "mimetype": "text/x-python",
   "name": "python",
   "nbconvert_exporter": "python",
   "pygments_lexer": "ipython3",
   "version": "3.11.3"
  }
 },
 "nbformat": 4,
 "nbformat_minor": 5
}
