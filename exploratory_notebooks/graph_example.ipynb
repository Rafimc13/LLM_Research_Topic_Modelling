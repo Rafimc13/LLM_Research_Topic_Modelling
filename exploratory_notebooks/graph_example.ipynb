{
 "cells": [
  {
   "cell_type": "markdown",
   "id": "0de54def-423f-4042-a3a0-43c3d84c1e69",
   "metadata": {},
   "source": [
    "### NETWORK GRAPH WITH TOPICS"
   ]
  },
  {
   "cell_type": "code",
   "execution_count": null,
   "id": "282f3a66-1b33-42c8-8925-dcf2bbd61750",
   "metadata": {},
   "outputs": [],
   "source": [
    "import pandas as pd\n",
    "import networkx as nx\n",
    "import matplotlib.pyplot as plt\n",
    "\n",
    "\n",
    "# Step 1: Create a graph\n",
    "G = nx.Graph()\n",
    "\n",
    "# Add nodes (comments)\n",
    "for comment in df['comment'].unique():\n",
    "    G.add_node(comment)\n",
    "\n",
    "# Step 2: Add edges based on shared clusters\n",
    "cluster_to_comments = {}\n",
    "\n",
    "for index, row in df.iterrows():\n",
    "    comment_id = row['comment']\n",
    "    cluster_label = row['labels']\n",
    "    \n",
    "    if cluster_label not in cluster_to_comments:\n",
    "        cluster_to_comments[cluster_label] = set()\n",
    "    cluster_to_comments[cluster_label].add(comment_id)\n",
    "\n",
    "# Step 3: Connect comments that share clusters\n",
    "for comments in cluster_to_comments.values():\n",
    "    comments = list(comments)\n",
    "    for i in range(len(comments)):\n",
    "        for j in range(i + 1, len(comments)):\n",
    "            G.add_edge(comments[i], comments[j])\n",
    "\n",
    "# Step 4: Plot the graph\n",
    "plt.figure(figsize=(10, 7))\n",
    "pos = nx.spring_layout(G)  # Spring layout for better visualization\n",
    "nx.draw(G, pos, with_labels=True, node_color='skyblue', node_size=150, edge_color='gray', font_size=10, font_weight='bold')\n",
    "\n",
    "# Draw edge labels to represent shared clusters\n",
    "edge_labels = {(u, v): f'cluster' for u, v in G.edges()}\n",
    "nx.draw_networkx_edge_labels(G, pos, edge_labels=edge_labels)\n",
    "\n",
    "plt.title(\"Graph of Comments Connected by Shared Clusters\")\n",
    "plt.show()"
   ]
  }
 ],
 "metadata": {
  "kernelspec": {
   "display_name": "Python 3 (ipykernel)",
   "language": "python",
   "name": "python3"
  },
  "language_info": {
   "codemirror_mode": {
    "name": "ipython",
    "version": 3
   },
   "file_extension": ".py",
   "mimetype": "text/x-python",
   "name": "python",
   "nbconvert_exporter": "python",
   "pygments_lexer": "ipython3",
   "version": "3.11.3"
  }
 },
 "nbformat": 4,
 "nbformat_minor": 5
}
