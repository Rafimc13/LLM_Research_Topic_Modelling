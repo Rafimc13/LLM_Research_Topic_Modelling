{
 "cells": [
  {
   "cell_type": "code",
   "execution_count": 2,
   "id": "075b1036-a551-413a-8e72-6064dfd8175c",
   "metadata": {},
   "outputs": [
    {
     "name": "stdout",
     "output_type": "stream",
     "text": [
      "dict_keys(['topic_list', 'general_query_list', 'specific_query_list', 'meeting_transcripts'])\n"
     ]
    }
   ],
   "source": [
    "import json\n",
    "import pandas as pd\n",
    "\n",
    "# Load the JSON data\n",
    "with open('datasets/QMSum/data/Product/train/ES2002c.json', 'r') as f:\n",
    "    data = json.load(f)\n",
    "\n",
    "\n",
    "print(data.keys())\n",
    "df_topics = pd.DataFrame(data['topic_list'])\n",
    "df_query_list = pd.DataFrame(data['general_query_list'])\n",
    "df_comments = pd.DataFrame(data['meeting_transcripts'])"
   ]
  },
  {
   "cell_type": "code",
   "execution_count": 3,
   "id": "7f611942-0034-47af-948a-eef84827efb7",
   "metadata": {},
   "outputs": [
    {
     "name": "stdout",
     "output_type": "stream",
     "text": [
      "                 speaker                                            content\n",
      "0    Industrial Designer  'S to do now is to decide how to fulfil what y...\n",
      "1              Marketing                                             Yeah .\n",
      "2    Industrial Designer                      so in that sense {disfmarker}\n",
      "3        Project Manager                                             Okay .\n",
      "4              Marketing                                      Yeah , sure .\n",
      "..                   ...                                                ...\n",
      "635  Industrial Designer                                    Play-doh time .\n",
      "636      Project Manager                      Yeah quite jealous actually .\n",
      "637  Industrial Designer  You got to choose first . {vocalsound} No , we...\n",
      "638            Marketing                                       {vocalsound}\n",
      "639  Industrial Designer  Okay , can I just swipe your power cable , I d...\n",
      "\n",
      "[640 rows x 2 columns]\n"
     ]
    }
   ],
   "source": [
    "print(df_comments)"
   ]
  },
  {
   "cell_type": "code",
   "execution_count": 4,
   "id": "90efa3bf-045e-4697-93f6-15cfdad49a0b",
   "metadata": {},
   "outputs": [
    {
     "name": "stdout",
     "output_type": "stream",
     "text": [
      "                                       topic relevant_text_span\n",
      "0              Presentation on market trends          [[0, 91]]\n",
      "1      Presentation on the conceptual design        [[92, 147]]\n",
      "2       Presentation on the component design       [[148, 315]]\n",
      "3  Decision discussion about remote concepts       [[316, 639]]\n"
     ]
    }
   ],
   "source": [
    "print(df_topics)"
   ]
  },
  {
   "cell_type": "code",
   "execution_count": 5,
   "id": "9b0ebdd8-5bc0-4f19-808b-2d2c27a0ebc2",
   "metadata": {},
   "outputs": [
    {
     "name": "stdout",
     "output_type": "stream",
     "text": [
      "Presentation on the conceptual design\n"
     ]
    }
   ],
   "source": [
    "print(df_topics.iloc[1]['topic'])"
   ]
  },
  {
   "cell_type": "code",
   "execution_count": 6,
   "id": "2ab1891c-92a4-4435-9824-2a1b1d4cba3e",
   "metadata": {},
   "outputs": [
    {
     "name": "stdout",
     "output_type": "stream",
     "text": [
      "This meeting was about the conceptual design of the remote control. Firstly, Marketing presented on the market trend and suggested a remote control with a fancy look and feel, technology innovation, and spongy material. Next, User Interface presented on conceptual design and recommended the control itself should use an inconsistent colour scheme. Then, Industrial Designer presented on the component design and that the cost, the complexity, and the size would have an impact on their remote design and reminded there would be a restriction on grouping plastic and rubber cases together. Lastly, the group discussed remote concepts and decided to have a small size remote with the speaker, the chip on print for the power, and a rubber case.\n"
     ]
    }
   ],
   "source": [
    "print(df_query_list.iloc[0].answer)"
   ]
  },
  {
   "cell_type": "code",
   "execution_count": null,
   "id": "27d65cb3-c9cf-49dd-818b-e344a2d872f8",
   "metadata": {},
   "outputs": [],
   "source": []
  }
 ],
 "metadata": {
  "kernelspec": {
   "display_name": "Python 3 (ipykernel)",
   "language": "python",
   "name": "python3"
  },
  "language_info": {
   "codemirror_mode": {
    "name": "ipython",
    "version": 3
   },
   "file_extension": ".py",
   "mimetype": "text/x-python",
   "name": "python",
   "nbconvert_exporter": "python",
   "pygments_lexer": "ipython3",
   "version": "3.11.3"
  }
 },
 "nbformat": 4,
 "nbformat_minor": 5
}
