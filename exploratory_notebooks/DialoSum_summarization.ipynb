{
 "cells": [
  {
   "cell_type": "markdown",
   "id": "b4fc8e69-78c9-4dc8-b33f-2d01455fabb0",
   "metadata": {},
   "source": [
    "## IMPLEMENT SUMMARIZATION TECHNIQUES WITH DIALOG SUM DATASET INCLUDING GROUND TRUTH"
   ]
  },
  {
   "cell_type": "code",
   "execution_count": 1,
   "id": "00a8e2d9-88ae-496c-8356-64bee47d0b50",
   "metadata": {},
   "outputs": [],
   "source": [
    "import pandas as pd\n",
    "\n",
    "\n",
    "df = pd.read_csv('datasets/dialogsum/train.csv')"
   ]
  },
  {
   "cell_type": "code",
   "execution_count": 2,
   "id": "96321a67-3be6-4b30-a274-f4f601a83522",
   "metadata": {},
   "outputs": [
    {
     "name": "stdout",
     "output_type": "stream",
     "text": [
      "Index(['id', 'dialogue', 'summary', 'topic'], dtype='object')\n"
     ]
    }
   ],
   "source": [
    "print(df.columns)"
   ]
  },
  {
   "cell_type": "code",
   "execution_count": 3,
   "id": "97f4c93d-18b7-49e6-9bff-6629f036f808",
   "metadata": {},
   "outputs": [
    {
     "name": "stdout",
     "output_type": "stream",
     "text": [
      "#Person1#: Hello Mrs. Parker, how have you been?\n",
      "#Person2#: Hello Dr. Peters. Just fine thank you. Ricky and I are here for his vaccines.\n",
      "#Person1#: Very well. Let's see, according to his vaccination record, Ricky has received his Polio, Tetanus and Hepatitis B shots. He is 14 months old, so he is due for Hepatitis A, Chickenpox and Measles shots.\n",
      "#Person2#: What about Rubella and Mumps?\n",
      "#Person1#: Well, I can only give him these for now, and after a couple of weeks I can administer the rest.\n",
      "#Person2#: OK, great. Doctor, I think I also may need a Tetanus booster. Last time I got it was maybe fifteen years ago!\n",
      "#Person1#: We will check our records and I'll have the nurse administer and the booster as well. Now, please hold Ricky's arm tight, this may sting a little.\n"
     ]
    }
   ],
   "source": [
    "print(df.iloc[1].dialogue)"
   ]
  },
  {
   "cell_type": "code",
   "execution_count": 12,
   "id": "5c42b03c-d739-4736-af45-fe421a0b78fc",
   "metadata": {},
   "outputs": [
    {
     "name": "stdout",
     "output_type": "stream",
     "text": [
      "Longest Dialogue:\n",
      "#Person1#: Hey, how are you doing?\n",
      "#Person2#: Uh, I guess okay ... kind of.\n",
      "#Person1#: Yeah, Mom said Daniel isn't doing so well. What's going on?\n",
      "#Person2#: Well, uh, for some reason I always thought raising kids would be a lot easier than it is.\n",
      "#Person1#: Yeah, I know. Tell me about it. What's, what's the problem?\n",
      "#Person2#: Well, for about six months, he's been really down, and sometimes, I can't get him out of bed in the morning to go to school. He just seems so depressed. I just can't figure it out.\n",
      "#Person1#: So, this has been going on like half a year?\n",
      "#Person2#: Yeah, kind of on and off, but I don't know. I ... I just thought it would just kind of go away, and I just thought things would just get, I don't know, get better.\n",
      "#Person1#: Yeah, that's not, that's pretty worrrisome. Um, I mean, I've noticed he's not hanging out with Jared very much anymore. You know, is he ... what's he doing when he's up?\n",
      "#Person2#: Well, uh, a lot of the time he's not up. He just kind of uh, stays in bed. [ Really? ] I just can't figure it out. I don't know.\n",
      "#Person1#: Yeah, that's, that's a big problem. I can see why you're really worried about him. Have you considered taken him to see a therapist, or a psychologist, or anybody?\n",
      "#Person2#: Ah, no. I, I ... It's probably just a phase or something. I think some kids were picking on him at school, but I think that's stopped. He doesn't talk about it anymore, so I guess that's over.\n",
      "#Person1#: So, you're saying that he was like being bullied and stuff?\n",
      "#Person2#: Yes, yeah. But he didn't talk about it a lot. I thought it was just, you know, having some problems, and it just kind of would go away.\n",
      "#Person1#: Well, you know, I don't know about that with the bullying or whatever, but you know, this has been going on for a long time. You really need to seriously address it.\n",
      "#Person2#: I don't know. Uh, and well, his girlfriend just broke up with him, so I guess maybe that's had an impact on him.\n",
      "#Person1#: Yeah, it has. Uh, that explains a lot. Um, have you looked at his Facebook page lately? [ What? ] He posted some stuff, well, he was posting some stuff, I think it was last night around midnight, um, yeah, talking about how much life sucks, wishing he could just disappear. [ Oh! ] Um, you know, I can't remember exactly the words he said, but I know that it really, really worried me. Some of the things he wrote are signs of, they might be thinking about suicide.\n",
      "#Person2#: Ah, I, I, I just can't figure that out. I mean, kids sometimes just talk like that. I, I, I thought. I thought that was kind of natural.\n",
      "#Person1#: Yes, sometimes they do that. That's what makes it hard. Sometimes, kids just talk like that, but some of them are serious, and some of them end up talking their own lives. Some of them really do kill themselves. You know, you need to take this seriously. Six months (of being depressed) isn't normal. Six months isn't just to act like this isn't just a phase. It's, there's something going on.\n",
      "#Person2#: So, any ideas? I mean, what should I do? I'm just kind of at a loss here.\n",
      "#Person1#: Oh, you know. I was talking to a woman the other day about her daughter. Um, there are crisis numbers you can call. Also, you could go to the hospital; you can do to the emergency room, and they do assessments there. Psychological assessments. [ Okay. ] Um, you know, it might be kind of hard to get him out to the hospital, to get him out to go with you if you can't get him out to go to school, but you need to take this seriously. [ Yeah ... ] You could take him down to the hospital, down to the emergency room, so ...\n",
      "#Person2#: I don't know.\n",
      "#Person1#: You know, it's really important because you've got to get on top of it. He needs you; he needs to know that you really love him, that you're not just kind of ignoring this.\n",
      "#Person2#: You know, I recently noticed that that I just saw some marks on his arms the other day, and I didn't know. I asked him about it. Kind of looked like some scratches, or something, and ...\n",
      "#Person1#: I saw those too, and those aren't scratches. They're too deep to be scratches. He's doing self-harm, too.\n",
      "#Person2#: Oh, man.\n",
      "#Person1#: You know, um, these are really serious things, and he's crying out for help. He doesn't know how to handle what is going on in his life. He's really struggling.\n",
      "#Person2#: You know, about a month ago, there was another boy in school, I think it (he) was about his age that, uh, took his own life, and I am wondering if that's had an impact on him.\n",
      "#Person1#: Umm, don't you think it would have?\n",
      "#Person2#: Probably. I don't know how well he knew the boy, but uh, I don't know.\n",
      "#Person1#: Yeah, things like that do have an impact on kids, and you just can't run the risk. He might be mad at you for hauling him down to to the hospital, but you need help to find out what's going on, so that you can support him, and so you can make sure you are getting him all the help that he can have. These things are serious, and you don't want to look back later and say I wish I had done that.\n",
      "#Person2#: Right. Well, yeah, send me that information, and uh, I'll start looking at it.\n",
      "#Person1#: Alright, thanks. Man: Thanks.\n",
      "-------------------------------------------------------------------------------------------------------------\n",
      "#Person2# tells #Person1# #Person2#'s kid Daniel has been down for six months and sometimes #Person2# can't get him out of bed to go to school. #Person2# can't figure it out and suspects that Daniel was like being bulled and stuff. #Person1# says the stuff Daniel posted on his Facebook page might be signs of suicide, but #Person2# thought it was kind of natural for kids just talk like that. #Person1# advises #Person2# to take it seriously and take Daniel down to the hospital or the emergency room. #Person2# tells #Person1# about the suicide of another boy in school, which may have an impact on Daniel. #Person1# thinks Daniel is struggling and advises #Person2# to support Daniel and get him all the help that he can have.\n"
     ]
    }
   ],
   "source": [
    "# Find the dialogue with the most letters\n",
    "df['length'] = df['dialogue'].apply(len)\n",
    "longest_dialogue = df.loc[df['length'].idxmax()]\n",
    "\n",
    "# Print the longest dialogue\n",
    "print(\"Longest Dialogue:\")\n",
    "print(longest_dialogue['dialogue'])\n",
    "print('-------------------------------------------------------------------------------------------------------------')\n",
    "print(longest_dialogue['summary'])"
   ]
  },
  {
   "cell_type": "code",
   "execution_count": null,
   "id": "b8cdba03-4dcb-4877-a5ee-6799b37e84e9",
   "metadata": {},
   "outputs": [],
   "source": []
  }
 ],
 "metadata": {
  "kernelspec": {
   "display_name": "Python 3 (ipykernel)",
   "language": "python",
   "name": "python3"
  },
  "language_info": {
   "codemirror_mode": {
    "name": "ipython",
    "version": 3
   },
   "file_extension": ".py",
   "mimetype": "text/x-python",
   "name": "python",
   "nbconvert_exporter": "python",
   "pygments_lexer": "ipython3",
   "version": "3.11.3"
  }
 },
 "nbformat": 4,
 "nbformat_minor": 5
}
