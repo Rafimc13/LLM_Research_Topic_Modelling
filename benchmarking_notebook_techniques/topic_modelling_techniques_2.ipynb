{
 "cells": [
  {
   "cell_type": "markdown",
   "id": "d0bad4a8-cf40-4c73-bfa4-f17f019dbb2d",
   "metadata": {},
   "source": [
    "# TOPIC MODELLING TECHNIQUES\n",
    "\n",
    "## USE OF DATASETS WITH GROUND TRUTH FOR COMPARING TOPIC MODELLING TECHNIQUES\n",
    "\n",
    "We are going to compare topic/keyword extraction of LLM with LDA"
   ]
  },
  {
   "cell_type": "code",
   "execution_count": 1,
   "id": "ae481da5-779d-4899-82ea-8dd6b3e104c8",
   "metadata": {},
   "outputs": [
    {
     "data": {
      "text/html": [
       "<div>\n",
       "<style scoped>\n",
       "    .dataframe tbody tr th:only-of-type {\n",
       "        vertical-align: middle;\n",
       "    }\n",
       "\n",
       "    .dataframe tbody tr th {\n",
       "        vertical-align: top;\n",
       "    }\n",
       "\n",
       "    .dataframe thead th {\n",
       "        text-align: right;\n",
       "    }\n",
       "</style>\n",
       "<table border=\"1\" class=\"dataframe\">\n",
       "  <thead>\n",
       "    <tr style=\"text-align: right;\">\n",
       "      <th></th>\n",
       "      <th>doc_id</th>\n",
       "      <th>text</th>\n",
       "      <th>controlled_keywords</th>\n",
       "      <th>original_keywords</th>\n",
       "    </tr>\n",
       "  </thead>\n",
       "  <tbody>\n",
       "    <tr>\n",
       "      <th>0</th>\n",
       "      <td>100</td>\n",
       "      <td>Separate accounts go mainstream [investment]\\n...</td>\n",
       "      <td>investment</td>\n",
       "      <td>separate-account industry; Web-based platforms...</td>\n",
       "    </tr>\n",
       "    <tr>\n",
       "      <th>1</th>\n",
       "      <td>1000</td>\n",
       "      <td>Does classicism explain universality? Argument...</td>\n",
       "      <td>cognitive systems; neural nets; philosophical ...</td>\n",
       "      <td>classicism; universality; classical component ...</td>\n",
       "    </tr>\n",
       "    <tr>\n",
       "      <th>2</th>\n",
       "      <td>1001</td>\n",
       "      <td>A conflict between language and atomistic info...</td>\n",
       "      <td>artificial intelligence; cognitive systems; ph...</td>\n",
       "      <td>philosophy of mind; Information-Based Semantic...</td>\n",
       "    </tr>\n",
       "    <tr>\n",
       "      <th>3</th>\n",
       "      <td>1002</td>\n",
       "      <td>Selective representing and world-making\\nWe di...</td>\n",
       "      <td>artificial intelligence; cognitive systems</td>\n",
       "      <td>world-making; selective representing; mental r...</td>\n",
       "    </tr>\n",
       "    <tr>\n",
       "      <th>4</th>\n",
       "      <td>1003</td>\n",
       "      <td>Lob's theorem as a limitation on mechanism\\nWe...</td>\n",
       "      <td>belief maintenance; cognitive systems; inferen...</td>\n",
       "      <td>Lob Theorem; limitation on mechanism; epistemi...</td>\n",
       "    </tr>\n",
       "  </tbody>\n",
       "</table>\n",
       "</div>"
      ],
      "text/plain": [
       "  doc_id                                               text  \\\n",
       "0    100  Separate accounts go mainstream [investment]\\n...   \n",
       "1   1000  Does classicism explain universality? Argument...   \n",
       "2   1001  A conflict between language and atomistic info...   \n",
       "3   1002  Selective representing and world-making\\nWe di...   \n",
       "4   1003  Lob's theorem as a limitation on mechanism\\nWe...   \n",
       "\n",
       "                                 controlled_keywords  \\\n",
       "0                                         investment   \n",
       "1  cognitive systems; neural nets; philosophical ...   \n",
       "2  artificial intelligence; cognitive systems; ph...   \n",
       "3         artificial intelligence; cognitive systems   \n",
       "4  belief maintenance; cognitive systems; inferen...   \n",
       "\n",
       "                                   original_keywords  \n",
       "0  separate-account industry; Web-based platforms...  \n",
       "1  classicism; universality; classical component ...  \n",
       "2  philosophy of mind; Information-Based Semantic...  \n",
       "3  world-making; selective representing; mental r...  \n",
       "4  Lob Theorem; limitation on mechanism; epistemi...  "
      ]
     },
     "execution_count": 1,
     "metadata": {},
     "output_type": "execute_result"
    }
   ],
   "source": [
    "import os\n",
    "import pandas as pd\n",
    "\n",
    "# Define the folder path containing the dataset\n",
    "folder_path = 'C://1. Python//LLM_mods_Topic_Modelling//hulth2003_train'\n",
    "\n",
    "# Lists to store extracted data\n",
    "document_ids = []\n",
    "abstracts = []\n",
    "controlled_keywords = []\n",
    "uncontrolled_keywords = []\n",
    "\n",
    "# Loop through the folder and process files\n",
    "for file_name in os.listdir(folder_path):\n",
    "    if file_name.endswith('.abstr'):\n",
    "        # Get the document ID (e.g., '6' from '6.abstr')\n",
    "        doc_id = file_name.split('.')[0]\n",
    "        \n",
    "        # Read the abstract\n",
    "        with open(os.path.join(folder_path, f'{doc_id}.abstr'), 'r') as f:\n",
    "            abstract = f.read().strip()\n",
    "        \n",
    "        # Read the controlled keywords\n",
    "        with open(os.path.join(folder_path, f'{doc_id}.contr'), 'r') as f:\n",
    "            contr_keywords = f.read().strip()\n",
    "        \n",
    "        # Read the uncontrolled keywords\n",
    "        with open(os.path.join(folder_path, f'{doc_id}.uncontr'), 'r') as f:\n",
    "            uncontr_keywords = f.read().strip()\n",
    "        \n",
    "        # Append the extracted data to the lists\n",
    "        document_ids.append(doc_id)\n",
    "        abstracts.append(abstract)\n",
    "        controlled_keywords.append(contr_keywords)\n",
    "        uncontrolled_keywords.append(uncontr_keywords)\n",
    "\n",
    "# Create a DataFrame to store the combined data\n",
    "df = pd.DataFrame({\n",
    "    'doc_id': document_ids,\n",
    "    'text': abstracts,\n",
    "    'controlled_keywords': controlled_keywords,\n",
    "    'original_keywords': uncontrolled_keywords\n",
    "})\n",
    "\n",
    "# Display the first few rows of the DataFrame\n",
    "df.head()"
   ]
  },
  {
   "cell_type": "code",
   "execution_count": 2,
   "id": "78e3f3c5-dc6b-4b80-8341-9857b2ebe7ac",
   "metadata": {},
   "outputs": [
    {
     "name": "stdout",
     "output_type": "stream",
     "text": [
      "Index(['doc_id', 'text', 'controlled_keywords', 'original_keywords'], dtype='object')\n",
      "----------------------------------------------------------------------------------------------------------------------\n",
      "       doc_id                                               text  \\\n",
      "count    1000                                               1000   \n",
      "unique   1000                                               1000   \n",
      "top       100  Separate accounts go mainstream [investment]\\n...   \n",
      "freq        1                                                  1   \n",
      "\n",
      "       controlled_keywords                                  original_keywords  \n",
      "count                 1000                                               1000  \n",
      "unique                 954                                               1000  \n",
      "top      telecommunication  separate-account industry; Web-based platforms...  \n",
      "freq                    10                                                  1  \n",
      "----------------------------------------------------------------------------------------------------------------------\n",
      "doc_id                 0\n",
      "text                   0\n",
      "controlled_keywords    0\n",
      "original_keywords      0\n",
      "dtype: int64\n",
      "----------------------------------------------------------------------------------------------------------------------\n",
      "The total length of the datasets is: 1000\n"
     ]
    }
   ],
   "source": [
    "# display the data types of each column and search for NaN values\n",
    "print(df.columns)\n",
    "print('----------------------------------------------------------------------------------------------------------------------')\n",
    "print(df.describe())\n",
    "print('----------------------------------------------------------------------------------------------------------------------')\n",
    "print(df.isna().sum())\n",
    "print('----------------------------------------------------------------------------------------------------------------------')\n",
    "print(f'The total length of the datasets is: {len(df)}')"
   ]
  },
  {
   "cell_type": "code",
   "execution_count": 3,
   "id": "87d556b2-9f5c-4e2f-b440-1ed7c85e4e88",
   "metadata": {},
   "outputs": [
    {
     "data": {
      "text/html": [
       "<div>\n",
       "<style scoped>\n",
       "    .dataframe tbody tr th:only-of-type {\n",
       "        vertical-align: middle;\n",
       "    }\n",
       "\n",
       "    .dataframe tbody tr th {\n",
       "        vertical-align: top;\n",
       "    }\n",
       "\n",
       "    .dataframe thead th {\n",
       "        text-align: right;\n",
       "    }\n",
       "</style>\n",
       "<table border=\"1\" class=\"dataframe\">\n",
       "  <thead>\n",
       "    <tr style=\"text-align: right;\">\n",
       "      <th></th>\n",
       "      <th>doc_id</th>\n",
       "      <th>text</th>\n",
       "      <th>original_keywords</th>\n",
       "    </tr>\n",
       "  </thead>\n",
       "  <tbody>\n",
       "    <tr>\n",
       "      <th>0</th>\n",
       "      <td>1413</td>\n",
       "      <td>Web content extraction. A WhizBang! approach\\n...</td>\n",
       "      <td>Web content extraction; FlipDog; job descripti...</td>\n",
       "    </tr>\n",
       "    <tr>\n",
       "      <th>1</th>\n",
       "      <td>539</td>\n",
       "      <td>Perfusion quantification using Gaussian proces...</td>\n",
       "      <td>perfusion quantification; Gaussian process dec...</td>\n",
       "    </tr>\n",
       "    <tr>\n",
       "      <th>2</th>\n",
       "      <td>1213</td>\n",
       "      <td>A knowledge intensive multi-agent framework fo...</td>\n",
       "      <td>knowledge intensive multi-agent framework; col...</td>\n",
       "    </tr>\n",
       "    <tr>\n",
       "      <th>3</th>\n",
       "      <td>1233</td>\n",
       "      <td>Advanced optimization strategies in the Rice d...</td>\n",
       "      <td>Mgh-Performance Fortran; legacy Fortran codes;...</td>\n",
       "    </tr>\n",
       "    <tr>\n",
       "      <th>4</th>\n",
       "      <td>1394</td>\n",
       "      <td>Subject access to government documents in an e...</td>\n",
       "      <td>government documents; globalization; intellect...</td>\n",
       "    </tr>\n",
       "  </tbody>\n",
       "</table>\n",
       "</div>"
      ],
      "text/plain": [
       "  doc_id                                               text  \\\n",
       "0   1413  Web content extraction. A WhizBang! approach\\n...   \n",
       "1    539  Perfusion quantification using Gaussian proces...   \n",
       "2   1213  A knowledge intensive multi-agent framework fo...   \n",
       "3   1233  Advanced optimization strategies in the Rice d...   \n",
       "4   1394  Subject access to government documents in an e...   \n",
       "\n",
       "                                   original_keywords  \n",
       "0  Web content extraction; FlipDog; job descripti...  \n",
       "1  perfusion quantification; Gaussian process dec...  \n",
       "2  knowledge intensive multi-agent framework; col...  \n",
       "3  Mgh-Performance Fortran; legacy Fortran codes;...  \n",
       "4  government documents; globalization; intellect...  "
      ]
     },
     "execution_count": 3,
     "metadata": {},
     "output_type": "execute_result"
    }
   ],
   "source": [
    "# take a sample of 1000 comments\n",
    "df_sample = df[['doc_id', 'text', 'original_keywords']].sample(100)\n",
    "df_sample = df_sample.reset_index(drop=True)\n",
    "df_sample.head()"
   ]
  },
  {
   "cell_type": "markdown",
   "id": "3853c845-369e-4cdd-b179-a4a440c07449",
   "metadata": {},
   "source": [
    "### CREATE A KEYWORD EXTRACTION WITH LDA (LATENT DIRICHLET ALLOCATION)"
   ]
  },
  {
   "cell_type": "code",
   "execution_count": 4,
   "id": "535f81dd-1184-4c7e-a23a-c6aee6bdf017",
   "metadata": {},
   "outputs": [
    {
     "data": {
      "text/html": [
       "<div>\n",
       "<style scoped>\n",
       "    .dataframe tbody tr th:only-of-type {\n",
       "        vertical-align: middle;\n",
       "    }\n",
       "\n",
       "    .dataframe tbody tr th {\n",
       "        vertical-align: top;\n",
       "    }\n",
       "\n",
       "    .dataframe thead th {\n",
       "        text-align: right;\n",
       "    }\n",
       "</style>\n",
       "<table border=\"1\" class=\"dataframe\">\n",
       "  <thead>\n",
       "    <tr style=\"text-align: right;\">\n",
       "      <th></th>\n",
       "      <th>text</th>\n",
       "      <th>lda_keywords</th>\n",
       "      <th>optimal_num_topics</th>\n",
       "    </tr>\n",
       "  </thead>\n",
       "  <tbody>\n",
       "    <tr>\n",
       "      <th>0</th>\n",
       "      <td>Web content extraction. A WhizBang! approach\\n...</td>\n",
       "      <td>[job]</td>\n",
       "      <td>1</td>\n",
       "    </tr>\n",
       "    <tr>\n",
       "      <th>1</th>\n",
       "      <td>Perfusion quantification using Gaussian proces...</td>\n",
       "      <td>[gpd]</td>\n",
       "      <td>1</td>\n",
       "    </tr>\n",
       "    <tr>\n",
       "      <th>2</th>\n",
       "      <td>A knowledge intensive multi-agent framework fo...</td>\n",
       "      <td>[design]</td>\n",
       "      <td>1</td>\n",
       "    </tr>\n",
       "    <tr>\n",
       "      <th>3</th>\n",
       "      <td>Advanced optimization strategies in the Rice d...</td>\n",
       "      <td>[optimization]</td>\n",
       "      <td>1</td>\n",
       "    </tr>\n",
       "    <tr>\n",
       "      <th>4</th>\n",
       "      <td>Subject access to government documents in an e...</td>\n",
       "      <td>[supranational]</td>\n",
       "      <td>1</td>\n",
       "    </tr>\n",
       "    <tr>\n",
       "      <th>...</th>\n",
       "      <td>...</td>\n",
       "      <td>...</td>\n",
       "      <td>...</td>\n",
       "    </tr>\n",
       "    <tr>\n",
       "      <th>95</th>\n",
       "      <td>A round of cash, a pound of flesh [telecom]\\nD...</td>\n",
       "      <td>[ups]</td>\n",
       "      <td>1</td>\n",
       "    </tr>\n",
       "    <tr>\n",
       "      <th>96</th>\n",
       "      <td>The impact and implementation of XML on busine...</td>\n",
       "      <td>[business]</td>\n",
       "      <td>1</td>\n",
       "    </tr>\n",
       "    <tr>\n",
       "      <th>97</th>\n",
       "      <td>Modelling of complete robot dynamics based on ...</td>\n",
       "      <td>[neural]</td>\n",
       "      <td>1</td>\n",
       "    </tr>\n",
       "    <tr>\n",
       "      <th>98</th>\n",
       "      <td>A model for choosing an electronic reserves sy...</td>\n",
       "      <td>[reserves]</td>\n",
       "      <td>1</td>\n",
       "    </tr>\n",
       "    <tr>\n",
       "      <th>99</th>\n",
       "      <td>Algorithmic results for ordered median problem...</td>\n",
       "      <td>[function]</td>\n",
       "      <td>1</td>\n",
       "    </tr>\n",
       "  </tbody>\n",
       "</table>\n",
       "<p>100 rows × 3 columns</p>\n",
       "</div>"
      ],
      "text/plain": [
       "                                                 text     lda_keywords  \\\n",
       "0   Web content extraction. A WhizBang! approach\\n...            [job]   \n",
       "1   Perfusion quantification using Gaussian proces...            [gpd]   \n",
       "2   A knowledge intensive multi-agent framework fo...         [design]   \n",
       "3   Advanced optimization strategies in the Rice d...   [optimization]   \n",
       "4   Subject access to government documents in an e...  [supranational]   \n",
       "..                                                ...              ...   \n",
       "95  A round of cash, a pound of flesh [telecom]\\nD...            [ups]   \n",
       "96  The impact and implementation of XML on busine...       [business]   \n",
       "97  Modelling of complete robot dynamics based on ...         [neural]   \n",
       "98  A model for choosing an electronic reserves sy...       [reserves]   \n",
       "99  Algorithmic results for ordered median problem...       [function]   \n",
       "\n",
       "    optimal_num_topics  \n",
       "0                    1  \n",
       "1                    1  \n",
       "2                    1  \n",
       "3                    1  \n",
       "4                    1  \n",
       "..                 ...  \n",
       "95                   1  \n",
       "96                   1  \n",
       "97                   1  \n",
       "98                   1  \n",
       "99                   1  \n",
       "\n",
       "[100 rows x 3 columns]"
      ]
     },
     "execution_count": 4,
     "metadata": {},
     "output_type": "execute_result"
    }
   ],
   "source": [
    "from topic_modelling_techniques.lda_keyword_extraction import extract_keywords_for_all_comments\n",
    "\n",
    "text_col='text'\n",
    "\n",
    "# Find the optimal number of keywords per comment, implement LDA and \n",
    "df_sample = extract_keywords_for_all_comments(df_sample, text_col, min_topics=1, max_topics=10, find_optimal=(True, None))\n",
    "\n",
    "# View the result\n",
    "df_sample[['text', 'lda_keywords', 'optimal_num_topics']]"
   ]
  },
  {
   "cell_type": "markdown",
   "id": "d8d3b141-1824-4a2a-97a4-f169678bdc1d",
   "metadata": {},
   "source": [
    "### CALCULATE THE COSINE SIMILARITY BETWEEN LDA KEYWORDS AND ORIGINAL KEYWORDS\n",
    "\n",
    "#### FIRSTLY CALCULATE THE EMBEDDINGS OF THE KEYWORDS"
   ]
  },
  {
   "cell_type": "code",
   "execution_count": 9,
   "id": "6910d5f1-9c8a-4bc2-8f91-629c19aa4d81",
   "metadata": {},
   "outputs": [
    {
     "name": "stderr",
     "output_type": "stream",
     "text": [
      "C:\\1. Python\\LLM_mods_Topic_Modelling\\venv\\Lib\\site-packages\\transformers\\tokenization_utils_base.py:1601: FutureWarning: `clean_up_tokenization_spaces` was not set. It will be set to `True` by default. This behavior will be depracted in transformers v4.45, and will be then set to `False` by default. For more details check this issue: https://github.com/huggingface/transformers/issues/31884\n",
      "  warnings.warn(\n"
     ]
    },
    {
     "name": "stdout",
     "output_type": "stream",
     "text": [
      "Available device for the model is: 'cuda'\n"
     ]
    },
    {
     "name": "stderr",
     "output_type": "stream",
     "text": [
      "100%|████████████████████████████████████████████████████████████████████████████████████████████████████████████████████████████████████████████████████████████████████████████████████████████████████████████| 4/4 [00:01<00:00,  2.93it/s]\n"
     ]
    },
    {
     "name": "stdout",
     "output_type": "stream",
     "text": [
      "Calculation of embeddings completed successfully\n"
     ]
    },
    {
     "name": "stderr",
     "output_type": "stream",
     "text": [
      "C:\\1. Python\\LLM_mods_Topic_Modelling\\venv\\Lib\\site-packages\\transformers\\tokenization_utils_base.py:1601: FutureWarning: `clean_up_tokenization_spaces` was not set. It will be set to `True` by default. This behavior will be depracted in transformers v4.45, and will be then set to `False` by default. For more details check this issue: https://github.com/huggingface/transformers/issues/31884\n",
      "  warnings.warn(\n"
     ]
    },
    {
     "name": "stdout",
     "output_type": "stream",
     "text": [
      "Available device for the model is: 'cuda'\n"
     ]
    },
    {
     "name": "stderr",
     "output_type": "stream",
     "text": [
      "100%|████████████████████████████████████████████████████████████████████████████████████████████████████████████████████████████████████████████████████████████████████████████████████████████████████████████| 4/4 [00:00<00:00, 41.53it/s]\n"
     ]
    },
    {
     "name": "stdout",
     "output_type": "stream",
     "text": [
      "Calculation of embeddings completed successfully\n"
     ]
    }
   ],
   "source": [
    "from sklearn.preprocessing import MultiLabelBinarizer\n",
    "from utils.text_to_embeddings import calc_embeddings\n",
    "from sklearn.decomposition import PCA\n",
    "\n",
    "# modify the topics in order to be able to tokenize them in a transformer\n",
    "df_sample['original_keywords_str'] = df_sample['original_keywords'].apply(lambda x: x.replace(';', \" \"))\n",
    "df_sample['original_keywords_str'] = df_sample['original_keywords'].apply(lambda x: x.replace('\\n', \" \"))\n",
    "df_sample['original_keywords_str'] = df_sample['original_keywords'].apply(lambda x: x.replace('\\t', \" \"))\n",
    "df_sample['lda_keywords_str'] = df_sample['lda_keywords'].apply(lambda x: ' '.join(x))\n",
    "\n",
    "# create an instance of PCA\n",
    "pca = PCA(n_components=64)\n",
    "\n",
    "# create embeddings for original keywords\n",
    "embeddings_original_keywords =calc_embeddings(sentences=df_sample['original_keywords_str'].to_list())\n",
    "\n",
    "# Reduce the dimensionality of original keyword embeddings\n",
    "reduced_data_original = pca.fit_transform(embeddings_original_keywords)\n",
    "# add a column for embeddings\n",
    "df_sample['original_keyword_embeddings'] = list(reduced_data_original)\n",
    "\n",
    "# create embeddings for lda keywords\n",
    "embeddings_lda_keywords = calc_embeddings(sentences=df_sample['lda_keywords_str'].to_list())\n",
    "# Reduce the dimensionality of lda keyword embeddings\n",
    "reduced_data_lda = pca.fit_transform(embeddings_lda_keywords)\n",
    "# add a column for embeddings\n",
    "df_sample['lda_keyword_embeddings'] = list(reduced_data_lda)"
   ]
  },
  {
   "cell_type": "markdown",
   "id": "50da234e-4bf5-4ef9-88ec-1c4d2d826a3a",
   "metadata": {},
   "source": [
    "#### MAKE THE COMPARISON BETWEEN LDA AND ORIGINAL KEYWORDS"
   ]
  },
  {
   "cell_type": "code",
   "execution_count": 11,
   "id": "789fcf4d-0920-4a7e-9a88-a67dcb5c4fea",
   "metadata": {},
   "outputs": [
    {
     "data": {
      "text/plain": [
       "19   -0.061394\n",
       "71   -0.062630\n",
       "58    0.026547\n",
       "62    0.009584\n",
       "98   -0.152395\n",
       "Name: cosine_similarity_lda, dtype: float64"
      ]
     },
     "execution_count": 11,
     "metadata": {},
     "output_type": "execute_result"
    }
   ],
   "source": [
    "from utils.benchmark_topic_modelling import compare_keyword_embeddings\n",
    "\n",
    "# Now you can call this function and add the cosine similarity column to your DataFrame\n",
    "df_sample, similarity_column_lda = compare_keyword_embeddings(df=df_sample,\n",
    "                                       original_column='original_keyword_embeddings',\n",
    "                                       column_for_comparison='lda_keyword_embeddings',\n",
    "                                       final_column_suffix='lda'\n",
    "                                      )\n",
    "# plot a sample of similarity scores\n",
    "df_sample[similarity_column_lda].sample(5)"
   ]
  },
  {
   "cell_type": "markdown",
   "id": "8a988e19-f483-43a1-835a-7d4a6ed72494",
   "metadata": {},
   "source": [
    "### CREATE A KEYWORD/TOPIC EXTRACTION WITH LLM'S (GPT 4o)"
   ]
  },
  {
   "cell_type": "code",
   "execution_count": 12,
   "id": "4b987365-d03a-4817-b320-6b52112721b8",
   "metadata": {},
   "outputs": [
    {
     "name": "stdout",
     "output_type": "stream",
     "text": [
      "The number of arguments to contain in the prompt are: 2\n",
      "The required arguments are: ['language', 'comment']\n"
     ]
    }
   ],
   "source": [
    "from utils.load_prompts import load_chosen_prompt\n",
    "\n",
    "# load the prompt template for summarizing comments grouped by label\n",
    "prompt_template_topics = load_chosen_prompt(prompt_name='prompt_for_keyword_extraction')"
   ]
  },
  {
   "cell_type": "code",
   "execution_count": 13,
   "id": "74aa7615-2e8c-47ba-be2b-fd8f4fd19282",
   "metadata": {
    "scrolled": true
   },
   "outputs": [
    {
     "name": "stderr",
     "output_type": "stream",
     "text": [
      "  1%|██                                                                                                                                                                                                        | 1/100 [00:01<02:11,  1.33s/it]"
     ]
    },
    {
     "name": "stdout",
     "output_type": "stream",
     "text": [
      "extracted keywords: [\"Web content extraction\", \"WhizBang\", \"FlipDog\", \"extraction technology\", \"hyperlinks\", \"job opportunities\", \"WhizBang! Extraction Framework\", \"job title\", \"employer\", \"job category\", \"job function\", \"company Web site\"]\n"
     ]
    },
    {
     "name": "stderr",
     "output_type": "stream",
     "text": [
      "  2%|████                                                                                                                                                                                                      | 2/100 [00:02<01:41,  1.04s/it]"
     ]
    },
    {
     "name": "stdout",
     "output_type": "stream",
     "text": [
      "extracted keywords: [\"perfusion quantification\", \"Gaussian process deconvolution\", \"DSC-MRI\", \"residual impulse response function\", \"noise level\", \"singular value decomposition\", \"signal-to-noise ratio\"]\n"
     ]
    },
    {
     "name": "stderr",
     "output_type": "stream",
     "text": [
      "  3%|██████                                                                                                                                                                                                    | 3/100 [00:03<01:40,  1.03s/it]"
     ]
    },
    {
     "name": "stdout",
     "output_type": "stream",
     "text": [
      "extracted keywords: [\"knowledge intensive\", \"multi-agent framework\", \"cooperative design\", \"collaborative design\", \"decision support\", \"assembly planning\", \"distributed information system\", \"virtual consortium\", \"intelligent agents\", \"AI protocol\", \"Petri nets\", \"concurrent design\", \"assembly simulation\"]\n"
     ]
    },
    {
     "name": "stderr",
     "output_type": "stream",
     "text": [
      "  4%|████████                                                                                                                                                                                                  | 4/100 [00:04<01:32,  1.03it/s]"
     ]
    },
    {
     "name": "stdout",
     "output_type": "stream",
     "text": [
      "extracted keywords: [\"Rice dHPF compiler\", \"High-Performance Fortran\", \"optimization strategies\", \"scalable parallel performance\", \"compiler analysis\", \"data-parallel applications\", \"parallelization\", \"scientific applications\", \"multipartitioned parallelizations\"]\n"
     ]
    },
    {
     "name": "stderr",
     "output_type": "stream",
     "text": [
      "  5%|██████████                                                                                                                                                                                                | 5/100 [00:05<01:33,  1.02it/s]"
     ]
    },
    {
     "name": "stdout",
     "output_type": "stream",
     "text": [
      "extracted keywords: [\"subject access\", \"government documents\", \"globalization\", \"supranational organizations\", \"academic libraries\", \"World Trade Organization\", \"WTO\", \"North American Free Trade Agreement\", \"NAFTA\", \"transnational economic agreements\", \"private sector\", \"nongovernmental organizations\", \"NGOs\"]\n"
     ]
    },
    {
     "name": "stderr",
     "output_type": "stream",
     "text": [
      "  6%|████████████                                                                                                                                                                                              | 6/100 [00:05<01:23,  1.13it/s]"
     ]
    },
    {
     "name": "stdout",
     "output_type": "stream",
     "text": [
      "extracted keywords: [\"production capacity\", \"flexible manufacturing systems\", \"fixed production ratios\", \"part types\", \"dedicated pallets\", \"iterative procedure\", \"performance evaluation\"]\n"
     ]
    },
    {
     "name": "stderr",
     "output_type": "stream",
     "text": [
      "  7%|██████████████▏                                                                                                                                                                                           | 7/100 [00:06<01:15,  1.23it/s]"
     ]
    },
    {
     "name": "stdout",
     "output_type": "stream",
     "text": [
      "extracted keywords: [\"workflow management\", \"content management\", \"business process management\", \"IT users\", \"software implementation\", \"research\"]\n"
     ]
    },
    {
     "name": "stderr",
     "output_type": "stream",
     "text": [
      "  8%|████████████████▏                                                                                                                                                                                         | 8/100 [00:07<01:12,  1.27it/s]"
     ]
    },
    {
     "name": "stdout",
     "output_type": "stream",
     "text": [
      "extracted keywords: [\"manifold learning\", \"algorithm\", \"simplicial complex\", \"tangent bundle\", \"sampling density\", \"geometry\", \"topology\", \"dimension\", \"embedding space\"]\n"
     ]
    },
    {
     "name": "stderr",
     "output_type": "stream",
     "text": [
      "  9%|██████████████████▏                                                                                                                                                                                       | 9/100 [00:07<01:11,  1.27it/s]"
     ]
    },
    {
     "name": "stdout",
     "output_type": "stream",
     "text": [
      "extracted keywords: [\"conference\", \"undergraduate female students\", \"Grace Hopper Celebration\", \"Women in Computing\", \"computer science\", \"education\", \"impact\", \"experience\", \"opportunity\", \"support\"]\n"
     ]
    },
    {
     "name": "stderr",
     "output_type": "stream",
     "text": [
      " 10%|████████████████████                                                                                                                                                                                     | 10/100 [00:08<01:12,  1.24it/s]"
     ]
    },
    {
     "name": "stdout",
     "output_type": "stream",
     "text": [
      "extracted keywords: [\"XML\", \"neural network\", \"Neural Network Markup Language\", \"model description\", \"reproduction\", \"data dictionary\", \"training sample\", \"preprocessing methods\", \"network structure\", \"network output interpretation\"]\n"
     ]
    },
    {
     "name": "stderr",
     "output_type": "stream",
     "text": [
      " 11%|██████████████████████                                                                                                                                                                                   | 11/100 [00:09<01:13,  1.20it/s]"
     ]
    },
    {
     "name": "stdout",
     "output_type": "stream",
     "text": [
      "extracted keywords: [\"induction heating\", \"monitoring\", \"control\", \"heating coil\", \"sensor\", \"semi-solid alloys\", \"aluminium A357\", \"impedance\", \"temperature\", \"resistance\", \"reactance\", \"solid/liquid fraction\"]\n"
     ]
    },
    {
     "name": "stderr",
     "output_type": "stream",
     "text": [
      " 12%|████████████████████████                                                                                                                                                                                 | 12/100 [00:10<01:16,  1.15it/s]"
     ]
    },
    {
     "name": "stdout",
     "output_type": "stream",
     "text": [
      "extracted keywords: [\"case-based reasoning\", \"classifier\", \"breast biopsy\", \"BI-RADS\", \"benign lesions\", \"Hamming distance\", \"Euclidean distance\", \"mammographic cases\", \"calcification\", \"mass margin\", \"ROC analysis\", \"sensitivity\", \"diagnostic tool\"]\n"
     ]
    },
    {
     "name": "stderr",
     "output_type": "stream",
     "text": [
      " 13%|██████████████████████████▏                                                                                                                                                                              | 13/100 [00:11<01:10,  1.23it/s]"
     ]
    },
    {
     "name": "stdout",
     "output_type": "stream",
     "text": [
      "extracted keywords: [\"caravan\", \"active braking system\", \"snaking vibrations\", \"trailer\", \"virtual design\", \"simulations\", \"effective\", \"robust\"]\n"
     ]
    },
    {
     "name": "stderr",
     "output_type": "stream",
     "text": [
      " 14%|████████████████████████████▏                                                                                                                                                                            | 14/100 [00:12<01:07,  1.27it/s]"
     ]
    },
    {
     "name": "stdout",
     "output_type": "stream",
     "text": [
      "extracted keywords: [\"Quantum Zeno effect\", \"adiabatic theorem\", \"dynamical coupling\", \"quantum system\", \"apparatus\", \"decoherence-free subspaces\"]\n"
     ]
    },
    {
     "name": "stderr",
     "output_type": "stream",
     "text": [
      " 15%|██████████████████████████████▏                                                                                                                                                                          | 15/100 [00:12<01:04,  1.33it/s]"
     ]
    },
    {
     "name": "stdout",
     "output_type": "stream",
     "text": [
      "extracted keywords: [\"canonical dual frame\", \"wavelet frame\", \"dual wavelet frames\", \"translates and dilates\"]\n"
     ]
    },
    {
     "name": "stderr",
     "output_type": "stream",
     "text": [
      " 16%|████████████████████████████████▏                                                                                                                                                                        | 16/100 [00:13<01:06,  1.27it/s]"
     ]
    },
    {
     "name": "stdout",
     "output_type": "stream",
     "text": [
      "extracted keywords: [\"CRONE control\", \"frequency-domain\", \"robust control\", \"fractional differentiation\", \"time-variant plants\", \"asymptotically constant coefficients\", \"stability theorem\", \"feedback systems\"]\n"
     ]
    },
    {
     "name": "stderr",
     "output_type": "stream",
     "text": [
      " 17%|██████████████████████████████████▏                                                                                                                                                                      | 17/100 [00:14<01:09,  1.19it/s]"
     ]
    },
    {
     "name": "stdout",
     "output_type": "stream",
     "text": [
      "extracted keywords: [\"push system\", \"pull system\", \"transporters\", \"metamodelling\", \"multiproduct production\", \"multiline production\", \"multistage production\", \"processing time variation\", \"demand variation\", \"throughput rate\", \"average waiting time\", \"machine utilization\", \"batch size\", \"performance measures\"]\n"
     ]
    },
    {
     "name": "stderr",
     "output_type": "stream",
     "text": [
      " 18%|████████████████████████████████████▏                                                                                                                                                                    | 18/100 [00:15<01:05,  1.26it/s]"
     ]
    },
    {
     "name": "stdout",
     "output_type": "stream",
     "text": [
      "extracted keywords: [\"BT\", \"IP support\", \"Mick Reeve\", \"voice over DSL\", \"virtual private networks\", \"public access WLANs\"]\n"
     ]
    },
    {
     "name": "stderr",
     "output_type": "stream",
     "text": [
      " 19%|██████████████████████████████████████▏                                                                                                                                                                  | 19/100 [00:16<01:10,  1.15it/s]"
     ]
    },
    {
     "name": "stdout",
     "output_type": "stream",
     "text": [
      "extracted keywords: [\"basin configuration\", \"six-dimensional model\", \"electric power system\", \"stability\", \"global geometric structure\", \"basins of attraction\", \"dynamical system\", \"three machines\", \"infinite bus\", \"attractors\", \"intervention strategy\", \"numerical simulation\", \"state space\"]\n"
     ]
    },
    {
     "name": "stderr",
     "output_type": "stream",
     "text": [
      " 20%|████████████████████████████████████████▏                                                                                                                                                                | 20/100 [00:17<01:08,  1.16it/s]"
     ]
    },
    {
     "name": "stdout",
     "output_type": "stream",
     "text": [
      "extracted keywords: [\"ontology\", \"approximate reason\", \"agents\", \"information granules\", \"parameterized approximation spaces\", \"calculus of granules\", \"judgment\", \"decision rules\", \"reflective judgment\", \"sensor values\", \"attribute values\", \"recognition\"]\n"
     ]
    },
    {
     "name": "stderr",
     "output_type": "stream",
     "text": [
      " 21%|██████████████████████████████████████████▏                                                                                                                                                              | 21/100 [00:18<01:09,  1.13it/s]"
     ]
    },
    {
     "name": "stdout",
     "output_type": "stream",
     "text": [
      "extracted keywords: [\"Santera Systems\", \"independent telcos\", \"next-generation switching platform\", \"Kerman Telephone Co.\", \"Rural Utilities Service\", \"Class 5 replacement boxes\", \"major strategy overhaul\", \"Plano, Texas\", \"large carriers\", \"RBOCs\"]\n"
     ]
    },
    {
     "name": "stderr",
     "output_type": "stream",
     "text": [
      " 22%|████████████████████████████████████████████▏                                                                                                                                                            | 22/100 [00:18<01:05,  1.19it/s]"
     ]
    },
    {
     "name": "stdout",
     "output_type": "stream",
     "text": [
      "extracted keywords: [\"open hypermedia\", \"product support\", \"industrial systems\", \"information management\", \"manufacturing\", \"maintenance\", \"multimedia resource\", \"just-in-time support\"]\n"
     ]
    },
    {
     "name": "stderr",
     "output_type": "stream",
     "text": [
      " 23%|██████████████████████████████████████████████▏                                                                                                                                                          | 23/100 [00:19<01:07,  1.15it/s]"
     ]
    },
    {
     "name": "stdout",
     "output_type": "stream",
     "text": [
      "extracted keywords: [\"controls\", \"harmonic spray\", \"removing residues\", \"wafer-cleaning equipment\", \"Rockwell Automation\"]\n"
     ]
    },
    {
     "name": "stderr",
     "output_type": "stream",
     "text": [
      " 24%|████████████████████████████████████████████████▏                                                                                                                                                        | 24/100 [00:20<01:11,  1.06it/s]"
     ]
    },
    {
     "name": "stdout",
     "output_type": "stream",
     "text": [
      "extracted keywords: [\"network intrusion\", \"fault detection\", \"statistical anomaly\", \"global Internet\", \"electronic commerce\", \"adaptive detection\", \"automatic detection\", \"wide area data networks\", \"e-commerce infrastructures\", \"hierarchical multitier\", \"multiwindow\", \"wired networks\", \"wireless ad hoc networks\", \"statistical models\", \"multivariate classifiers\", \"anomalous network conditions\", \"traffic anomaly\"]\n"
     ]
    },
    {
     "name": "stderr",
     "output_type": "stream",
     "text": [
      " 25%|██████████████████████████████████████████████████▎                                                                                                                                                      | 25/100 [00:21<01:08,  1.10it/s]"
     ]
    },
    {
     "name": "stdout",
     "output_type": "stream",
     "text": [
      "extracted keywords: [\"scalable rekeying scheme\", \"secure group communication\", \"IP multicast\", \"Internet protocol multicast\", \"rekey operation\", \"group membership\", \"clustering\", \"Internet topology\", \"bandwidth usage\", \"processing costs\", \"storage requirements\"]\n"
     ]
    },
    {
     "name": "stderr",
     "output_type": "stream",
     "text": [
      " 26%|████████████████████████████████████████████████████▎                                                                                                                                                    | 26/100 [00:22<01:08,  1.08it/s]"
     ]
    },
    {
     "name": "stdout",
     "output_type": "stream",
     "text": [
      "extracted keywords: [\"watermarking techniques\", \"electronic delivery\", \"remote sensing images\", \"earth observation missions\", \"remotely sensed data\", \"image protection\", \"digital image distribution\", \"copyright protection\", \"watermarking technology\", \"requirements\", \"near-lossless watermarking\", \"unsupervised image classification\"]\n"
     ]
    },
    {
     "name": "stderr",
     "output_type": "stream",
     "text": [
      " 27%|██████████████████████████████████████████████████████▎                                                                                                                                                  | 27/100 [00:23<01:09,  1.05it/s]"
     ]
    },
    {
     "name": "stdout",
     "output_type": "stream",
     "text": [
      "extracted keywords: [\"standing phase angle\", \"power system restoration\", \"circuit breakers\", \"sensitivity factors\", \"synchro-check relay\", \"active power generation\", \"load shedding\", \"phase angle reduction\"]\n"
     ]
    },
    {
     "name": "stderr",
     "output_type": "stream",
     "text": [
      " 28%|████████████████████████████████████████████████████████▎                                                                                                                                                | 28/100 [00:24<01:05,  1.09it/s]"
     ]
    },
    {
     "name": "stdout",
     "output_type": "stream",
     "text": [
      "extracted keywords: [\"feature recognition algorithms\", \"geometric models\", \"feature detection techniques\", \"depression and protrusion faces\", \"National Design Repository\", \"concavity techniques\", \"convex hull method\"]\n"
     ]
    },
    {
     "name": "stderr",
     "output_type": "stream",
     "text": [
      " 29%|██████████████████████████████████████████████████████████▎                                                                                                                                              | 29/100 [00:25<01:01,  1.16it/s]"
     ]
    },
    {
     "name": "stdout",
     "output_type": "stream",
     "text": [
      "extracted keywords: [\"Sigma-admissible families\", \"linear orders\", \"admissible sets\", \"recursively saturated system\", \"Sigma-regular families\", \"fundamental subsets\", \"dense linear orderings\"]\n"
     ]
    },
    {
     "name": "stderr",
     "output_type": "stream",
     "text": [
      " 30%|████████████████████████████████████████████████████████████▎                                                                                                                                            | 30/100 [00:26<01:00,  1.15it/s]"
     ]
    },
    {
     "name": "stdout",
     "output_type": "stream",
     "text": [
      "extracted keywords: [\"Web-based listings\", \"electronic journals\", \"automatic data export\", \"online catalog\", \"dynamically-generated Web sites\", \"subject specialists\", \"updating titles\", \"increased usage\"]\n"
     ]
    },
    {
     "name": "stderr",
     "output_type": "stream",
     "text": [
      " 31%|██████████████████████████████████████████████████████████████▎                                                                                                                                          | 31/100 [00:26<00:57,  1.20it/s]"
     ]
    },
    {
     "name": "stdout",
     "output_type": "stream",
     "text": [
      "extracted keywords: [\"Web services\", \"technology hype\", \"financial sector\", \"Internet-related innovation\", \"finance technology\", \"customer management\", \"business\", \"bank\", \"operations\"]\n"
     ]
    },
    {
     "name": "stderr",
     "output_type": "stream",
     "text": [
      " 32%|████████████████████████████████████████████████████████████████▎                                                                                                                                        | 32/100 [00:27<00:56,  1.20it/s]"
     ]
    },
    {
     "name": "stdout",
     "output_type": "stream",
     "text": [
      "extracted keywords: [\"volumetric technique\", \"surface triangulations\", \"isosurfaces\", \"adaptive grid\", \"Delaunay triangulation\", \"point enrichment\", \"Boolean operations\", \"multi-component objects\", \"engineering applications\", \"grid generation\"]\n"
     ]
    },
    {
     "name": "stderr",
     "output_type": "stream",
     "text": [
      " 33%|██████████████████████████████████████████████████████████████████▎                                                                                                                                      | 33/100 [00:28<00:53,  1.25it/s]"
     ]
    },
    {
     "name": "stdout",
     "output_type": "stream",
     "text": [
      "extracted keywords: [\"Radianz\", \"Savvis\", \"telecommunications\", \"network providers\", \"investment banks\", \"brokerage houses\", \"exchanges\", \"alternative-trading systems\"]\n"
     ]
    },
    {
     "name": "stderr",
     "output_type": "stream",
     "text": [
      " 34%|████████████████████████████████████████████████████████████████████▎                                                                                                                                    | 34/100 [00:29<00:51,  1.28it/s]"
     ]
    },
    {
     "name": "stdout",
     "output_type": "stream",
     "text": [
      "extracted keywords: [\"Q-learning\", \"risk-sensitive control\", \"finite Markov chains\", \"algorithm\", \"convergence\", \"stochastic approximation\", \"o.d.e. approach\"]\n"
     ]
    },
    {
     "name": "stderr",
     "output_type": "stream",
     "text": [
      " 35%|██████████████████████████████████████████████████████████████████████▎                                                                                                                                  | 35/100 [00:29<00:49,  1.31it/s]"
     ]
    },
    {
     "name": "stdout",
     "output_type": "stream",
     "text": [
      "extracted keywords: [\"Web accessibility\", \"I&R services\", \"disabilities\", \"design issues\", \"practical advice\", \"accessibility problems\", \"resources\", \"simulation sites\"]\n"
     ]
    },
    {
     "name": "stderr",
     "output_type": "stream",
     "text": [
      " 36%|████████████████████████████████████████████████████████████████████████▎                                                                                                                                | 36/100 [00:30<00:49,  1.28it/s]"
     ]
    },
    {
     "name": "stdout",
     "output_type": "stream",
     "text": [
      "extracted keywords: [\"approximation theory\", \"fuzzy systems\", \"genuine many-valued implications\", \"universal approximators\", \"SISO\", \"fuzzy control systems\", \"t-norm implications\", \"defuzzifier\", \"center of areas\"]\n"
     ]
    },
    {
     "name": "stderr",
     "output_type": "stream",
     "text": [
      " 37%|██████████████████████████████████████████████████████████████████████████▎                                                                                                                              | 37/100 [00:31<00:51,  1.22it/s]"
     ]
    },
    {
     "name": "stdout",
     "output_type": "stream",
     "text": [
      "extracted keywords: [\"rapid 3D positioning\", \"construction automation\", \"local area modeling\", \"equipment optimization\", \"safety improvement\", \"remote operator\", \"spatial perception\", \"3D modeling\", \"construction equipment\", \"CAD models\", \"laser rangefinders\", \"remote video cameras\"]\n"
     ]
    },
    {
     "name": "stderr",
     "output_type": "stream",
     "text": [
      " 38%|████████████████████████████████████████████████████████████████████████████▍                                                                                                                            | 38/100 [00:32<00:48,  1.28it/s]"
     ]
    },
    {
     "name": "stdout",
     "output_type": "stream",
     "text": [
      "extracted keywords: [\"genetic algorithm\", \"automatic generation control\", \"power systems\", \"integral controllers\", \"frequency bias\", \"optimization\", \"control parameters\"]\n"
     ]
    },
    {
     "name": "stderr",
     "output_type": "stream",
     "text": [
      " 39%|██████████████████████████████████████████████████████████████████████████████▍                                                                                                                          | 39/100 [00:33<00:48,  1.27it/s]"
     ]
    },
    {
     "name": "stdout",
     "output_type": "stream",
     "text": [
      "extracted keywords: [\"EM algorithm\", \"recursive models\", \"categorical variables\", \"initial values\", \"compensation\", \"calibrated initials\", \"simulation result\", \"true values\"]\n"
     ]
    },
    {
     "name": "stderr",
     "output_type": "stream",
     "text": [
      " 40%|████████████████████████████████████████████████████████████████████████████████▍                                                                                                                        | 40/100 [01:09<11:21, 11.35s/it]"
     ]
    },
    {
     "name": "stdout",
     "output_type": "stream",
     "text": [
      "extracted keywords: [\"modified signed-digit addition\", \"binary logic gates\", \"parallel computing\", \"encoding\", \"binary bits\", \"carry propagation\", \"optical shadow-casting logic system\"]\n"
     ]
    },
    {
     "name": "stderr",
     "output_type": "stream",
     "text": [
      " 41%|██████████████████████████████████████████████████████████████████████████████████▍                                                                                                                      | 41/100 [01:10<08:04,  8.21s/it]"
     ]
    },
    {
     "name": "stdout",
     "output_type": "stream",
     "text": [
      "extracted keywords: [\"dial-a-ride problems\", \"feasibility testing\", \"routing\", \"scheduling\", \"service constraints\", \"maximum wait time\", \"maximum ride time\", \"linear time\"]\n"
     ]
    },
    {
     "name": "stderr",
     "output_type": "stream",
     "text": [
      " 42%|████████████████████████████████████████████████████████████████████████████████████▍                                                                                                                    | 42/100 [01:12<06:17,  6.51s/it]"
     ]
    },
    {
     "name": "stdout",
     "output_type": "stream",
     "text": [
      "extracted keywords: [\"hybrid ML-EM algorithm\", \"maximum likelihood estimates\", \"semiparametric shared frailty models\", \"Cox proportional hazard models\", \"frailty random variable\", \"standard EM method\", \"direct maximum likelihood method\", \"frailty variance estimates\", \"asymptotic distribution\", \"semiparametric shared gamma frailty models\", \"log-normal frailty models\", \"Busselton Health Study\", \"coronary heart disease data\"]\n"
     ]
    },
    {
     "name": "stderr",
     "output_type": "stream",
     "text": [
      " 43%|██████████████████████████████████████████████████████████████████████████████████████▍                                                                                                                  | 43/100 [01:13<04:33,  4.80s/it]"
     ]
    },
    {
     "name": "stdout",
     "output_type": "stream",
     "text": [
      "extracted keywords: [\"professional cultures\", \"two-body opportunity\", \"two-body problem\", \"couple\", \"empathy\", \"academic job\", \"research universities\", \"teaching universities\", \"geographical relocation\"]\n"
     ]
    },
    {
     "name": "stderr",
     "output_type": "stream",
     "text": [
      " 44%|████████████████████████████████████████████████████████████████████████████████████████▍                                                                                                                | 44/100 [01:14<03:25,  3.68s/it]"
     ]
    },
    {
     "name": "stdout",
     "output_type": "stream",
     "text": [
      "extracted keywords: [\"adaptive wavelet methods\", \"operator equations\", \"symmetric positive definite problems\", \"indefinite systems\", \"unsymmetric systems\", \"least squares formulation\", \"Euclidean metric\", \"asymptotically optimal complexity\", \"wavelet-best N-term approximation\", \"numerical stabilization\", \"trial spaces\", \"LBB condition\"]\n"
     ]
    },
    {
     "name": "stderr",
     "output_type": "stream",
     "text": [
      " 45%|██████████████████████████████████████████████████████████████████████████████████████████▍                                                                                                              | 45/100 [01:15<02:38,  2.88s/it]"
     ]
    },
    {
     "name": "stdout",
     "output_type": "stream",
     "text": [
      "extracted keywords: [\"dynamic neighborhood structures\", \"parallel evolution strategies\", \"parallelizing\", \"evolutionary algorithms\", \"communication network\", \"spatially structured populations\", \"convergence speed\", \"convergence probability\", \"dynamic communication scheme\", \"evolution strategy\", \"diffusion model\", \"self-organization effects\", \"communication structures\", \"multimodal test function\"]\n"
     ]
    },
    {
     "name": "stderr",
     "output_type": "stream",
     "text": [
      " 46%|████████████████████████████████████████████████████████████████████████████████████████████▍                                                                                                            | 46/100 [01:16<02:02,  2.27s/it]"
     ]
    },
    {
     "name": "stdout",
     "output_type": "stream",
     "text": [
      "extracted keywords: [\"intelligent information gathering\", \"dynamic information mediators\", \"WWW\", \"information integration\", \"information sources\", \"cache reliability\", \"quality of answer\", \"artificial information integration\", \"flight information service\", \"FIFO method\"]\n"
     ]
    },
    {
     "name": "stderr",
     "output_type": "stream",
     "text": [
      " 47%|██████████████████████████████████████████████████████████████████████████████████████████████▍                                                                                                          | 47/100 [01:17<01:36,  1.82s/it]"
     ]
    },
    {
     "name": "stdout",
     "output_type": "stream",
     "text": [
      "extracted keywords: [\"knowledge management framework\", \"decision making\", \"humanitarian assistance\", \"disaster relief\", \"information technologies\", \"knowledge sharing\", \"crisis management\", \"emergency medical assistance\"]\n"
     ]
    },
    {
     "name": "stderr",
     "output_type": "stream",
     "text": [
      " 48%|████████████████████████████████████████████████████████████████████████████████████████████████▍                                                                                                        | 48/100 [01:18<01:21,  1.57s/it]"
     ]
    },
    {
     "name": "stdout",
     "output_type": "stream",
     "text": [
      "extracted keywords: [\"hierarchical neuro-fuzzy quadtree\", \"hybrid neuro-fuzzy systems\", \"artificial neural networks\", \"fuzzy systems\", \"quadtree\", \"learning algorithm\", \"benchmark applications\", \"sinc(x, y) function approximation\", \"Mackey Glass chaotic series\", \"two spirals problem\"]\n"
     ]
    },
    {
     "name": "stderr",
     "output_type": "stream",
     "text": [
      " 49%|██████████████████████████████████████████████████████████████████████████████████████████████████▍                                                                                                      | 49/100 [01:18<01:09,  1.37s/it]"
     ]
    },
    {
     "name": "stdout",
     "output_type": "stream",
     "text": [
      "extracted keywords: [\"min-max theorem\", \"feedback vertex set\", \"bipartite tournament\", \"cycle-vertex incidence matrix\", \"linear system\", \"totally dual integral\", \"packing and covering cycles\", \"polynomial time algorithms\", \"NP-complete\", \"cycle packing problem\"]\n"
     ]
    },
    {
     "name": "stderr",
     "output_type": "stream",
     "text": [
      " 50%|████████████████████████████████████████████████████████████████████████████████████████████████████▌                                                                                                    | 50/100 [01:19<01:00,  1.21s/it]"
     ]
    },
    {
     "name": "stdout",
     "output_type": "stream",
     "text": [
      "extracted keywords: [\"recruitment\", \"retention\", \"women graduate students\", \"computer science\", \"engineering\", \"workshop\", \"Computing Research Association\", \"CSE graduate programs\", \"social scientists\", \"practical advice\", \"recommendations\"]\n"
     ]
    },
    {
     "name": "stderr",
     "output_type": "stream",
     "text": [
      " 51%|██████████████████████████████████████████████████████████████████████████████████████████████████████▌                                                                                                  | 51/100 [01:20<00:54,  1.11s/it]"
     ]
    },
    {
     "name": "stdout",
     "output_type": "stream",
     "text": [
      "extracted keywords: [\"Speedera\", \"Content Delivery Networks\", \"Internet experience\", \"Web pages\", \"responsiveness\", \"Web interaction\", \"web-based business\", \"delivery quality\", \"performance\", \"scalability\", \"security\", \"outsourced service\", \"IT costs\"]\n"
     ]
    },
    {
     "name": "stderr",
     "output_type": "stream",
     "text": [
      " 52%|████████████████████████████████████████████████████████████████████████████████████████████████████████▌                                                                                                | 52/100 [01:21<00:48,  1.01s/it]"
     ]
    },
    {
     "name": "stdout",
     "output_type": "stream",
     "text": [
      "extracted keywords: [\"sliding-mode observer\", \"speed-sensorless control\", \"induction machine\", \"algorithm\", \"field-oriented drive\", \"flux estimation\", \"speed estimation\", \"parameter uncertainties\", \"simulation\", \"experimental results\"]\n"
     ]
    },
    {
     "name": "stderr",
     "output_type": "stream",
     "text": [
      " 53%|██████████████████████████████████████████████████████████████████████████████████████████████████████████▌                                                                                              | 53/100 [01:22<00:42,  1.10it/s]"
     ]
    },
    {
     "name": "stdout",
     "output_type": "stream",
     "text": [
      "extracted keywords: [\"universal quantum deleting machine\", \"non-optimal\", \"fidelity\", \"quantum cloning\", \"Buzek and Hillery\"]\n"
     ]
    },
    {
     "name": "stderr",
     "output_type": "stream",
     "text": [
      " 54%|████████████████████████████████████████████████████████████████████████████████████████████████████████████▌                                                                                            | 54/100 [01:23<00:45,  1.01it/s]"
     ]
    },
    {
     "name": "stdout",
     "output_type": "stream",
     "text": [
      "extracted keywords: [\"adjoint-based optimization\", \"steady suction\", \"disturbance control\", \"incompressible flows\", \"quasi-three-dimensional boundary layers\", \"parabolized stability equations\", \"gradient-based optimization\", \"Tollmien-Schlichting waves\", \"stabilization procedure\", \"mean flow modifications\", \"favourable pressure gradient\", \"cross-flow mode\"]\n"
     ]
    },
    {
     "name": "stderr",
     "output_type": "stream",
     "text": [
      " 55%|██████████████████████████████████████████████████████████████████████████████████████████████████████████████▌                                                                                          | 55/100 [01:24<00:46,  1.04s/it]"
     ]
    },
    {
     "name": "stdout",
     "output_type": "stream",
     "text": [
      "extracted keywords: [\"storage functions\", \"Lyapunov functions\", \"passive dynamical systems\", \"nonlinear time-invariant systems\", \"dissipation inequality\", \"linear system\", \"fading memory\", \"linear relaxation systems\", \"quadratic Lyapunov function\", \"nonequilibrium thermodynamics\", \"automatic control\", \"viscoelastic materials\", \"system theory\"]\n"
     ]
    },
    {
     "name": "stderr",
     "output_type": "stream",
     "text": [
      " 56%|████████████████████████████████████████████████████████████████████████████████████████████████████████████████▌                                                                                        | 56/100 [01:25<00:42,  1.03it/s]"
     ]
    },
    {
     "name": "stdout",
     "output_type": "stream",
     "text": [
      "extracted keywords: [\"axiomatization\", \"market games\", \"core\", \"nonemptiness\", \"individual rationality\", \"superadditivity\", \"reduced game property\", \"weak symmetry\", \"transitive 4-person TU game\"]\n"
     ]
    },
    {
     "name": "stderr",
     "output_type": "stream",
     "text": [
      " 57%|██████████████████████████████████████████████████████████████████████████████████████████████████████████████████▌                                                                                      | 57/100 [01:26<00:40,  1.06it/s]"
     ]
    },
    {
     "name": "stdout",
     "output_type": "stream",
     "text": [
      "extracted keywords: [\"quantum-state information retrieval\", \"Rydberg-atom data register\", \"quantum search protocol\", \"phase information\", \"half-cycle electric field pulse\", \"phase retrieval\", \"coherent control\", \"wave packet\", \"energy eigenstates\"]\n"
     ]
    },
    {
     "name": "stderr",
     "output_type": "stream",
     "text": [
      " 58%|████████████████████████████████████████████████████████████████████████████████████████████████████████████████████▌                                                                                    | 58/100 [01:27<00:39,  1.06it/s]"
     ]
    },
    {
     "name": "stdout",
     "output_type": "stream",
     "text": [
      "extracted keywords: [\"FLID-DL\", \"congestion control\", \"layered multicast\", \"dynamic layering\", \"RLC\", \"IGMP leave latencies\", \"scalable\", \"receiver-driven\", \"synchronization points\", \"throughput\", \"fairness properties\"]\n"
     ]
    },
    {
     "name": "stderr",
     "output_type": "stream",
     "text": [
      " 59%|██████████████████████████████████████████████████████████████████████████████████████████████████████████████████████▌                                                                                  | 59/100 [01:27<00:37,  1.11it/s]"
     ]
    },
    {
     "name": "stdout",
     "output_type": "stream",
     "text": [
      "extracted keywords: [\"stability constant\", \"Crank-Nicolson scheme\", \"one-dimensional heat equation\", \"discrete Laplacian\", \"Cauchy formula\", \"Dirichlet boundary conditions\", \"Neumann boundary conditions\"]\n"
     ]
    },
    {
     "name": "stderr",
     "output_type": "stream",
     "text": [
      " 60%|████████████████████████████████████████████████████████████████████████████████████████████████████████████████████████▌                                                                                | 60/100 [01:28<00:34,  1.16it/s]"
     ]
    },
    {
     "name": "stdout",
     "output_type": "stream",
     "text": [
      "extracted keywords: [\"timed mu CRL\", \"process algebra\", \"data\", \"time\", \"soundness\", \"completeness\", \"operational semantics\", \"axioms\", \"mapping\"]\n"
     ]
    },
    {
     "name": "stderr",
     "output_type": "stream",
     "text": [
      " 61%|██████████████████████████████████████████████████████████████████████████████████████████████████████████████████████████▌                                                                              | 61/100 [01:29<00:32,  1.19it/s]"
     ]
    },
    {
     "name": "stdout",
     "output_type": "stream",
     "text": [
      "extracted keywords: [\"networking\", \"wireless\", \"devices\", \"radio transmitters\", \"data\", \"WLANs\", \"wireless local area networks\", \"cables\", \"costs\", \"benefits\"]\n"
     ]
    },
    {
     "name": "stderr",
     "output_type": "stream",
     "text": [
      " 62%|████████████████████████████████████████████████████████████████████████████████████████████████████████████████████████████▌                                                                            | 62/100 [01:30<00:33,  1.13it/s]"
     ]
    },
    {
     "name": "stdout",
     "output_type": "stream",
     "text": [
      "extracted keywords: [\"network simplex algorithm\", \"pivot rule\", \"primal simplex algorithm\", \"minimum cost flow problem\", \"degeneracy\", \"cycling\", \"strongly feasible bases\", \"exponentially long sequence\", \"degenerate pivots\", \"anti-stalling pivot rule\", \"negative cost augmenting cycle\"]\n"
     ]
    },
    {
     "name": "stderr",
     "output_type": "stream",
     "text": [
      " 63%|██████████████████████████████████████████████████████████████████████████████████████████████████████████████████████████████▋                                                                          | 63/100 [01:31<00:32,  1.13it/s]"
     ]
    },
    {
     "name": "stdout",
     "output_type": "stream",
     "text": [
      "extracted keywords: [\"end system multicast\", \"IP multicast\", \"Narada protocol\", \"multicast functionality\", \"scalability\", \"network management\", \"deployment\", \"error control\", \"flow control\", \"congestion control\", \"performance concerns\", \"overlay structure\", \"network dynamics\", \"Internet experiments\"]\n"
     ]
    },
    {
     "name": "stderr",
     "output_type": "stream",
     "text": [
      " 64%|████████████████████████████████████████████████████████████████████████████████████████████████████████████████████████████████▋                                                                        | 64/100 [01:31<00:29,  1.21it/s]"
     ]
    },
    {
     "name": "stdout",
     "output_type": "stream",
     "text": [
      "extracted keywords: [\"block implicit methods\", \"ODEs\", \"nonlinear splittings\", \"numerical method\", \"parallel computers\", \"numerical tests\"]\n"
     ]
    },
    {
     "name": "stderr",
     "output_type": "stream",
     "text": [
      " 65%|██████████████████████████████████████████████████████████████████████████████████████████████████████████████████████████████████▋                                                                      | 65/100 [01:33<00:33,  1.05it/s]"
     ]
    },
    {
     "name": "stdout",
     "output_type": "stream",
     "text": [
      "extracted keywords: [\"active vibration control\", \"piezolaminated smart beams\", \"piezoelectric sensor\", \"actuator layers\", \"finite element model\", \"Euler-Bernoulli beam theory\", \"mass and stiffness\", \"control strategies\", \"direct proportional feedback\", \"negative velocity feedback\", \"Lyapunov feedback\", \"linear quadratic regulator\", \"LQR\", \"control performance\", \"impulse loading\", \"step loading\", \"harmonic loading\", \"random loading\"]\n"
     ]
    },
    {
     "name": "stderr",
     "output_type": "stream",
     "text": [
      " 66%|████████████████████████████████████████████████████████████████████████████████████████████████████████████████████████████████████▋                                                                    | 66/100 [01:34<00:30,  1.10it/s]"
     ]
    },
    {
     "name": "stdout",
     "output_type": "stream",
     "text": [
      "extracted keywords: [\"multi-agent collaboration\", \"B2B workflow monitoring\", \"dynamic application environments\", \"workflow management\", \"distributed knowledge\", \"transaction risk\", \"intelligent agents\", \"business rules\", \"procurement processes\", \"transaction processes\"]\n"
     ]
    },
    {
     "name": "stderr",
     "output_type": "stream",
     "text": [
      " 67%|██████████████████████████████████████████████████████████████████████████████████████████████████████████████████████████████████████▋                                                                  | 67/100 [01:35<00:32,  1.02it/s]"
     ]
    },
    {
     "name": "stdout",
     "output_type": "stream",
     "text": [
      "extracted keywords: [\"pipeline shrinkage\", \"women in computer science\", \"training stages\", \"role models\", \"women faculty\", \"specific recommendations\", \"further study\"]\n"
     ]
    },
    {
     "name": "stderr",
     "output_type": "stream",
     "text": [
      " 68%|████████████████████████████████████████████████████████████████████████████████████████████████████████████████████████████████████████▋                                                                | 68/100 [01:36<00:33,  1.06s/it]"
     ]
    },
    {
     "name": "stdout",
     "output_type": "stream",
     "text": [
      "extracted keywords: [\"high-resolution\", \"high-frequency\", \"monolithic\", \"microinjector\", \"fabrication\", \"implementation\", \"characterization\", \"thermal driven\", \"bubble check valve\", \"microfabrication\", \"micromachining\", \"silicon wafer\", \"solvents\", \"fuels\", \"droplet ejection\", \"nozzle\", \"35 kHz frequency\", \"droplet volume\", \"10 mu m diameter\", \"commercial inkjets\", \"visualization results\"]\n"
     ]
    },
    {
     "name": "stderr",
     "output_type": "stream",
     "text": [
      " 69%|██████████████████████████████████████████████████████████████████████████████████████████████████████████████████████████████████████████▋                                                              | 69/100 [01:37<00:30,  1.01it/s]"
     ]
    },
    {
     "name": "stdout",
     "output_type": "stream",
     "text": [
      "extracted keywords: [\"Information-Based Semantics\", \"Content Atomism\", \"Language of Thought\", \"Dretske\", \"Fodor\", \"representations\", \"cognitive states\", \"semantic relations\", \"symbols\"]\n"
     ]
    },
    {
     "name": "stderr",
     "output_type": "stream",
     "text": [
      " 70%|████████████████████████████████████████████████████████████████████████████████████████████████████████████████████████████████████████████▋                                                            | 70/100 [01:38<00:32,  1.08s/it]"
     ]
    },
    {
     "name": "stdout",
     "output_type": "stream",
     "text": [
      "extracted keywords: [\"three-dimensional spiral MR imaging\", \"renal multiphase contrast-enhanced angiography\", \"spiral in-plane readout\", \"3D partition encoding\", \"magnetic resonance angiography\", \"renal vasculature\", \"isotropic in-plane spatial resolution\", \"spiral pulse sequence\", \"temporal resolution\", \"phantom measurements\", \"deblurring technique\", \"off-resonance frequencies\", \"image blurring\", \"image quality\", \"contrast-to-noise ratio\", \"spiral MRI artifacts\"]\n"
     ]
    },
    {
     "name": "stderr",
     "output_type": "stream",
     "text": [
      " 71%|██████████████████████████████████████████████████████████████████████████████████████████████████████████████████████████████████████████████▋                                                          | 71/100 [01:39<00:28,  1.02it/s]"
     ]
    },
    {
     "name": "stdout",
     "output_type": "stream",
     "text": [
      "extracted keywords: [\"double sampling\", \"s-control charts\", \"agile manufacturing\", \"process mean\", \"process standard deviation\", \"genetic algorithm\", \"small shifts\", \"optimization problem\", \"economic efficiency\"]\n"
     ]
    },
    {
     "name": "stderr",
     "output_type": "stream",
     "text": [
      " 72%|████████████████████████████████████████████████████████████████████████████████████████████████████████████████████████████████████████████████▋                                                        | 72/100 [01:40<00:26,  1.05it/s]"
     ]
    },
    {
     "name": "stdout",
     "output_type": "stream",
     "text": [
      "extracted keywords: [\"image deblurring\", \"wavelet packet bases\", \"convolution\", \"operator diagonal\", \"image blur\", \"deblurring methods\", \"variational method\", \"total variation\", \"ringing\", \"staircasing\"]\n"
     ]
    },
    {
     "name": "stderr",
     "output_type": "stream",
     "text": [
      " 73%|██████████████████████████████████████████████████████████████████████████████████████████████████████████████████████████████████████████████████▋                                                      | 73/100 [01:41<00:24,  1.09it/s]"
     ]
    },
    {
     "name": "stdout",
     "output_type": "stream",
     "text": [
      "extracted keywords: [\"attack-finding algorithm\", \"security protocols\", \"strand space model\", \"state space explosion\", \"strand-added on demand\", \"term structure\", \"intruder's knowledge\", \"Dolve-Yao protocol\"]\n"
     ]
    },
    {
     "name": "stderr",
     "output_type": "stream",
     "text": [
      " 74%|████████████████████████████████████████████████████████████████████████████████████████████████████████████████████████████████████████████████████▋                                                    | 74/100 [01:41<00:23,  1.09it/s]"
     ]
    },
    {
     "name": "stdout",
     "output_type": "stream",
     "text": [
      "extracted keywords: [\"flaw detection\", \"composites\", \"scattered elastic-wave field\", \"mu GA\", \"local optimizer\", \"optimization problem\", \"surface displacement response\", \"flaw parameters\", \"objective function\", \"error norms\", \"noise suppression\", \"numerical examples\"]\n"
     ]
    },
    {
     "name": "stderr",
     "output_type": "stream",
     "text": [
      " 75%|██████████████████████████████████████████████████████████████████████████████████████████████████████████████████████████████████████████████████████▊                                                  | 75/100 [01:42<00:22,  1.11it/s]"
     ]
    },
    {
     "name": "stdout",
     "output_type": "stream",
     "text": [
      "extracted keywords: [\"active pitch control\", \"fixed speed wind turbine\", \"linear controller design\", \"pitch angle control\", \"nonlinear equations\", \"linearisation\", \"digital simulation\", \"linear quadratic optimal feedback controller\", \"closed loop system\", \"control theory\"]\n"
     ]
    },
    {
     "name": "stderr",
     "output_type": "stream",
     "text": [
      " 76%|████████████████████████████████████████████████████████████████████████████████████████████████████████████████████████████████████████████████████████▊                                                | 76/100 [01:43<00:20,  1.18it/s]"
     ]
    },
    {
     "name": "stdout",
     "output_type": "stream",
     "text": [
      "extracted keywords: [\"C++\", \"unions\", \"nontrivial constructor\", \"destructor\", \"compiler\", \"scripting language\", \"composite type\", \"placement new\"]\n"
     ]
    },
    {
     "name": "stderr",
     "output_type": "stream",
     "text": [
      " 77%|██████████████████████████████████████████████████████████████████████████████████████████████████████████████████████████████████████████████████████████▊                                              | 77/100 [01:44<00:18,  1.23it/s]"
     ]
    },
    {
     "name": "stdout",
     "output_type": "stream",
     "text": [
      "extracted keywords: [\"gender-equitable\", \"computer science classroom\", \"nurturing environment\", \"women\", \"pedagogy\", \"CS courses\", \"inclusive\", \"classroom environment\"]\n"
     ]
    },
    {
     "name": "stderr",
     "output_type": "stream",
     "text": [
      " 78%|████████████████████████████████████████████████████████████████████████████████████████████████████████████████████████████████████████████████████████████▊                                            | 78/100 [01:45<00:17,  1.25it/s]"
     ]
    },
    {
     "name": "stdout",
     "output_type": "stream",
     "text": [
      "extracted keywords: [\"ventilation systems\", \"volumetric air supply rate\", \"cooling capacity\", \"displacement ventilation\", \"diffusers\", \"David Butler\", \"Michael Swainson\"]\n"
     ]
    },
    {
     "name": "stderr",
     "output_type": "stream",
     "text": [
      " 79%|██████████████████████████████████████████████████████████████████████████████████████████████████████████████████████████████████████████████████████████████▊                                          | 79/100 [01:45<00:15,  1.33it/s]"
     ]
    },
    {
     "name": "stdout",
     "output_type": "stream",
     "text": [
      "extracted keywords: [\"outsourced backup\", \"efficiency\", \"data backup\", \"secure automated system\", \"third party\"]\n"
     ]
    },
    {
     "name": "stderr",
     "output_type": "stream",
     "text": [
      " 80%|████████████████████████████████████████████████████████████████████████████████████████████████████████████████████████████████████████████████████████████████▊                                        | 80/100 [01:46<00:14,  1.39it/s]"
     ]
    },
    {
     "name": "stdout",
     "output_type": "stream",
     "text": [
      "extracted keywords: [\"UK health records\", \"electronic records project\", \"government\", \"cradle-to-grave\", \"viability\"]\n"
     ]
    },
    {
     "name": "stderr",
     "output_type": "stream",
     "text": [
      " 81%|██████████████████████████████████████████████████████████████████████████████████████████████████████████████████████████████████████████████████████████████████▊                                      | 81/100 [01:47<00:14,  1.35it/s]"
     ]
    },
    {
     "name": "stdout",
     "output_type": "stream",
     "text": [
      "extracted keywords: [\"two-sided bounds\", \"initial-boundary value problems\", \"bounding operator approach\", \"partial differential equations\", \"discretization methods\", \"error bound\", \"monotone extensions\", \"Rothe's method\", \"parabolic problems\"]\n"
     ]
    },
    {
     "name": "stderr",
     "output_type": "stream",
     "text": [
      " 82%|████████████████████████████████████████████████████████████████████████████████████████████████████████████████████████████████████████████████████████████████████▊                                    | 82/100 [01:48<00:17,  1.04it/s]"
     ]
    },
    {
     "name": "stdout",
     "output_type": "stream",
     "text": [
      "extracted keywords: [\"tracking control\", \"flexible slider-crank mechanism\", \"variable structure control\", \"pole placement technique\", \"stabilizer design\", \"crank angular position\", \"vibrations suppression\", \"generalized momentum balance\", \"continuous force model\", \"effective mass compensation\", \"energy conservation\", \"impulse-momentum conservation\", \"simulation results\"]\n"
     ]
    },
    {
     "name": "stderr",
     "output_type": "stream",
     "text": [
      " 83%|██████████████████████████████████████████████████████████████████████████████████████████████████████████████████████████████████████████████████████████████████████▊                                  | 83/100 [01:49<00:15,  1.10it/s]"
     ]
    },
    {
     "name": "stdout",
     "output_type": "stream",
     "text": [
      "extracted keywords: [\"summarization\", \"sentence compression\", \"probabilistic approach\", \"grammatical\", \"text/abstract pairs\", \"algorithms\", \"noisy-channel\", \"decision-tree\"]\n"
     ]
    },
    {
     "name": "stderr",
     "output_type": "stream",
     "text": [
      " 84%|████████████████████████████████████████████████████████████████████████████████████████████████████████████████████████████████████████████████████████████████████████▊                                | 84/100 [01:50<00:15,  1.03it/s]"
     ]
    },
    {
     "name": "stdout",
     "output_type": "stream",
     "text": [
      "extracted keywords: [\"tool temperature\", \"chip temperature\", \"finite difference method\", \"continuous machining\", \"interrupted machining\", \"heat transfer\", \"tool-rake face contact\", \"shear energy\", \"friction energy\", \"temperature distribution\", \"milling\", \"steady state\", \"transient temperature\", \"cutting operations\", \"mathematical models\", \"simulation results\", \"experimental measurements\"]\n"
     ]
    },
    {
     "name": "stderr",
     "output_type": "stream",
     "text": [
      " 85%|██████████████████████████████████████████████████████████████████████████████████████████████████████████████████████████████████████████████████████████████████████████▊                              | 85/100 [01:51<00:14,  1.07it/s]"
     ]
    },
    {
     "name": "stdout",
     "output_type": "stream",
     "text": [
      "extracted keywords: [\"heat equation\", \"numerical methods\", \"integral boundary conditions\", \"finite differences\", \"semidiscrete problem\", \"sectorial resolvent condition\", \"unconditional stability\", \"A(θ)-stable one-step methods\", \"maximum norm\"]\n"
     ]
    },
    {
     "name": "stderr",
     "output_type": "stream",
     "text": [
      " 86%|████████████████████████████████████████████████████████████████████████████████████████████████████████████████████████████████████████████████████████████████████████████▊                            | 86/100 [01:52<00:13,  1.06it/s]"
     ]
    },
    {
     "name": "stdout",
     "output_type": "stream",
     "text": [
      "extracted keywords: [\"ultrasonic sensors\", \"process industry\", \"process monitoring\", \"temperature\", \"pressure\", \"process parameters\", \"level\", \"flow\", \"concentration\", \"conversion\", \"product properties\", \"sensor systems\", \"food industry\", \"chemical industry\", \"pharmaceutical industry\", \"possibilities\", \"limitations\"]\n"
     ]
    },
    {
     "name": "stderr",
     "output_type": "stream",
     "text": [
      " 87%|██████████████████████████████████████████████████████████████████████████████████████████████████████████████████████████████████████████████████████████████████████████████▊                          | 87/100 [01:52<00:10,  1.18it/s]"
     ]
    },
    {
     "name": "stdout",
     "output_type": "stream",
     "text": [
      "extracted keywords: [\"Securities Industry Association\", \"T+1\", \"STP\"]\n"
     ]
    },
    {
     "name": "stderr",
     "output_type": "stream",
     "text": [
      " 88%|████████████████████████████████████████████████████████████████████████████████████████████████████████████████████████████████████████████████████████████████████████████████▉                        | 88/100 [01:53<00:10,  1.15it/s]"
     ]
    },
    {
     "name": "stdout",
     "output_type": "stream",
     "text": [
      "extracted keywords: [\"disposable mobiles\", \"reusable\", \"recyclable\", \"mobile phone\", \"niche markets\", \"simplified handsets\", \"US market\"]\n"
     ]
    },
    {
     "name": "stderr",
     "output_type": "stream",
     "text": [
      " 89%|██████████████████████████████████████████████████████████████████████████████████████████████████████████████████████████████████████████████████████████████████████████████████▉                      | 89/100 [01:54<00:09,  1.12it/s]"
     ]
    },
    {
     "name": "stdout",
     "output_type": "stream",
     "text": [
      "extracted keywords: [\"TCRM\", \"tuple inconsistency\", \"granulized datasets\", \"knowledge discovery\", \"tuple consistency recognition model\", \"inconsistent tuples\", \"empirical test\", \"real-life datasets\", \"equal width interval technique\", \"S-plus histogram binning algorithm\", \"largest binning size algorithm\"]\n"
     ]
    },
    {
     "name": "stderr",
     "output_type": "stream",
     "text": [
      " 90%|████████████████████████████████████████████████████████████████████████████████████████████████████████████████████████████████████████████████████████████████████████████████████▉                    | 90/100 [01:55<00:09,  1.11it/s]"
     ]
    },
    {
     "name": "stdout",
     "output_type": "stream",
     "text": [
      "extracted keywords: [\"super high definition\", \"WHD\", \"image transmission\", \"display projector\", \"CODECs\", \"camera system\", \"high-vision images\", \"reality-enhanced\", \"distortion correction\", \"transmission experiments\", \"subjective evaluation\"]\n"
     ]
    },
    {
     "name": "stderr",
     "output_type": "stream",
     "text": [
      " 91%|██████████████████████████████████████████████████████████████████████████████████████████████████████████████████████████████████████████████████████████████████████████████████████▉                  | 91/100 [01:56<00:08,  1.11it/s]"
     ]
    },
    {
     "name": "stdout",
     "output_type": "stream",
     "text": [
      "extracted keywords: [\"deterministic calculations\", \"photon spectra\", \"clinical accelerator targets\", \"photon energy spectra\", \"Boltzmann equation\", \"electron-photon transport\", \"Monte Carlo calculations\", \"therapy applications\", \"target materials\", \"electron beams\"]\n"
     ]
    },
    {
     "name": "stderr",
     "output_type": "stream",
     "text": [
      " 92%|████████████████████████████████████████████████████████████████████████████████████████████████████████████████████████████████████████████████████████████████████████████████████████▉                | 92/100 [01:57<00:07,  1.04it/s]"
     ]
    },
    {
     "name": "stdout",
     "output_type": "stream",
     "text": [
      "extracted keywords: [\"M/D/1 queue\", \"deterministic server vacations\", \"Poisson arrivals\", \"deterministic service\", \"constant duration\", \"M/D/D/1 model\", \"server vacation\", \"probability\", \"steady state\", \"probability generation functions\", \"mean number\", \"mean waiting time\", \"queue\", \"numerical illustration\"]\n"
     ]
    },
    {
     "name": "stderr",
     "output_type": "stream",
     "text": [
      " 93%|██████████████████████████████████████████████████████████████████████████████████████████████████████████████████████████████████████████████████████████████████████████████████████████▉              | 93/100 [01:59<00:07,  1.07s/it]"
     ]
    },
    {
     "name": "stdout",
     "output_type": "stream",
     "text": [
      "extracted keywords: [\"knowledge-based approach\", \"business process reengineering\", \"SHAMASH\", \"process modeling tool\", \"organisation standards\", \"functional structure\", \"model simulation\", \"optimisation\", \"knowledge acquisition\", \"architecture\", \"conceptual model\"]\n"
     ]
    },
    {
     "name": "stderr",
     "output_type": "stream",
     "text": [
      " 94%|████████████████████████████████████████████████████████████████████████████████████████████████████████████████████████████████████████████████████████████████████████████████████████████▉            | 94/100 [01:59<00:06,  1.04s/it]"
     ]
    },
    {
     "name": "stdout",
     "output_type": "stream",
     "text": [
      "extracted keywords: [\"gendered view\", \"computer professionals\", \"under-representation of women\", \"computing profession\", \"western world\", \"research project\", \"four countries\", \"perceptions\", \"employment\", \"female students\", \"male students\", \"influences\", \"computing courses\"]\n"
     ]
    },
    {
     "name": "stderr",
     "output_type": "stream",
     "text": [
      " 95%|██████████████████████████████████████████████████████████████████████████████████████████████████████████████████████████████████████████████████████████████████████████████████████████████▉          | 95/100 [02:01<00:05,  1.05s/it]"
     ]
    },
    {
     "name": "stdout",
     "output_type": "stream",
     "text": [
      "extracted keywords: [\"cerebellar adaptive timing\", \"recurrent slide and latch model\", \"neural network theory\", \"cerebellum\", \"mathematical modeling\", \"granule cell\", \"sparse expansive recoding\", \"distributed representation\", \"state-dependent control actions\", \"predictors\", \"scalability\"]\n"
     ]
    },
    {
     "name": "stderr",
     "output_type": "stream",
     "text": [
      " 96%|████████████████████████████████████████████████████████████████████████████████████████████████████████████████████████████████████████████████████████████████████████████████████████████████▉        | 96/100 [02:01<00:03,  1.07it/s]"
     ]
    },
    {
     "name": "stdout",
     "output_type": "stream",
     "text": [
      "extracted keywords: [\"telecom\", \"venture capital\", \"start-ups\", \"funding\", \"long-term viability\", \"dotcom frenzy\"]\n"
     ]
    },
    {
     "name": "stderr",
     "output_type": "stream",
     "text": [
      " 97%|██████████████████████████████████████████████████████████████████████████████████████████████████████████████████████████████████████████████████████████████████████████████████████████████████▉      | 97/100 [02:02<00:02,  1.08it/s]"
     ]
    },
    {
     "name": "stdout",
     "output_type": "stream",
     "text": [
      "extracted keywords: [\"XML\", \"business-to-business commerce\", \"impact analysis\", \"supply chain\", \"meta-data management\", \"information technology\", \"Business to Customer\", \"Business to Business\", \"Electronic Commerce\", \"BizTalk platform\", \"XML schema\", \"information exchange\"]\n"
     ]
    },
    {
     "name": "stderr",
     "output_type": "stream",
     "text": [
      " 98%|████████████████████████████████████████████████████████████████████████████████████████████████████████████████████████████████████████████████████████████████████████████████████████████████████▉    | 98/100 [02:03<00:01,  1.03it/s]"
     ]
    },
    {
     "name": "stdout",
     "output_type": "stream",
     "text": [
      "extracted keywords: [\"robot dynamics\", \"RBF-like neural architecture\", \"manipulator dynamics\", \"neural network\", \"structured modelling\", \"non-linear dependences\", \"joint positions\", \"hierarchically organised\", \"system analysis\", \"neuron placement\", \"B-spline polynomial\", \"online identification\", \"6 joint industrial robot\"]\n"
     ]
    },
    {
     "name": "stderr",
     "output_type": "stream",
     "text": [
      " 99%|██████████████████████████████████████████████████████████████████████████████████████████████████████████████████████████████████████████████████████████████████████████████████████████████████████▉  | 99/100 [02:04<00:00,  1.12it/s]"
     ]
    },
    {
     "name": "stdout",
     "output_type": "stream",
     "text": [
      "extracted keywords: [\"electronic reserves\", \"e-reserves system\", \"implementation study\", \"Long Island University\", \"Brooklyn campus\", \"library\"]\n"
     ]
    },
    {
     "name": "stderr",
     "output_type": "stream",
     "text": [
      "100%|████████████████████████████████████████████████████████████████████████████████████████████████████████████████████████████████████████████████████████████████████████████████████████████████████████| 100/100 [02:05<00:00,  1.25s/it]"
     ]
    },
    {
     "name": "stdout",
     "output_type": "stream",
     "text": [
      "extracted keywords: [\"ordered median problems\", \"location theory\", \"ordered median function\", \"objective function\", \"finite dominating sets\", \"polynomial time algorithms\", \"complexity analysis\"]\n"
     ]
    },
    {
     "name": "stderr",
     "output_type": "stream",
     "text": [
      "\n"
     ]
    }
   ],
   "source": [
    "from topic_modelling_techniques.llm_keyword_extraction import topic_extraction\n",
    "\n",
    "text_col='text'\n",
    "language = 'English'\n",
    "target_llm_column = 'llm_keywords'\n",
    "\n",
    "# extract topics using llm's (openai gpt-4o)\n",
    "df_sample = topic_extraction(df=df_sample,\n",
    "                             text_col=text_col,\n",
    "                             prompt_template=prompt_template_topics,\n",
    "                             gpt_model='gpt-4o',\n",
    "                             target_column_name=target_llm_column,\n",
    "                             language=language)"
   ]
  },
  {
   "cell_type": "code",
   "execution_count": 14,
   "id": "35218879-c5a5-45b4-9d54-2060be6b0c61",
   "metadata": {},
   "outputs": [
    {
     "name": "stderr",
     "output_type": "stream",
     "text": [
      "C:\\1. Python\\LLM_mods_Topic_Modelling\\venv\\Lib\\site-packages\\transformers\\tokenization_utils_base.py:1601: FutureWarning: `clean_up_tokenization_spaces` was not set. It will be set to `True` by default. This behavior will be depracted in transformers v4.45, and will be then set to `False` by default. For more details check this issue: https://github.com/huggingface/transformers/issues/31884\n",
      "  warnings.warn(\n"
     ]
    },
    {
     "name": "stdout",
     "output_type": "stream",
     "text": [
      "Available device for the model is: 'cuda'\n"
     ]
    },
    {
     "name": "stderr",
     "output_type": "stream",
     "text": [
      "100%|████████████████████████████████████████████████████████████████████████████████████████████████████████████████████████████████████████████████████████████████████████████████████████████████████████████| 4/4 [00:00<00:00,  5.15it/s]"
     ]
    },
    {
     "name": "stdout",
     "output_type": "stream",
     "text": [
      "Calculation of embeddings completed successfully\n"
     ]
    },
    {
     "name": "stderr",
     "output_type": "stream",
     "text": [
      "\n"
     ]
    },
    {
     "data": {
      "text/plain": [
       "89    0.222828\n",
       "1     0.155426\n",
       "72    0.069870\n",
       "68    0.422873\n",
       "77   -0.054437\n",
       "Name: cosine_similarity_llm, dtype: float64"
      ]
     },
     "execution_count": 14,
     "metadata": {},
     "output_type": "execute_result"
    }
   ],
   "source": [
    "df_sample['llm_keywords_str'] = df_sample['llm_keywords'].apply(lambda x: ' '.join(x))\n",
    "\n",
    "# create embeddings for lda keywords\n",
    "embeddings_llm_keywords = calc_embeddings(sentences=df_sample['llm_keywords_str'].to_list())\n",
    "# Reduce the dimensionality of lda keyword embeddings\n",
    "reduced_data_llm = pca.fit_transform(embeddings_llm_keywords)\n",
    "# add a column for embeddings\n",
    "df_sample['llm_keyword_embeddings'] = list(reduced_data_llm)\n",
    "\n",
    "\n",
    "# Now you can call this function and add the cosine similarity column to your DataFrame\n",
    "df_sample, similarity_column_llm = compare_keyword_embeddings(df=df_sample,\n",
    "                                       original_column='original_keyword_embeddings',\n",
    "                                       column_for_comparison='llm_keyword_embeddings',\n",
    "                                       final_column_suffix='llm'\n",
    "                                      )\n",
    "\n",
    "# plot a sample of similarity scores\n",
    "df_sample[similarity_column_llm].sample(5)"
   ]
  },
  {
   "cell_type": "code",
   "execution_count": 15,
   "id": "9f57290b-9d33-4d7f-b36c-08e6ed89f05f",
   "metadata": {},
   "outputs": [
    {
     "data": {
      "image/png": "[encoded data removed]",
      "text/plain": [
       "<Figure size 1200x800 with 1 Axes>"
      ]
     },
     "metadata": {},
     "output_type": "display_data"
    }
   ],
   "source": [
    "import numpy as np\n",
    "import matplotlib.pyplot as plt\n",
    "from scipy.stats import norm\n",
    "\n",
    "def plot_gaussian(df, similarity_columns):\n",
    "    \"\"\"\n",
    "    Plot the similarity scores as a Gaussian distribution.\n",
    "    \n",
    "    Parameters:\n",
    "    df (DataFrame): Input dataframe containing similarity scores.\n",
    "    similarity_columns (str): Column name of the similarity scores.\n",
    "    \n",
    "    Returns:\n",
    "    None: Plots the Gaussian distribution.\n",
    "    \"\"\"\n",
    "    fig, ax = plt.subplots(figsize=(12, 8))\n",
    "    \n",
    "    for column in similarity_columns:\n",
    "        # Calculate the mean and standard deviation\n",
    "        mean_similarity = df[column].mean()\n",
    "        std_similarity = df[column].std()\n",
    "    \n",
    "        # Generate x values (range of similarity scores)\n",
    "        x = np.linspace(mean_similarity - 4*std_similarity, mean_similarity + 4*std_similarity, 100)\n",
    "        # Generate y values using the Gaussian formula (normal distribution)\n",
    "        y = norm.pdf(x, mean_similarity, std_similarity)\n",
    "        method_name = column.split('_')[2]  \n",
    "        # Plot the Gaussian curve\n",
    "        ax.plot(x, y, label=f'Gaussian {method_name}\\nMean = {mean_similarity:.2f}\\nStd = {std_similarity:.2f}')\n",
    "        # Plot histogram of actual similarity values\n",
    "        ax.hist(df[column], bins=30, density=True, alpha=0.6, label=f'Hist {method_name}')\n",
    "\n",
    "    # Add labels and title\n",
    "    plt.title(\"Gaussian Fit to Similarity Scores\")\n",
    "    ax.set_xlabel('Similarity Score')\n",
    "    ax.set_ylabel('Density')\n",
    "    # Show legend\n",
    "    ax.legend() \n",
    "    # Show plot\n",
    "    plt.show()\n",
    "\n",
    "# Example usage:\n",
    "plot_gaussian(df=df_sample, similarity_columns=['cosine_similarity_lda', 'cosine_similarity_llm'])"
   ]
  },
  {
   "cell_type": "code",
   "execution_count": null,
   "id": "83d20b6a-1d97-48d6-bdd5-79756bca0994",
   "metadata": {},
   "outputs": [],
   "source": []
  }
 ],
 "metadata": {
  "kernelspec": {
   "display_name": "Python 3 (ipykernel)",
   "language": "python",
   "name": "python3"
  },
  "language_info": {
   "codemirror_mode": {
    "name": "ipython",
    "version": 3
   },
   "file_extension": ".py",
   "mimetype": "text/x-python",
   "name": "python",
   "nbconvert_exporter": "python",
   "pygments_lexer": "ipython3",
   "version": "3.11.3"
  }
 },
 "nbformat": 4,
 "nbformat_minor": 5
}
